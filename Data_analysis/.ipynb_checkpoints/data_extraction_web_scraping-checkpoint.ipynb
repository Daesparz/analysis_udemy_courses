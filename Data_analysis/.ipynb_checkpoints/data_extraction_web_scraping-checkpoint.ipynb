{
 "cells": [
  {
   "cell_type": "markdown",
   "metadata": {},
   "source": [
    "# Web Scraping to complete the dataset"
   ]
  },
  {
   "cell_type": "code",
   "execution_count": 1,
   "metadata": {},
   "outputs": [],
   "source": [
    "import re\n",
    "import time\n",
    "import pandas as pd\n",
    "import seaborn as sns\n",
    "from urllib.request import Request, urlopen\n",
    "from bs4 import BeautifulSoup as soup"
   ]
  },
  {
   "cell_type": "code",
   "execution_count": 2,
   "metadata": {},
   "outputs": [],
   "source": [
    "from urllib.request import urlopen\n",
    "from urllib.error import HTTPError\n",
    "from bs4 import BeautifulSoup"
   ]
  },
  {
   "cell_type": "code",
   "execution_count": 3,
   "metadata": {},
   "outputs": [],
   "source": [
    "df_courses = pd.read_csv('../Data/interim/Courses.csv')"
   ]
  },
  {
   "cell_type": "code",
   "execution_count": 4,
   "metadata": {},
   "outputs": [
    {
     "data": {
      "text/html": [
       "<div>\n",
       "<style scoped>\n",
       "    .dataframe tbody tr th:only-of-type {\n",
       "        vertical-align: middle;\n",
       "    }\n",
       "\n",
       "    .dataframe tbody tr th {\n",
       "        vertical-align: top;\n",
       "    }\n",
       "\n",
       "    .dataframe thead th {\n",
       "        text-align: right;\n",
       "    }\n",
       "</style>\n",
       "<table border=\"1\" class=\"dataframe\">\n",
       "  <thead>\n",
       "    <tr style=\"text-align: right;\">\n",
       "      <th></th>\n",
       "      <th>id</th>\n",
       "      <th>title</th>\n",
       "      <th>url</th>\n",
       "      <th>isPaid</th>\n",
       "      <th>price</th>\n",
       "      <th>numSubscribers</th>\n",
       "      <th>numReviews</th>\n",
       "      <th>numPublishedLectures</th>\n",
       "      <th>instructionalLevel</th>\n",
       "      <th>contentInfo</th>\n",
       "      <th>publishedTime</th>\n",
       "      <th>category</th>\n",
       "      <th>timeSpent</th>\n",
       "      <th>publishDate</th>\n",
       "      <th>level</th>\n",
       "      <th>paidBool</th>\n",
       "    </tr>\n",
       "  </thead>\n",
       "  <tbody>\n",
       "    <tr>\n",
       "      <th>0</th>\n",
       "      <td>28295</td>\n",
       "      <td>Learn Web Designing &amp; HTML5/CSS3 Essentials in...</td>\n",
       "      <td>https://www.udemy.com/build-beautiful-html5-we...</td>\n",
       "      <td>True</td>\n",
       "      <td>75.0</td>\n",
       "      <td>43285</td>\n",
       "      <td>525</td>\n",
       "      <td>24</td>\n",
       "      <td>All Levels</td>\n",
       "      <td>4 hours</td>\n",
       "      <td>2013-01-03T00:55:31Z</td>\n",
       "      <td>WebDevelopment</td>\n",
       "      <td>4.0</td>\n",
       "      <td>2013-01-03</td>\n",
       "      <td>All Levels</td>\n",
       "      <td>True</td>\n",
       "    </tr>\n",
       "    <tr>\n",
       "      <th>1</th>\n",
       "      <td>19603</td>\n",
       "      <td>Learning Dynamic Website Design - PHP MySQL an...</td>\n",
       "      <td>https://www.udemy.com/learning-dynamic-website...</td>\n",
       "      <td>True</td>\n",
       "      <td>50.0</td>\n",
       "      <td>47886</td>\n",
       "      <td>285</td>\n",
       "      <td>125</td>\n",
       "      <td>All Levels</td>\n",
       "      <td>12.5 hours</td>\n",
       "      <td>2012-06-18T16:52:34Z</td>\n",
       "      <td>WebDevelopment</td>\n",
       "      <td>12.5</td>\n",
       "      <td>2012-06-18</td>\n",
       "      <td>All Levels</td>\n",
       "      <td>True</td>\n",
       "    </tr>\n",
       "    <tr>\n",
       "      <th>2</th>\n",
       "      <td>889438</td>\n",
       "      <td>ChatBots: Messenger ChatBot with API.AI and No...</td>\n",
       "      <td>https://www.udemy.com/chatbots/</td>\n",
       "      <td>True</td>\n",
       "      <td>50.0</td>\n",
       "      <td>2577</td>\n",
       "      <td>529</td>\n",
       "      <td>64</td>\n",
       "      <td>All Levels</td>\n",
       "      <td>4.5 hours</td>\n",
       "      <td>2016-06-30T16:57:08Z</td>\n",
       "      <td>WebDevelopment</td>\n",
       "      <td>4.5</td>\n",
       "      <td>2016-06-30</td>\n",
       "      <td>All Levels</td>\n",
       "      <td>True</td>\n",
       "    </tr>\n",
       "    <tr>\n",
       "      <th>3</th>\n",
       "      <td>197836</td>\n",
       "      <td>Projects in HTML5</td>\n",
       "      <td>https://www.udemy.com/projects-in-html5/</td>\n",
       "      <td>True</td>\n",
       "      <td>60.0</td>\n",
       "      <td>8777</td>\n",
       "      <td>206</td>\n",
       "      <td>75</td>\n",
       "      <td>Intermediate Level</td>\n",
       "      <td>15.5 hours</td>\n",
       "      <td>2014-06-17T05:43:50Z</td>\n",
       "      <td>WebDevelopment</td>\n",
       "      <td>15.5</td>\n",
       "      <td>2014-06-17</td>\n",
       "      <td>Intermediate Level</td>\n",
       "      <td>True</td>\n",
       "    </tr>\n",
       "    <tr>\n",
       "      <th>4</th>\n",
       "      <td>505208</td>\n",
       "      <td>Programming Foundations: HTML5 + CSS3 for Entr...</td>\n",
       "      <td>https://www.udemy.com/html-css-more/</td>\n",
       "      <td>True</td>\n",
       "      <td>20.0</td>\n",
       "      <td>23764</td>\n",
       "      <td>490</td>\n",
       "      <td>58</td>\n",
       "      <td>Beginner Level</td>\n",
       "      <td>5.5 hours</td>\n",
       "      <td>2015-10-17T04:52:25Z</td>\n",
       "      <td>WebDevelopment</td>\n",
       "      <td>5.5</td>\n",
       "      <td>2015-10-17</td>\n",
       "      <td>Beginner Level</td>\n",
       "      <td>True</td>\n",
       "    </tr>\n",
       "  </tbody>\n",
       "</table>\n",
       "</div>"
      ],
      "text/plain": [
       "       id                                              title  \\\n",
       "0   28295  Learn Web Designing & HTML5/CSS3 Essentials in...   \n",
       "1   19603  Learning Dynamic Website Design - PHP MySQL an...   \n",
       "2  889438  ChatBots: Messenger ChatBot with API.AI and No...   \n",
       "3  197836                                  Projects in HTML5   \n",
       "4  505208  Programming Foundations: HTML5 + CSS3 for Entr...   \n",
       "\n",
       "                                                 url  isPaid  price  \\\n",
       "0  https://www.udemy.com/build-beautiful-html5-we...    True   75.0   \n",
       "1  https://www.udemy.com/learning-dynamic-website...    True   50.0   \n",
       "2                    https://www.udemy.com/chatbots/    True   50.0   \n",
       "3           https://www.udemy.com/projects-in-html5/    True   60.0   \n",
       "4               https://www.udemy.com/html-css-more/    True   20.0   \n",
       "\n",
       "   numSubscribers  numReviews  numPublishedLectures  instructionalLevel  \\\n",
       "0           43285         525                    24          All Levels   \n",
       "1           47886         285                   125          All Levels   \n",
       "2            2577         529                    64          All Levels   \n",
       "3            8777         206                    75  Intermediate Level   \n",
       "4           23764         490                    58      Beginner Level   \n",
       "\n",
       "  contentInfo         publishedTime        category  timeSpent publishDate  \\\n",
       "0     4 hours  2013-01-03T00:55:31Z  WebDevelopment        4.0  2013-01-03   \n",
       "1  12.5 hours  2012-06-18T16:52:34Z  WebDevelopment       12.5  2012-06-18   \n",
       "2   4.5 hours  2016-06-30T16:57:08Z  WebDevelopment        4.5  2016-06-30   \n",
       "3  15.5 hours  2014-06-17T05:43:50Z  WebDevelopment       15.5  2014-06-17   \n",
       "4   5.5 hours  2015-10-17T04:52:25Z  WebDevelopment        5.5  2015-10-17   \n",
       "\n",
       "                level  paidBool  \n",
       "0          All Levels      True  \n",
       "1          All Levels      True  \n",
       "2          All Levels      True  \n",
       "3  Intermediate Level      True  \n",
       "4      Beginner Level      True  "
      ]
     },
     "execution_count": 4,
     "metadata": {},
     "output_type": "execute_result"
    }
   ],
   "source": [
    "df_courses.head()"
   ]
  },
  {
   "cell_type": "code",
   "execution_count": 5,
   "metadata": {},
   "outputs": [],
   "source": [
    "global headers\n",
    "\n",
    "headers = {\n",
    "        'user-agent': 'Mozilla/5.0 (Macintosh; Intel Mac OS X 10_15_1) AppleWebKit/537.36 (KHTML, like Gecko) Chrome/79.0.3945.117 Safari/537.36',\n",
    "        }"
   ]
  },
  {
   "cell_type": "code",
   "execution_count": 7,
   "metadata": {},
   "outputs": [],
   "source": [
    "req = Request(df_courses.url[0], headers=headers) \n",
    "webpage = urlopen(req).read()"
   ]
  },
  {
   "cell_type": "code",
   "execution_count": 8,
   "metadata": {},
   "outputs": [],
   "source": [
    "page_soup = soup(webpage, 'html.parser')"
   ]
  },
  {
   "cell_type": "code",
   "execution_count": 49,
   "metadata": {},
   "outputs": [],
   "source": [
    "# page_soup"
   ]
  },
  {
   "cell_type": "markdown",
   "metadata": {},
   "source": [
    "# Finding relevant features \n",
    "\n",
    "Using this `page_soup` we proceed to extract some features before to create the functions that will replicate the same for all the courses in the catalog of the dataset."
   ]
  },
  {
   "cell_type": "markdown",
   "metadata": {},
   "source": [
    "### Featured Review"
   ]
  },
  {
   "cell_type": "code",
   "execution_count": 10,
   "metadata": {},
   "outputs": [
    {
     "data": {
      "text/plain": [
       "<div class=\"ud-component--clp--featured-review-content\" data-component-args='{\"courseId\":28295,\"reviewId\":14453048,\"reviewContent\":\"Great course on learning how to code a website from a graphic mock-up, it was cool to learn how to layout sections in CSS with some nice little touches for making elements display better on screen etc, definitely worth checking out if you are new to web coding &amp; want to get up to speed with creating a site\"}'>\n",
       "Great course on learning how to code a website from a graphic mock-up, it was cool to learn how to layout sections in CSS with some nice little touches for making elements display better on screen etc, definitely worth checking out if you are new to web coding &amp; want to get up to speed with creating a site\n",
       "</div>"
      ]
     },
     "execution_count": 10,
     "metadata": {},
     "output_type": "execute_result"
    }
   ],
   "source": [
    "review = page_soup.find('div', class_ ='ud-component--clp--featured-review-content')\n",
    "review"
   ]
  },
  {
   "cell_type": "markdown",
   "metadata": {},
   "source": [
    "### Ranking Distribution "
   ]
  },
  {
   "cell_type": "code",
   "execution_count": 12,
   "metadata": {},
   "outputs": [
    {
     "data": {
      "text/plain": [
       "<div class=\"ud-component--clp--course-reviews-display\" data-component-args='{\"showUserAvatar\":true,\"averageRating\":4.5292,\"courseId\":28295,\"isFreeSEOExp\":false,\"page\":\"clp\",\"ratingDistribution\":[{\"rating\":1,\"count\":19},{\"rating\":2,\"count\":28},{\"rating\":3,\"count\":110},{\"rating\":4,\"count\":272},{\"rating\":5,\"count\":490}],\"topReviewAttributes\":[]}'>\n",
       "</div>"
      ]
     },
     "execution_count": 12,
     "metadata": {},
     "output_type": "execute_result"
    }
   ],
   "source": [
    "dist_rating = page_soup.find('div', class_ ='ud-component--clp--course-reviews-display')\n",
    "dist_rating"
   ]
  },
  {
   "cell_type": "code",
   "execution_count": 13,
   "metadata": {},
   "outputs": [
    {
     "data": {
      "text/plain": [
       "'{\"showUserAvatar\":true,\"averageRating\":4.5292,\"courseId\":28295,\"isFreeSEOExp\":false,\"page\":\"clp\",\"ratingDistribution\":[{\"rating\":1,\"count\":19},{\"rating\":2,\"count\":28},{\"rating\":3,\"count\":110},{\"rating\":4,\"count\":272},{\"rating\":5,\"count\":490}],\"topReviewAttributes\":[]}'"
      ]
     },
     "execution_count": 13,
     "metadata": {},
     "output_type": "execute_result"
    }
   ],
   "source": [
    "dist_rating_str = dist_rating['data-component-args']\n",
    "dist_rating_str"
   ]
  },
  {
   "cell_type": "code",
   "execution_count": 14,
   "metadata": {},
   "outputs": [],
   "source": [
    "counts = re.findall(r'\"count\":\\d+', dist_rating_str)\n",
    "rating = re.findall(r'\"rating\":\\d+', dist_rating_str)"
   ]
  },
  {
   "cell_type": "code",
   "execution_count": 15,
   "metadata": {},
   "outputs": [
    {
     "name": "stdout",
     "output_type": "stream",
     "text": [
      "{('28', '90'), ('490', '90'), ('110', '90'), ('272', '90'), ('19', '90')}\n"
     ]
    }
   ],
   "source": [
    "count, rank = [], []\n",
    "for c in counts:\n",
    "    count.append(c[8:])\n",
    "    \n",
    "for rt in rating:\n",
    "    rank.append(c[9:])\n",
    "    \n",
    "rating_dist = set(zip(count, rank))\n",
    "print(rating_dist)"
   ]
  },
  {
   "cell_type": "markdown",
   "metadata": {},
   "source": [
    "### CourseID"
   ]
  },
  {
   "cell_type": "code",
   "execution_count": 16,
   "metadata": {},
   "outputs": [
    {
     "name": "stdout",
     "output_type": "stream",
     "text": [
      "['\"courseId\":28295']\n"
     ]
    }
   ],
   "source": [
    "courseId = re.findall(r'\"courseId\":\\d+', dist_rating_str)\n",
    "print(courseId)"
   ]
  },
  {
   "cell_type": "markdown",
   "metadata": {},
   "source": [
    "### Average Rating"
   ]
  },
  {
   "cell_type": "code",
   "execution_count": 17,
   "metadata": {},
   "outputs": [
    {
     "name": "stdout",
     "output_type": "stream",
     "text": [
      "['\"averageRating\":4.5292']\n"
     ]
    }
   ],
   "source": [
    "averageRating = re.findall(r'\"averageRating\":\\d.\\d+', dist_rating_str)\n",
    "print(averageRating)"
   ]
  },
  {
   "cell_type": "markdown",
   "metadata": {},
   "source": [
    "### Requirements"
   ]
  },
  {
   "cell_type": "code",
   "execution_count": 18,
   "metadata": {},
   "outputs": [
    {
     "name": "stdout",
     "output_type": "stream",
     "text": [
      "Adobe Photoshop CS3 or higher\n",
      "Very basic knowledge of HTML & CSS\n",
      "Text Editor (TextWranger, Espresso, or Coda recommended)\n"
     ]
    }
   ],
   "source": [
    "requirements = page_soup.find_all('li', class_ ='requirements__item')\n",
    "for requirement in requirements:\n",
    "    print(requirement.text)"
   ]
  },
  {
   "cell_type": "markdown",
   "metadata": {},
   "source": [
    "## Automatization of web scraping"
   ]
  },
  {
   "cell_type": "code",
   "execution_count": 20,
   "metadata": {},
   "outputs": [],
   "source": [
    "def reviewExtraction(soup):\n",
    "    \"\"\"\n",
    "    Extraction of featured review using the BeautifulSoup object as input to find the text into the class called\n",
    "    ud-component--clp--featured-review-content. Return the featured review of every course if it exists. Otherwise,\n",
    "    return None.\n",
    "    \"\"\"\n",
    "    try:\n",
    "        review = soup.find('div', class_ ='ud-component--clp--featured-review-content')\n",
    "        review = review.text\n",
    "    except:\n",
    "        review = None\n",
    "        \n",
    "    return review"
   ]
  },
  {
   "cell_type": "code",
   "execution_count": 21,
   "metadata": {},
   "outputs": [],
   "source": [
    "def RatingExtraction(soup):\n",
    "    \"\"\"\n",
    "    Extraction of distribution of rating, it means, a tuple with ratings and number of counts. Return None \n",
    "    if the distribution doesn't exist.\n",
    "    \"\"\"\n",
    "    try:\n",
    "        dist_rating = soup.find('div', class_ ='ud-component--clp--course-reviews-display')\n",
    "        dist_rating_str = dist_rating['data-component-args']\n",
    "        counts = re.findall(r'\"count\":\\d+', dist_rating_str)\n",
    "        rating = re.findall(r'\"rating\":\\d+', dist_rating_str)\n",
    "        count, rank = [], []\n",
    "        for c in counts:\n",
    "            count.append(c[8:])\n",
    "\n",
    "        for rt in rating:\n",
    "            rank.append(c[9:])\n",
    "\n",
    "        rating_dist = set(zip(count, rank))\n",
    "    except:\n",
    "        rating_dist = None\n",
    "    \n",
    "    return rating_dist"
   ]
  },
  {
   "cell_type": "code",
   "execution_count": 22,
   "metadata": {},
   "outputs": [],
   "source": [
    "def AverageRating(soup):\n",
    "    \"\"\"\n",
    "    Use of soup object as input to extract the average rating of every course. Return the average score \n",
    "    as string if it exists. Otherwise, the method return None.\n",
    "    \"\"\"\n",
    "    try:\n",
    "        dist_rating = soup.find('div', class_ ='ud-component--clp--course-reviews-display')\n",
    "        dist_rating_str = dist_rating['data-component-args']\n",
    "        averageRating = re.findall(r'\"averageRating\":\\d.\\d+', dist_rating_str)\n",
    "    except:\n",
    "        averageRating = None\n",
    "        \n",
    "    return averageRating"
   ]
  },
  {
   "cell_type": "code",
   "execution_count": null,
   "metadata": {},
   "outputs": [],
   "source": [
    "ud-component--clp--course-reviews-display"
   ]
  },
  {
   "cell_type": "code",
   "execution_count": 23,
   "metadata": {},
   "outputs": [],
   "source": [
    "def CourseId(soup):\n",
    "    \"\"\"\n",
    "    Use of BeatifulSoup object as input to extract the course ID. Return ID as string if it exists; \n",
    "    otherwise, return None.\n",
    "    \"\"\"\n",
    "    try:\n",
    "        dist_rating = soup.find('div', class_ ='ud-component--clp--course-reviews-display')\n",
    "        dist_rating_str = dist_rating['data-component-args']\n",
    "        courseId = re.findall(r'\"courseId\":\\d+', dist_rating_str)\n",
    "    except:\n",
    "        courseId = None\n",
    "        \n",
    "    return courseId"
   ]
  },
  {
   "cell_type": "code",
   "execution_count": 24,
   "metadata": {},
   "outputs": [],
   "source": [
    "def RequirementsExtraction(soup):\n",
    "    \"\"\"\n",
    "    Extraction of requirements of every course, finding the tag <li> into the class requirements__item. Return \n",
    "    a string with the list of requirements. Otherwise, return None.\n",
    "    \"\"\"\n",
    "    try:\n",
    "        requirements = soup.find_all('li', class_ ='requirements__item')\n",
    "        req = []\n",
    "        for requirement in requirements:\n",
    "            req.append(requirement.text)\n",
    "    except:\n",
    "        req = None\n",
    "        \n",
    "    return req"
   ]
  },
  {
   "cell_type": "code",
   "execution_count": 82,
   "metadata": {},
   "outputs": [],
   "source": [
    "def webScraping(url):\n",
    "    \"\"\"\n",
    "    This method receives the url of the web page and it creates the BeautifulSoup object to find classes and \n",
    "    key tags to extract description, review, rating, ID and requirements of every course calling the methods above.\n",
    "    \"\"\"\n",
    "    \n",
    "    req = Request(url, headers=headers) \n",
    "    try:\n",
    "        webpage = urlopen(req).read()\n",
    "    except HTTPError as err:\n",
    "        if err.code == 404:\n",
    "            review = None\n",
    "            rating = None\n",
    "            avgRating = None\n",
    "            courseId = None\n",
    "            requirements = None \n",
    "            \n",
    "            return review, rating, avgRating, courseId, requirements\n",
    "        \n",
    "        else:\n",
    "            raise\n",
    "            \n",
    "    soup_page = soup(webpage, 'html.parser')\n",
    "\n",
    "    review = reviewExtraction(soup_page)\n",
    "    rating = RatingExtraction(soup_page)\n",
    "    avgRating = AverageRating(soup_page)\n",
    "    courseId = CourseId(soup_page)\n",
    "    requirements = RequirementsExtraction(soup_page)     \n",
    "    \n",
    "    return review, rating, avgRating, courseId, requirements"
   ]
  },
  {
   "cell_type": "code",
   "execution_count": 26,
   "metadata": {},
   "outputs": [],
   "source": [
    "df_chunk1 =  df_courses.loc[0:114, :]"
   ]
  },
  {
   "cell_type": "code",
   "execution_count": 48,
   "metadata": {},
   "outputs": [],
   "source": [
    "# scraping_cols = []\n",
    "\n",
    "# for url in df_chunk1.url:\n",
    "#     scraping_cols.append(webScraping(url))\n",
    "#     time.sleep(15)"
   ]
  },
  {
   "cell_type": "code",
   "execution_count": 30,
   "metadata": {},
   "outputs": [],
   "source": [
    "unzip_scraping_cols = list(zip(*scraping_cols)) "
   ]
  },
  {
   "cell_type": "code",
   "execution_count": 44,
   "metadata": {},
   "outputs": [
    {
     "name": "stderr",
     "output_type": "stream",
     "text": [
      "/Users/daniela/anaconda3/lib/python3.7/site-packages/pandas/core/indexing.py:543: SettingWithCopyWarning: \n",
      "A value is trying to be set on a copy of a slice from a DataFrame.\n",
      "Try using .loc[row_indexer,col_indexer] = value instead\n",
      "\n",
      "See the caveats in the documentation: http://pandas.pydata.org/pandas-docs/stable/indexing.html#indexing-view-versus-copy\n",
      "  self.obj[item] = s\n"
     ]
    }
   ],
   "source": [
    "df_chunk1.loc[0:114, 'review'] = unzip_scraping_cols[0]\n",
    "df_chunk1.loc[0:114, 'distRating'] = unzip_scraping_cols[1]\n",
    "df_chunk1.loc[0:114, 'avgRating'] = unzip_scraping_cols[2]\n",
    "df_chunk1.loc[0:114, 'courseId'] = unzip_scraping_cols[3]\n",
    "df_chunk1.loc[0:114, 'requirements'] = unzip_scraping_cols[4]"
   ]
  },
  {
   "cell_type": "code",
   "execution_count": 50,
   "metadata": {},
   "outputs": [
    {
     "data": {
      "text/html": [
       "<div>\n",
       "<style scoped>\n",
       "    .dataframe tbody tr th:only-of-type {\n",
       "        vertical-align: middle;\n",
       "    }\n",
       "\n",
       "    .dataframe tbody tr th {\n",
       "        vertical-align: top;\n",
       "    }\n",
       "\n",
       "    .dataframe thead th {\n",
       "        text-align: right;\n",
       "    }\n",
       "</style>\n",
       "<table border=\"1\" class=\"dataframe\">\n",
       "  <thead>\n",
       "    <tr style=\"text-align: right;\">\n",
       "      <th></th>\n",
       "      <th>id</th>\n",
       "      <th>title</th>\n",
       "      <th>url</th>\n",
       "      <th>isPaid</th>\n",
       "      <th>price</th>\n",
       "      <th>numSubscribers</th>\n",
       "      <th>numReviews</th>\n",
       "      <th>numPublishedLectures</th>\n",
       "      <th>instructionalLevel</th>\n",
       "      <th>contentInfo</th>\n",
       "      <th>...</th>\n",
       "      <th>category</th>\n",
       "      <th>timeSpent</th>\n",
       "      <th>publishDate</th>\n",
       "      <th>level</th>\n",
       "      <th>paidBool</th>\n",
       "      <th>review</th>\n",
       "      <th>distRating</th>\n",
       "      <th>avgRating</th>\n",
       "      <th>courseId</th>\n",
       "      <th>requirements</th>\n",
       "    </tr>\n",
       "  </thead>\n",
       "  <tbody>\n",
       "    <tr>\n",
       "      <th>0</th>\n",
       "      <td>28295</td>\n",
       "      <td>Learn Web Designing &amp; HTML5/CSS3 Essentials in...</td>\n",
       "      <td>https://www.udemy.com/build-beautiful-html5-we...</td>\n",
       "      <td>True</td>\n",
       "      <td>75.0</td>\n",
       "      <td>43285</td>\n",
       "      <td>525</td>\n",
       "      <td>24</td>\n",
       "      <td>All Levels</td>\n",
       "      <td>4 hours</td>\n",
       "      <td>...</td>\n",
       "      <td>WebDevelopment</td>\n",
       "      <td>4.0</td>\n",
       "      <td>2013-01-03</td>\n",
       "      <td>All Levels</td>\n",
       "      <td>True</td>\n",
       "      <td>\\nGreat course on learning how to code a websi...</td>\n",
       "      <td>{(28, 90), (490, 90), (110, 90), (272, 90), (1...</td>\n",
       "      <td>[\"averageRating\":4.5292]</td>\n",
       "      <td>[\"courseId\":28295]</td>\n",
       "      <td>[Adobe Photoshop CS3 or higher, Very basic kno...</td>\n",
       "    </tr>\n",
       "    <tr>\n",
       "      <th>1</th>\n",
       "      <td>19603</td>\n",
       "      <td>Learning Dynamic Website Design - PHP MySQL an...</td>\n",
       "      <td>https://www.udemy.com/learning-dynamic-website...</td>\n",
       "      <td>True</td>\n",
       "      <td>50.0</td>\n",
       "      <td>47886</td>\n",
       "      <td>285</td>\n",
       "      <td>125</td>\n",
       "      <td>All Levels</td>\n",
       "      <td>12.5 hours</td>\n",
       "      <td>...</td>\n",
       "      <td>WebDevelopment</td>\n",
       "      <td>12.5</td>\n",
       "      <td>2012-06-18</td>\n",
       "      <td>All Levels</td>\n",
       "      <td>True</td>\n",
       "      <td>None</td>\n",
       "      <td>None</td>\n",
       "      <td>None</td>\n",
       "      <td>None</td>\n",
       "      <td>[]</td>\n",
       "    </tr>\n",
       "  </tbody>\n",
       "</table>\n",
       "<p>2 rows × 21 columns</p>\n",
       "</div>"
      ],
      "text/plain": [
       "      id                                              title  \\\n",
       "0  28295  Learn Web Designing & HTML5/CSS3 Essentials in...   \n",
       "1  19603  Learning Dynamic Website Design - PHP MySQL an...   \n",
       "\n",
       "                                                 url  isPaid  price  \\\n",
       "0  https://www.udemy.com/build-beautiful-html5-we...    True   75.0   \n",
       "1  https://www.udemy.com/learning-dynamic-website...    True   50.0   \n",
       "\n",
       "   numSubscribers  numReviews  numPublishedLectures instructionalLevel  \\\n",
       "0           43285         525                    24         All Levels   \n",
       "1           47886         285                   125         All Levels   \n",
       "\n",
       "  contentInfo                        ...                          \\\n",
       "0     4 hours                        ...                           \n",
       "1  12.5 hours                        ...                           \n",
       "\n",
       "         category timeSpent  publishDate       level paidBool  \\\n",
       "0  WebDevelopment       4.0   2013-01-03  All Levels     True   \n",
       "1  WebDevelopment      12.5   2012-06-18  All Levels     True   \n",
       "\n",
       "                                              review  \\\n",
       "0  \\nGreat course on learning how to code a websi...   \n",
       "1                                               None   \n",
       "\n",
       "                                          distRating  \\\n",
       "0  {(28, 90), (490, 90), (110, 90), (272, 90), (1...   \n",
       "1                                               None   \n",
       "\n",
       "                  avgRating            courseId  \\\n",
       "0  [\"averageRating\":4.5292]  [\"courseId\":28295]   \n",
       "1                      None                None   \n",
       "\n",
       "                                        requirements  \n",
       "0  [Adobe Photoshop CS3 or higher, Very basic kno...  \n",
       "1                                                 []  \n",
       "\n",
       "[2 rows x 21 columns]"
      ]
     },
     "execution_count": 50,
     "metadata": {},
     "output_type": "execute_result"
    }
   ],
   "source": [
    "df_chunk1.head(2)"
   ]
  },
  {
   "cell_type": "code",
   "execution_count": 47,
   "metadata": {},
   "outputs": [],
   "source": [
    "#df_chunk1.loc[0:114, :].to_csv('../Data/interim/df_chunk.csv', index=False)"
   ]
  },
  {
   "cell_type": "code",
   "execution_count": 51,
   "metadata": {},
   "outputs": [],
   "source": [
    "df_chunk2 =  df_courses.loc[115:220, :]"
   ]
  },
  {
   "cell_type": "code",
   "execution_count": 55,
   "metadata": {},
   "outputs": [],
   "source": [
    "# scraping_cols1 = []\n",
    "\n",
    "# for url in df_chunk2.url:\n",
    "#     scraping_cols1.append(webScraping(url))\n",
    "#     time.sleep(15)"
   ]
  },
  {
   "cell_type": "code",
   "execution_count": 57,
   "metadata": {},
   "outputs": [],
   "source": [
    "unzip_scraping_cols1 = list(zip(*scraping_cols1)) "
   ]
  },
  {
   "cell_type": "code",
   "execution_count": 59,
   "metadata": {},
   "outputs": [],
   "source": [
    "df_chunk2.loc[115:220, 'review'] = unzip_scraping_cols1[0]\n",
    "df_chunk2.loc[115:220, 'distRating'] = unzip_scraping_cols1[1]\n",
    "df_chunk2.loc[115:220, 'avgRating'] = unzip_scraping_cols1[2]\n",
    "df_chunk2.loc[115:220, 'courseId'] = unzip_scraping_cols1[3]\n",
    "df_chunk2.loc[115:220, 'requirements'] = unzip_scraping_cols1[4]"
   ]
  },
  {
   "cell_type": "code",
   "execution_count": 60,
   "metadata": {},
   "outputs": [
    {
     "data": {
      "text/html": [
       "<div>\n",
       "<style scoped>\n",
       "    .dataframe tbody tr th:only-of-type {\n",
       "        vertical-align: middle;\n",
       "    }\n",
       "\n",
       "    .dataframe tbody tr th {\n",
       "        vertical-align: top;\n",
       "    }\n",
       "\n",
       "    .dataframe thead th {\n",
       "        text-align: right;\n",
       "    }\n",
       "</style>\n",
       "<table border=\"1\" class=\"dataframe\">\n",
       "  <thead>\n",
       "    <tr style=\"text-align: right;\">\n",
       "      <th></th>\n",
       "      <th>id</th>\n",
       "      <th>title</th>\n",
       "      <th>url</th>\n",
       "      <th>isPaid</th>\n",
       "      <th>price</th>\n",
       "      <th>numSubscribers</th>\n",
       "      <th>numReviews</th>\n",
       "      <th>numPublishedLectures</th>\n",
       "      <th>instructionalLevel</th>\n",
       "      <th>contentInfo</th>\n",
       "      <th>...</th>\n",
       "      <th>category</th>\n",
       "      <th>timeSpent</th>\n",
       "      <th>publishDate</th>\n",
       "      <th>level</th>\n",
       "      <th>paidBool</th>\n",
       "      <th>review</th>\n",
       "      <th>distRating</th>\n",
       "      <th>avgRating</th>\n",
       "      <th>courseId</th>\n",
       "      <th>requirements</th>\n",
       "    </tr>\n",
       "  </thead>\n",
       "  <tbody>\n",
       "    <tr>\n",
       "      <th>115</th>\n",
       "      <td>783748</td>\n",
       "      <td>Byte-Sized-Chunks: Cascading Style Sheets (CSS...</td>\n",
       "      <td>https://www.udemy.com/css-with-html/</td>\n",
       "      <td>True</td>\n",
       "      <td>20.0</td>\n",
       "      <td>2160</td>\n",
       "      <td>16</td>\n",
       "      <td>28</td>\n",
       "      <td>All Levels</td>\n",
       "      <td>4 hours</td>\n",
       "      <td>...</td>\n",
       "      <td>WebDevelopment</td>\n",
       "      <td>4.0</td>\n",
       "      <td>2016-03-10</td>\n",
       "      <td>All Levels</td>\n",
       "      <td>True</td>\n",
       "      <td>None</td>\n",
       "      <td>{(12, 1), (0, 1), (11, 1), (1, 1)}</td>\n",
       "      <td>[\"averageRating\":4.42346]</td>\n",
       "      <td>[\"courseId\":783748]</td>\n",
       "      <td>[Any modern browser and a simple text editor a...</td>\n",
       "    </tr>\n",
       "    <tr>\n",
       "      <th>116</th>\n",
       "      <td>161986</td>\n",
       "      <td>Learn Building Your Own Website Without Coding</td>\n",
       "      <td>https://www.udemy.com/learn-building-your-own-...</td>\n",
       "      <td>True</td>\n",
       "      <td>50.0</td>\n",
       "      <td>7660</td>\n",
       "      <td>7</td>\n",
       "      <td>19</td>\n",
       "      <td>All Levels</td>\n",
       "      <td>2 hours</td>\n",
       "      <td>...</td>\n",
       "      <td>WebDevelopment</td>\n",
       "      <td>2.0</td>\n",
       "      <td>2014-03-21</td>\n",
       "      <td>All Levels</td>\n",
       "      <td>True</td>\n",
       "      <td>None</td>\n",
       "      <td>None</td>\n",
       "      <td>None</td>\n",
       "      <td>None</td>\n",
       "      <td>[]</td>\n",
       "    </tr>\n",
       "  </tbody>\n",
       "</table>\n",
       "<p>2 rows × 21 columns</p>\n",
       "</div>"
      ],
      "text/plain": [
       "         id                                              title  \\\n",
       "115  783748  Byte-Sized-Chunks: Cascading Style Sheets (CSS...   \n",
       "116  161986     Learn Building Your Own Website Without Coding   \n",
       "\n",
       "                                                   url  isPaid  price  \\\n",
       "115               https://www.udemy.com/css-with-html/    True   20.0   \n",
       "116  https://www.udemy.com/learn-building-your-own-...    True   50.0   \n",
       "\n",
       "     numSubscribers  numReviews  numPublishedLectures instructionalLevel  \\\n",
       "115            2160          16                    28         All Levels   \n",
       "116            7660           7                    19         All Levels   \n",
       "\n",
       "    contentInfo                        ...                          \\\n",
       "115     4 hours                        ...                           \n",
       "116     2 hours                        ...                           \n",
       "\n",
       "           category timeSpent  publishDate       level paidBool  review  \\\n",
       "115  WebDevelopment       4.0   2016-03-10  All Levels     True    None   \n",
       "116  WebDevelopment       2.0   2014-03-21  All Levels     True    None   \n",
       "\n",
       "                             distRating                  avgRating  \\\n",
       "115  {(12, 1), (0, 1), (11, 1), (1, 1)}  [\"averageRating\":4.42346]   \n",
       "116                                None                       None   \n",
       "\n",
       "                courseId                                       requirements  \n",
       "115  [\"courseId\":783748]  [Any modern browser and a simple text editor a...  \n",
       "116                 None                                                 []  \n",
       "\n",
       "[2 rows x 21 columns]"
      ]
     },
     "execution_count": 60,
     "metadata": {},
     "output_type": "execute_result"
    }
   ],
   "source": [
    "df_chunk2.head(2)"
   ]
  },
  {
   "cell_type": "code",
   "execution_count": 61,
   "metadata": {},
   "outputs": [],
   "source": [
    "#df_chunk2.loc[115:220, :].to_csv('../Data/interim/df_chunk2.csv', index=False)"
   ]
  },
  {
   "cell_type": "markdown",
   "metadata": {},
   "source": [
    "Now, iteratively:"
   ]
  },
  {
   "cell_type": "code",
   "execution_count": 79,
   "metadata": {},
   "outputs": [],
   "source": [
    "def chunk_function(a, b):\n",
    "    df_chunk =  df_courses.loc[a: b, :]\n",
    "    scraping_cols = []\n",
    "\n",
    "    for url in df_chunk.url:\n",
    "        scraping_cols.append(webScraping(url))\n",
    "        time.sleep(15)\n",
    "        \n",
    "    df_chunk.loc[a: b, 'review'] = unzip_scraping_cols[0]\n",
    "    df_chunk.loc[a: b, 'distRating'] = unzip_scraping_cols[1]\n",
    "    df_chunk.loc[a: b, 'avgRating'] = unzip_scraping_cols[2]\n",
    "    df_chunk.loc[a: b, 'courseId'] = unzip_scraping_cols[3]\n",
    "    df_chunk.loc[a: b, 'requirements'] = unzip_scraping_cols[4]\n",
    "\n",
    "    return df_chunk"
   ]
  },
  {
   "cell_type": "code",
   "execution_count": 83,
   "metadata": {},
   "outputs": [
    {
     "ename": "ValueError",
     "evalue": "Must have equal len keys and value when setting with an iterable",
     "output_type": "error",
     "traceback": [
      "\u001b[0;31m---------------------------------------------------------------------------\u001b[0m",
      "\u001b[0;31mValueError\u001b[0m                                Traceback (most recent call last)",
      "\u001b[0;32m<ipython-input-83-c07ff36ad5a8>\u001b[0m in \u001b[0;36m<module>\u001b[0;34m\u001b[0m\n\u001b[0;32m----> 1\u001b[0;31m \u001b[0mdf_chunk3\u001b[0m \u001b[0;34m=\u001b[0m \u001b[0mchunk_function\u001b[0m\u001b[0;34m(\u001b[0m\u001b[0;36m221\u001b[0m\u001b[0;34m,\u001b[0m \u001b[0;36m320\u001b[0m\u001b[0;34m)\u001b[0m\u001b[0;34m\u001b[0m\u001b[0;34m\u001b[0m\u001b[0m\n\u001b[0m\u001b[1;32m      2\u001b[0m \u001b[0msleep\u001b[0m\u001b[0;34m(\u001b[0m\u001b[0;36m120\u001b[0m\u001b[0;34m)\u001b[0m\u001b[0;34m\u001b[0m\u001b[0;34m\u001b[0m\u001b[0m\n\u001b[1;32m      3\u001b[0m \u001b[0mdf_chunk4\u001b[0m \u001b[0;34m=\u001b[0m \u001b[0mchunk_function\u001b[0m\u001b[0;34m(\u001b[0m\u001b[0;36m321\u001b[0m\u001b[0;34m,\u001b[0m \u001b[0;36m420\u001b[0m\u001b[0;34m)\u001b[0m\u001b[0;34m\u001b[0m\u001b[0;34m\u001b[0m\u001b[0m\n\u001b[1;32m      4\u001b[0m \u001b[0msleep\u001b[0m\u001b[0;34m(\u001b[0m\u001b[0;36m120\u001b[0m\u001b[0;34m)\u001b[0m\u001b[0;34m\u001b[0m\u001b[0;34m\u001b[0m\u001b[0m\n\u001b[1;32m      5\u001b[0m \u001b[0mdf_chunk5\u001b[0m \u001b[0;34m=\u001b[0m \u001b[0mchunk_function\u001b[0m\u001b[0;34m(\u001b[0m\u001b[0;36m421\u001b[0m\u001b[0;34m,\u001b[0m \u001b[0;36m520\u001b[0m\u001b[0;34m)\u001b[0m\u001b[0;34m\u001b[0m\u001b[0;34m\u001b[0m\u001b[0m\n",
      "\u001b[0;32m<ipython-input-79-629552bd8f49>\u001b[0m in \u001b[0;36mchunk_function\u001b[0;34m(a, b)\u001b[0m\n\u001b[1;32m      7\u001b[0m         \u001b[0mtime\u001b[0m\u001b[0;34m.\u001b[0m\u001b[0msleep\u001b[0m\u001b[0;34m(\u001b[0m\u001b[0;36m15\u001b[0m\u001b[0;34m)\u001b[0m\u001b[0;34m\u001b[0m\u001b[0;34m\u001b[0m\u001b[0m\n\u001b[1;32m      8\u001b[0m \u001b[0;34m\u001b[0m\u001b[0m\n\u001b[0;32m----> 9\u001b[0;31m     \u001b[0mdf_chunk\u001b[0m\u001b[0;34m.\u001b[0m\u001b[0mloc\u001b[0m\u001b[0;34m[\u001b[0m\u001b[0ma\u001b[0m\u001b[0;34m:\u001b[0m \u001b[0mb\u001b[0m\u001b[0;34m,\u001b[0m \u001b[0;34m'review'\u001b[0m\u001b[0;34m]\u001b[0m \u001b[0;34m=\u001b[0m \u001b[0munzip_scraping_cols\u001b[0m\u001b[0;34m[\u001b[0m\u001b[0;36m0\u001b[0m\u001b[0;34m]\u001b[0m\u001b[0;34m\u001b[0m\u001b[0;34m\u001b[0m\u001b[0m\n\u001b[0m\u001b[1;32m     10\u001b[0m     \u001b[0mdf_chunk\u001b[0m\u001b[0;34m.\u001b[0m\u001b[0mloc\u001b[0m\u001b[0;34m[\u001b[0m\u001b[0ma\u001b[0m\u001b[0;34m:\u001b[0m \u001b[0mb\u001b[0m\u001b[0;34m,\u001b[0m \u001b[0;34m'distRating'\u001b[0m\u001b[0;34m]\u001b[0m \u001b[0;34m=\u001b[0m \u001b[0munzip_scraping_cols\u001b[0m\u001b[0;34m[\u001b[0m\u001b[0;36m1\u001b[0m\u001b[0;34m]\u001b[0m\u001b[0;34m\u001b[0m\u001b[0;34m\u001b[0m\u001b[0m\n\u001b[1;32m     11\u001b[0m     \u001b[0mdf_chunk\u001b[0m\u001b[0;34m.\u001b[0m\u001b[0mloc\u001b[0m\u001b[0;34m[\u001b[0m\u001b[0ma\u001b[0m\u001b[0;34m:\u001b[0m \u001b[0mb\u001b[0m\u001b[0;34m,\u001b[0m \u001b[0;34m'avgRating'\u001b[0m\u001b[0;34m]\u001b[0m \u001b[0;34m=\u001b[0m \u001b[0munzip_scraping_cols\u001b[0m\u001b[0;34m[\u001b[0m\u001b[0;36m2\u001b[0m\u001b[0;34m]\u001b[0m\u001b[0;34m\u001b[0m\u001b[0;34m\u001b[0m\u001b[0m\n",
      "\u001b[0;32m~/anaconda3/lib/python3.7/site-packages/pandas/core/indexing.py\u001b[0m in \u001b[0;36m__setitem__\u001b[0;34m(self, key, value)\u001b[0m\n\u001b[1;32m    187\u001b[0m             \u001b[0mkey\u001b[0m \u001b[0;34m=\u001b[0m \u001b[0mcom\u001b[0m\u001b[0;34m.\u001b[0m\u001b[0m_apply_if_callable\u001b[0m\u001b[0;34m(\u001b[0m\u001b[0mkey\u001b[0m\u001b[0;34m,\u001b[0m \u001b[0mself\u001b[0m\u001b[0;34m.\u001b[0m\u001b[0mobj\u001b[0m\u001b[0;34m)\u001b[0m\u001b[0;34m\u001b[0m\u001b[0;34m\u001b[0m\u001b[0m\n\u001b[1;32m    188\u001b[0m         \u001b[0mindexer\u001b[0m \u001b[0;34m=\u001b[0m \u001b[0mself\u001b[0m\u001b[0;34m.\u001b[0m\u001b[0m_get_setitem_indexer\u001b[0m\u001b[0;34m(\u001b[0m\u001b[0mkey\u001b[0m\u001b[0;34m)\u001b[0m\u001b[0;34m\u001b[0m\u001b[0;34m\u001b[0m\u001b[0m\n\u001b[0;32m--> 189\u001b[0;31m         \u001b[0mself\u001b[0m\u001b[0;34m.\u001b[0m\u001b[0m_setitem_with_indexer\u001b[0m\u001b[0;34m(\u001b[0m\u001b[0mindexer\u001b[0m\u001b[0;34m,\u001b[0m \u001b[0mvalue\u001b[0m\u001b[0;34m)\u001b[0m\u001b[0;34m\u001b[0m\u001b[0;34m\u001b[0m\u001b[0m\n\u001b[0m\u001b[1;32m    190\u001b[0m \u001b[0;34m\u001b[0m\u001b[0m\n\u001b[1;32m    191\u001b[0m     \u001b[0;32mdef\u001b[0m \u001b[0m_validate_key\u001b[0m\u001b[0;34m(\u001b[0m\u001b[0mself\u001b[0m\u001b[0;34m,\u001b[0m \u001b[0mkey\u001b[0m\u001b[0;34m,\u001b[0m \u001b[0maxis\u001b[0m\u001b[0;34m)\u001b[0m\u001b[0;34m:\u001b[0m\u001b[0;34m\u001b[0m\u001b[0;34m\u001b[0m\u001b[0m\n",
      "\u001b[0;32m~/anaconda3/lib/python3.7/site-packages/pandas/core/indexing.py\u001b[0m in \u001b[0;36m_setitem_with_indexer\u001b[0;34m(self, indexer, value)\u001b[0m\n\u001b[1;32m    364\u001b[0m                         new_indexer = convert_from_missing_indexer_tuple(\n\u001b[1;32m    365\u001b[0m                             indexer, self.obj.axes)\n\u001b[0;32m--> 366\u001b[0;31m                         \u001b[0mself\u001b[0m\u001b[0;34m.\u001b[0m\u001b[0m_setitem_with_indexer\u001b[0m\u001b[0;34m(\u001b[0m\u001b[0mnew_indexer\u001b[0m\u001b[0;34m,\u001b[0m \u001b[0mvalue\u001b[0m\u001b[0;34m)\u001b[0m\u001b[0;34m\u001b[0m\u001b[0;34m\u001b[0m\u001b[0m\n\u001b[0m\u001b[1;32m    367\u001b[0m \u001b[0;34m\u001b[0m\u001b[0m\n\u001b[1;32m    368\u001b[0m                         \u001b[0;32mreturn\u001b[0m \u001b[0mself\u001b[0m\u001b[0;34m.\u001b[0m\u001b[0mobj\u001b[0m\u001b[0;34m\u001b[0m\u001b[0;34m\u001b[0m\u001b[0m\n",
      "\u001b[0;32m~/anaconda3/lib/python3.7/site-packages/pandas/core/indexing.py\u001b[0m in \u001b[0;36m_setitem_with_indexer\u001b[0;34m(self, indexer, value)\u001b[0m\n\u001b[1;32m    604\u001b[0m \u001b[0;34m\u001b[0m\u001b[0m\n\u001b[1;32m    605\u001b[0m                     \u001b[0;32mif\u001b[0m \u001b[0mlen\u001b[0m\u001b[0;34m(\u001b[0m\u001b[0mlabels\u001b[0m\u001b[0;34m)\u001b[0m \u001b[0;34m!=\u001b[0m \u001b[0mlen\u001b[0m\u001b[0;34m(\u001b[0m\u001b[0mvalue\u001b[0m\u001b[0;34m)\u001b[0m\u001b[0;34m:\u001b[0m\u001b[0;34m\u001b[0m\u001b[0;34m\u001b[0m\u001b[0m\n\u001b[0;32m--> 606\u001b[0;31m                         raise ValueError('Must have equal len keys and value '\n\u001b[0m\u001b[1;32m    607\u001b[0m                                          'when setting with an iterable')\n\u001b[1;32m    608\u001b[0m \u001b[0;34m\u001b[0m\u001b[0m\n",
      "\u001b[0;31mValueError\u001b[0m: Must have equal len keys and value when setting with an iterable"
     ]
    }
   ],
   "source": [
    "df_chunk3 = chunk_function(221, 320)\n",
    "sleep(120)\n",
    "df_chunk4 = chunk_function(321, 420)\n",
    "sleep(120)\n",
    "df_chunk5 = chunk_function(421, 520)"
   ]
  },
  {
   "cell_type": "code",
   "execution_count": 64,
   "metadata": {},
   "outputs": [],
   "source": [
    "df_chunk3 =  df_courses.loc[221:320, :]"
   ]
  },
  {
   "cell_type": "code",
   "execution_count": 67,
   "metadata": {},
   "outputs": [],
   "source": [
    "# scraping_cols2 = []\n",
    "\n",
    "# for url in df_chunk3.url:\n",
    "#     scraping_cols2.append(webScraping(url))\n",
    "#     time.sleep(15)"
   ]
  },
  {
   "cell_type": "code",
   "execution_count": 69,
   "metadata": {},
   "outputs": [],
   "source": [
    "#df_chunk3.url"
   ]
  },
  {
   "cell_type": "code",
   "execution_count": 66,
   "metadata": {},
   "outputs": [
    {
     "data": {
      "text/plain": [
       "[(None, None, None, None, []),\n",
       " (None,\n",
       "  {('1707', '707'), ('313', '707'), ('798', '707'), ('91', '707')},\n",
       "  ['\"averageRating\":4.20888'],\n",
       "  ['\"courseId\":11174'],\n",
       "  ['Internet, Windows/MAC/Linux', 'Be prepared for an awesome course!']),\n",
       " (None, None, None, None, []),\n",
       " (None, None, None, None, []),\n",
       " (None,\n",
       "  {('118', '77'), ('17', '77'), ('276', '77'), ('32', '77'), ('377', '77')},\n",
       "  ['\"averageRating\":4.27904'],\n",
       "  ['\"courseId\":1252630'],\n",
       "  ['Students who have some JavaScript experience will be most comfortable.']),\n",
       " (None,\n",
       "  {('10', '71'), ('179', '71'), ('371', '71'), ('50', '71'), ('7', '71')},\n",
       "  ['\"averageRating\":4.54328'],\n",
       "  ['\"courseId\":1000010'],\n",
       "  ['No prior experience necessary - enthusiasm and willingness to learn is all you need!',\n",
       "   'A modern web browser and internet connection',\n",
       "   'Software used in the course is free',\n",
       "   'Some web basics like HTML/CSS will be helpful but not necessary']),\n",
       " (None,\n",
       "  {('130', '24'), ('18', '24'), ('224', '24'), ('59', '24'), ('7', '24')},\n",
       "  ['\"averageRating\":3.54473'],\n",
       "  ['\"courseId\":937586'],\n",
       "  ['No prior BDD or testing experience necessary',\n",
       "   'Students with a basic understanding of Ruby on Rails syntax and have ability to understand basic code']),\n",
       " (None,\n",
       "  {('17', '7'), ('44', '7'), ('8', '7'), ('87', '7')},\n",
       "  ['\"averageRating\":4.40557'],\n",
       "  ['\"courseId\":79154'],\n",
       "  ['An internet connection', 'Google Chrome (Free Web browser)']),\n",
       " (\"\\nGreat course. Explains every step of the building of an ASP.NET website, although it wouldn't hurt if some exercises are provided. E.g. adding an additional functionality - the student can compare his/her implementation to the author's.\\n\",\n",
       "  {('276', '55'), ('59', '55'), ('738', '55'), ('855', '55'), ('91', '55')},\n",
       "  ['\"averageRating\":4.29576'],\n",
       "  ['\"courseId\":328476'],\n",
       "  ['Determination and desire to better yourself in order to become a great web developer',\n",
       "   'Hard-working attitude and able to see the end goal of becoming a professional developer',\n",
       "   'Visual Studio 2017 installed (Community is fine). Understanding of HTML & CSS']),\n",
       " (None,\n",
       "  {('13', '2'), ('38', '2'), ('62', '2'), ('92', '2')},\n",
       "  ['\"averageRating\":3.96388'],\n",
       "  ['\"courseId\":921474'],\n",
       "  ['You need to have fast internet connection',\n",
       "   'You would also need a credit card for signing up with FREE Google trial cloud platform',\n",
       "   'You also must be tech savvy and ready to make an effort in becoming a cloud developer']),\n",
       " (\"\\nIt's a really complete course, but the most important thing is that it is updated over time. Instead of selling an updated version of the same course every year, the course is redone! Thats huge on your investment, I really apreciate the commitment from the instructor.\\n\",\n",
       "  {('10', '03'), ('136', '03'), ('16', '03'), ('443', '03'), ('803', '03')},\n",
       "  ['\"averageRating\":4.09126'],\n",
       "  ['\"courseId\":82778'],\n",
       "  ['Working knowledge of HTML, CSS and Javascript',\n",
       "   'Basic Working knowledge of an image editing application such as Adobe Photoshop would also help, but is not necessarily needed.']),\n",
       " (None, None, None, None, []),\n",
       " (None, None, None, None, []),\n",
       " (None,\n",
       "  {('107', '07'), ('23', '07'), ('28', '07'), ('5', '07'), ('6', '07')},\n",
       "  ['\"averageRating\":4.27161'],\n",
       "  ['\"courseId\":1169378'],\n",
       "  [\"You should have the 'never give up' attitude\",\n",
       "   'Understand basic HTML and CSS concepts',\n",
       "   'Understand basic javascript concepts'])]"
      ]
     },
     "execution_count": 66,
     "metadata": {},
     "output_type": "execute_result"
    }
   ],
   "source": [
    "scraping_cols2"
   ]
  },
  {
   "cell_type": "code",
   "execution_count": null,
   "metadata": {},
   "outputs": [],
   "source": []
  }
 ],
 "metadata": {
  "kernelspec": {
   "display_name": "Python 3",
   "language": "python",
   "name": "python3"
  },
  "language_info": {
   "codemirror_mode": {
    "name": "ipython",
    "version": 3
   },
   "file_extension": ".py",
   "mimetype": "text/x-python",
   "name": "python",
   "nbconvert_exporter": "python",
   "pygments_lexer": "ipython3",
   "version": "3.7.1"
  }
 },
 "nbformat": 4,
 "nbformat_minor": 2
}
