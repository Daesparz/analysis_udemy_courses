{
 "cells": [
  {
   "cell_type": "markdown",
   "metadata": {},
   "source": [
    "# Web Scraping to complete the dataset"
   ]
  },
  {
   "cell_type": "code",
   "execution_count": 1,
   "metadata": {},
   "outputs": [],
   "source": [
    "import re\n",
    "import time\n",
    "import pandas as pd\n",
    "import seaborn as sns"
   ]
  },
  {
   "cell_type": "markdown",
   "metadata": {},
   "source": [
    "Web Scraping packages:"
   ]
  },
  {
   "cell_type": "code",
   "execution_count": 2,
   "metadata": {},
   "outputs": [],
   "source": [
    "from urllib.request import Request, urlopen\n",
    "from urllib.error import HTTPError, URLError\n",
    "from bs4 import BeautifulSoup as soup\n",
    "from urllib.error import URLError"
   ]
  },
  {
   "cell_type": "code",
   "execution_count": 3,
   "metadata": {},
   "outputs": [],
   "source": [
    "df_courses = pd.read_csv('../Data/interim/Courses.csv')"
   ]
  },
  {
   "cell_type": "code",
   "execution_count": 4,
   "metadata": {},
   "outputs": [
    {
     "data": {
      "text/html": [
       "<div>\n",
       "<style scoped>\n",
       "    .dataframe tbody tr th:only-of-type {\n",
       "        vertical-align: middle;\n",
       "    }\n",
       "\n",
       "    .dataframe tbody tr th {\n",
       "        vertical-align: top;\n",
       "    }\n",
       "\n",
       "    .dataframe thead th {\n",
       "        text-align: right;\n",
       "    }\n",
       "</style>\n",
       "<table border=\"1\" class=\"dataframe\">\n",
       "  <thead>\n",
       "    <tr style=\"text-align: right;\">\n",
       "      <th></th>\n",
       "      <th>id</th>\n",
       "      <th>title</th>\n",
       "      <th>url</th>\n",
       "      <th>isPaid</th>\n",
       "      <th>price</th>\n",
       "      <th>numSubscribers</th>\n",
       "      <th>numReviews</th>\n",
       "      <th>numPublishedLectures</th>\n",
       "      <th>instructionalLevel</th>\n",
       "      <th>contentInfo</th>\n",
       "      <th>publishedTime</th>\n",
       "      <th>category</th>\n",
       "      <th>timeSpent</th>\n",
       "      <th>publishDate</th>\n",
       "      <th>level</th>\n",
       "      <th>paidBool</th>\n",
       "    </tr>\n",
       "  </thead>\n",
       "  <tbody>\n",
       "    <tr>\n",
       "      <th>0</th>\n",
       "      <td>28295</td>\n",
       "      <td>Learn Web Designing &amp; HTML5/CSS3 Essentials in...</td>\n",
       "      <td>https://www.udemy.com/build-beautiful-html5-we...</td>\n",
       "      <td>True</td>\n",
       "      <td>75.0</td>\n",
       "      <td>43285</td>\n",
       "      <td>525</td>\n",
       "      <td>24</td>\n",
       "      <td>All Levels</td>\n",
       "      <td>4 hours</td>\n",
       "      <td>2013-01-03T00:55:31Z</td>\n",
       "      <td>WebDevelopment</td>\n",
       "      <td>4.0</td>\n",
       "      <td>2013-01-03</td>\n",
       "      <td>All Levels</td>\n",
       "      <td>True</td>\n",
       "    </tr>\n",
       "    <tr>\n",
       "      <th>1</th>\n",
       "      <td>19603</td>\n",
       "      <td>Learning Dynamic Website Design - PHP MySQL an...</td>\n",
       "      <td>https://www.udemy.com/learning-dynamic-website...</td>\n",
       "      <td>True</td>\n",
       "      <td>50.0</td>\n",
       "      <td>47886</td>\n",
       "      <td>285</td>\n",
       "      <td>125</td>\n",
       "      <td>All Levels</td>\n",
       "      <td>12.5 hours</td>\n",
       "      <td>2012-06-18T16:52:34Z</td>\n",
       "      <td>WebDevelopment</td>\n",
       "      <td>12.5</td>\n",
       "      <td>2012-06-18</td>\n",
       "      <td>All Levels</td>\n",
       "      <td>True</td>\n",
       "    </tr>\n",
       "    <tr>\n",
       "      <th>2</th>\n",
       "      <td>889438</td>\n",
       "      <td>ChatBots: Messenger ChatBot with API.AI and No...</td>\n",
       "      <td>https://www.udemy.com/chatbots/</td>\n",
       "      <td>True</td>\n",
       "      <td>50.0</td>\n",
       "      <td>2577</td>\n",
       "      <td>529</td>\n",
       "      <td>64</td>\n",
       "      <td>All Levels</td>\n",
       "      <td>4.5 hours</td>\n",
       "      <td>2016-06-30T16:57:08Z</td>\n",
       "      <td>WebDevelopment</td>\n",
       "      <td>4.5</td>\n",
       "      <td>2016-06-30</td>\n",
       "      <td>All Levels</td>\n",
       "      <td>True</td>\n",
       "    </tr>\n",
       "    <tr>\n",
       "      <th>3</th>\n",
       "      <td>197836</td>\n",
       "      <td>Projects in HTML5</td>\n",
       "      <td>https://www.udemy.com/projects-in-html5/</td>\n",
       "      <td>True</td>\n",
       "      <td>60.0</td>\n",
       "      <td>8777</td>\n",
       "      <td>206</td>\n",
       "      <td>75</td>\n",
       "      <td>Intermediate Level</td>\n",
       "      <td>15.5 hours</td>\n",
       "      <td>2014-06-17T05:43:50Z</td>\n",
       "      <td>WebDevelopment</td>\n",
       "      <td>15.5</td>\n",
       "      <td>2014-06-17</td>\n",
       "      <td>Intermediate Level</td>\n",
       "      <td>True</td>\n",
       "    </tr>\n",
       "    <tr>\n",
       "      <th>4</th>\n",
       "      <td>505208</td>\n",
       "      <td>Programming Foundations: HTML5 + CSS3 for Entr...</td>\n",
       "      <td>https://www.udemy.com/html-css-more/</td>\n",
       "      <td>True</td>\n",
       "      <td>20.0</td>\n",
       "      <td>23764</td>\n",
       "      <td>490</td>\n",
       "      <td>58</td>\n",
       "      <td>Beginner Level</td>\n",
       "      <td>5.5 hours</td>\n",
       "      <td>2015-10-17T04:52:25Z</td>\n",
       "      <td>WebDevelopment</td>\n",
       "      <td>5.5</td>\n",
       "      <td>2015-10-17</td>\n",
       "      <td>Beginner Level</td>\n",
       "      <td>True</td>\n",
       "    </tr>\n",
       "  </tbody>\n",
       "</table>\n",
       "</div>"
      ],
      "text/plain": [
       "       id                                              title  \\\n",
       "0   28295  Learn Web Designing & HTML5/CSS3 Essentials in...   \n",
       "1   19603  Learning Dynamic Website Design - PHP MySQL an...   \n",
       "2  889438  ChatBots: Messenger ChatBot with API.AI and No...   \n",
       "3  197836                                  Projects in HTML5   \n",
       "4  505208  Programming Foundations: HTML5 + CSS3 for Entr...   \n",
       "\n",
       "                                                 url  isPaid  price  \\\n",
       "0  https://www.udemy.com/build-beautiful-html5-we...    True   75.0   \n",
       "1  https://www.udemy.com/learning-dynamic-website...    True   50.0   \n",
       "2                    https://www.udemy.com/chatbots/    True   50.0   \n",
       "3           https://www.udemy.com/projects-in-html5/    True   60.0   \n",
       "4               https://www.udemy.com/html-css-more/    True   20.0   \n",
       "\n",
       "   numSubscribers  numReviews  numPublishedLectures  instructionalLevel  \\\n",
       "0           43285         525                    24          All Levels   \n",
       "1           47886         285                   125          All Levels   \n",
       "2            2577         529                    64          All Levels   \n",
       "3            8777         206                    75  Intermediate Level   \n",
       "4           23764         490                    58      Beginner Level   \n",
       "\n",
       "  contentInfo         publishedTime        category  timeSpent publishDate  \\\n",
       "0     4 hours  2013-01-03T00:55:31Z  WebDevelopment        4.0  2013-01-03   \n",
       "1  12.5 hours  2012-06-18T16:52:34Z  WebDevelopment       12.5  2012-06-18   \n",
       "2   4.5 hours  2016-06-30T16:57:08Z  WebDevelopment        4.5  2016-06-30   \n",
       "3  15.5 hours  2014-06-17T05:43:50Z  WebDevelopment       15.5  2014-06-17   \n",
       "4   5.5 hours  2015-10-17T04:52:25Z  WebDevelopment        5.5  2015-10-17   \n",
       "\n",
       "                level  paidBool  \n",
       "0          All Levels      True  \n",
       "1          All Levels      True  \n",
       "2          All Levels      True  \n",
       "3  Intermediate Level      True  \n",
       "4      Beginner Level      True  "
      ]
     },
     "execution_count": 4,
     "metadata": {},
     "output_type": "execute_result"
    }
   ],
   "source": [
    "df_courses.head()"
   ]
  },
  {
   "cell_type": "code",
   "execution_count": 5,
   "metadata": {},
   "outputs": [],
   "source": [
    "global headers\n",
    "\n",
    "headers = {\n",
    "        'user-agent': 'Mozilla/5.0 (Macintosh; Intel Mac OS X 10_15_1) AppleWebKit/537.36 (KHTML, like Gecko) Chrome/79.0.3945.117 Safari/537.36',\n",
    "        }"
   ]
  },
  {
   "cell_type": "code",
   "execution_count": 6,
   "metadata": {},
   "outputs": [],
   "source": [
    "def description(soup):\n",
    "    \"\"\"\n",
    "    Extraction of featured review using the BeautifulSoup object as input to find the text into the class called\n",
    "    ud-component--clp--featured-review-content. Return the featured review of every course if it exists. Otherwise,\n",
    "    return None.\n",
    "    \"\"\"\n",
    "    try:\n",
    "        description = soup.find('div', class_ ='show-more--content--isg5c show-more--with-gradient--2abmN')\n",
    "        description = description.text\n",
    "    except:\n",
    "        description = None\n",
    "        \n",
    "    return description"
   ]
  },
  {
   "cell_type": "code",
   "execution_count": 7,
   "metadata": {},
   "outputs": [],
   "source": [
    "def AverageRating(soup):\n",
    "    \"\"\"\n",
    "    Use of soup object as input to extract the average rating of every course. Return the average score \n",
    "    as string if it exists. Otherwise, the method return None.\n",
    "    \"\"\"\n",
    "    try:\n",
    "        dist_rating = soup.find('div', class_ ='ud-component--course-landing-page-udlite--reviews')\n",
    "        dist_rating_str = dist_rating['data-component-args']\n",
    "        averageRating = re.findall(r'\"averageRating\":\\d.\\d+', dist_rating_str)\n",
    "    except:\n",
    "        averageRating = None\n",
    "        \n",
    "    return averageRating"
   ]
  },
  {
   "cell_type": "code",
   "execution_count": 8,
   "metadata": {},
   "outputs": [],
   "source": [
    "def RequirementsExtraction(soup):\n",
    "    \"\"\"\n",
    "    Extraction of requirements of every course, finding the tag <li> into the class requirements__item. Return \n",
    "    a string with the list of requirements. Otherwise, return None.\n",
    "    \"\"\"\n",
    "    try:\n",
    "        requirements = soup.find('div', class_ ='ud-component--course-landing-page-udlite--requirements')\n",
    "        req = requirements.text\n",
    "    except:\n",
    "        req = None\n",
    "        \n",
    "    return req"
   ]
  },
  {
   "cell_type": "code",
   "execution_count": 9,
   "metadata": {},
   "outputs": [],
   "source": [
    "def RatingExtraction(soup):\n",
    "    \"\"\"\n",
    "    Extraction of distribution of rating, it means, a tuple with ratings and number of counts. Return None \n",
    "    if the distribution doesn't exist.\n",
    "    \"\"\"\n",
    "    try:\n",
    "        dist_rating = soup.find('div', class_ ='ud-component--course-landing-page-udlite--reviews')\n",
    "        dist_rating_str = dist_rating['data-component-args']\n",
    "        counts = re.findall(r'\"count\":\\d+', dist_rating_str)\n",
    "        rating = re.findall(r'\"rating\":\\d+', dist_rating_str)\n",
    "        count, rank = [], []\n",
    "        for c in counts:\n",
    "            count.append(c[8:])\n",
    "\n",
    "        for rt in rating:\n",
    "            rank.append(rt[9:])\n",
    "\n",
    "        rating_dist = set(zip(count, rank))\n",
    "    except:\n",
    "        rating_dist = None\n",
    "    \n",
    "    return rating_dist"
   ]
  },
  {
   "cell_type": "code",
   "execution_count": 10,
   "metadata": {},
   "outputs": [],
   "source": [
    "def webScraping(url):\n",
    "    \"\"\"\n",
    "    This method receives the url of the web page and it creates the BeautifulSoup object to find classes and \n",
    "    key tags to extract description, review, rating, ID and requirements of every course calling the methods above.\n",
    "    \"\"\"\n",
    "    \n",
    "    req = Request(url, headers=headers) \n",
    "    try:\n",
    "        \n",
    "        webpage = urlopen(req).read()\n",
    "        soup_page = soup(webpage, 'html.parser')\n",
    "\n",
    "        descript = description(soup_page)\n",
    "        avgRating = AverageRating(soup_page)\n",
    "        requirements = RequirementsExtraction(soup_page) \n",
    "        rating_dist = RatingExtraction(soup_page)\n",
    "    \n",
    "        return descript, avgRating, requirements, rating_dist\n",
    "    except:\n",
    "        return None, None, None, None"
   ]
  },
  {
   "cell_type": "markdown",
   "metadata": {},
   "source": [
    "Test with a sample:"
   ]
  },
  {
   "cell_type": "code",
   "execution_count": 11,
   "metadata": {},
   "outputs": [
    {
     "data": {
      "text/plain": [
       "(\"Do you want to build a chatbot, so a bot that can talk? Yes, a bot that can talk to your friends or customers or fans while you sleep or do something else. You can make one for your customer that keep on asking the same questions. Or if you have a community for your fans and followers that want to know your details. Use your imagination, any time you have to reply the same thing over and over again, someone else like a bot can do it for you.In the first part of the course, we'll make a chatbot without programming skills. We'll build a ChatBot that can answer frequently asked questions, and I'll show you how to teach your bot to have any other dialogs. We'll learn this by teaching our ChatBot to make job interviews.We'll use DialogFlow to process natural language. DialogFlow will help the bot to understand what users want.The chatbot will communicate to its customers via Facebook Messenger.And in the second part, we'll use NodeJS to upgrade the bot. So the basic knowledge of javascript and NodeJS is needed.With the new app, our bot will be able to remember things, that is, store information into a database or connect to other API services. With this, the bot will gain external knowledge and functionality.And remember, I'LL BE THERE FOR YOU. I ANSWER EVERY QUESTION AND HELP EVERY STUDENT.At the end of the course, you'll have a fully functional ChatBot. And you'll also know how to teach the bot to have other dialogs with customers. You'll know how to make a bot for yourself and other people.My name is Jana Bergant, and I'm a developer with over 20 years of experience. I'm an IT instructor teaching people new tech skills. Over 17000 people are already taking my course.I help all my students at every step of development. And I'll be here for you!So if the predictions turn right, this will open up a new channel for businesses to reach a large audience. And here is a BIG OPPORTUNITY FOR YOU! Be one of the first people that know how to build chatbots. You can build it for your business or other people.This course will show you how to create a ChatBot!In the course, we use the latest version of DialogFlow. Also, I update videos regularly to stay up to date.The last update of the course was on 27th February 2020I added DialogFlow mega agentsWho this course is for:everybody that realizes the potential chatbots bringeverybody who wan't a deeper knowledge of DialogFloweverybody who wants to build a chatbot for Messangereverybody who needs a bot to answer FAQeverybody who needs a bot to take job interviewseverybody who need the bot to talk to customers or friend or fans or ...You should not take the course if you don't know what chatbot is. Take a peak at the first FREE videos first!for the second part of the course you need to know the basics of JavaScript and Node.js\",\n",
       " ['\"averageRating\":4.44057'],\n",
       " 'Requirementsyou need to know what chatbots arefor the second part of the course you need to know the basics of JavaScript and Node.js',\n",
       " {('1305', '5'), ('263', '3'), ('35', '1'), ('41', '2'), ('704', '4')})"
      ]
     },
     "execution_count": 11,
     "metadata": {},
     "output_type": "execute_result"
    }
   ],
   "source": [
    "url = df_courses.url[2]\n",
    "webScraping(url)"
   ]
  },
  {
   "cell_type": "code",
   "execution_count": 12,
   "metadata": {},
   "outputs": [],
   "source": [
    "req = Request(url, headers=headers) \n",
    "webpage = urlopen(req).read()\n",
    "page_soup = soup(webpage, 'html.parser')"
   ]
  },
  {
   "cell_type": "code",
   "execution_count": 13,
   "metadata": {},
   "outputs": [],
   "source": [
    "assert page_soup is not None, \"Soup is empty\""
   ]
  },
  {
   "cell_type": "code",
   "execution_count": 14,
   "metadata": {},
   "outputs": [
    {
     "data": {
      "text/plain": [
       "['\"averageRating\":4.44057']"
      ]
     },
     "execution_count": 14,
     "metadata": {},
     "output_type": "execute_result"
    }
   ],
   "source": [
    "avgRating = AverageRating(page_soup)\n",
    "avgRating"
   ]
  },
  {
   "cell_type": "code",
   "execution_count": 15,
   "metadata": {},
   "outputs": [
    {
     "data": {
      "text/plain": [
       "{('1305', '5'), ('263', '3'), ('35', '1'), ('41', '2'), ('704', '4')}"
      ]
     },
     "execution_count": 15,
     "metadata": {},
     "output_type": "execute_result"
    }
   ],
   "source": [
    "rating_dist = RatingExtraction(page_soup)\n",
    "rating_dist"
   ]
  },
  {
   "cell_type": "code",
   "execution_count": 16,
   "metadata": {},
   "outputs": [
    {
     "data": {
      "text/plain": [
       "\"Do you want to build a chatbot, so a bot that can talk? Yes, a bot that can talk to your friends or customers or fans while you sleep or do something else. You can make one for your customer that keep on asking the same questions. Or if you have a community for your fans and followers that want to know your details. Use your imagination, any time you have to reply the same thing over and over again, someone else like a bot can do it for you.In the first part of the course, we'll make a chatbot without programming skills. We'll build a ChatBot that can answer frequently asked questions, and I'll show you how to teach your bot to have any other dialogs. We'll learn this by teaching our ChatBot to make job interviews.We'll use DialogFlow to process natural language. DialogFlow will help the bot to understand what users want.The chatbot will communicate to its customers via Facebook Messenger.And in the second part, we'll use NodeJS to upgrade the bot. So the basic knowledge of javascript and NodeJS is needed.With the new app, our bot will be able to remember things, that is, store information into a database or connect to other API services. With this, the bot will gain external knowledge and functionality.And remember, I'LL BE THERE FOR YOU. I ANSWER EVERY QUESTION AND HELP EVERY STUDENT.At the end of the course, you'll have a fully functional ChatBot. And you'll also know how to teach the bot to have other dialogs with customers. You'll know how to make a bot for yourself and other people.My name is Jana Bergant, and I'm a developer with over 20 years of experience. I'm an IT instructor teaching people new tech skills. Over 17000 people are already taking my course.I help all my students at every step of development. And I'll be here for you!So if the predictions turn right, this will open up a new channel for businesses to reach a large audience. And here is a BIG OPPORTUNITY FOR YOU! Be one of the first people that know how to build chatbots. You can build it for your business or other people.This course will show you how to create a ChatBot!In the course, we use the latest version of DialogFlow. Also, I update videos regularly to stay up to date.The last update of the course was on 27th February 2020I added DialogFlow mega agentsWho this course is for:everybody that realizes the potential chatbots bringeverybody who wan't a deeper knowledge of DialogFloweverybody who wants to build a chatbot for Messangereverybody who needs a bot to answer FAQeverybody who needs a bot to take job interviewseverybody who need the bot to talk to customers or friend or fans or ...You should not take the course if you don't know what chatbot is. Take a peak at the first FREE videos first!for the second part of the course you need to know the basics of JavaScript and Node.js\""
      ]
     },
     "execution_count": 16,
     "metadata": {},
     "output_type": "execute_result"
    }
   ],
   "source": [
    "descript = description(page_soup)\n",
    "descript"
   ]
  },
  {
   "cell_type": "code",
   "execution_count": 17,
   "metadata": {},
   "outputs": [
    {
     "data": {
      "text/plain": [
       "'Requirementsyou need to know what chatbots arefor the second part of the course you need to know the basics of JavaScript and Node.js'"
      ]
     },
     "execution_count": 17,
     "metadata": {},
     "output_type": "execute_result"
    }
   ],
   "source": [
    "requirements = RequirementsExtraction(page_soup) \n",
    "requirements"
   ]
  },
  {
   "cell_type": "code",
   "execution_count": 43,
   "metadata": {},
   "outputs": [],
   "source": [
    "# def chunker(seq, size):\n",
    "#     scraping_cols = []\n",
    "#     for pos in range(0, len(seq), size):\n",
    "#         df = seq[pos:pos + size]\n",
    "#         for url in df.url:\n",
    "#             scraping_cols.append(webScraping(url))\n",
    "#             time.sleep(15)\n",
    "            \n",
    "#     unzip_scraping_cols = list(zip(*scraping_cols)) \n",
    "#     time.sleep(10)\n",
    "        \n",
    "#     return unzip_scraping_cols\n",
    "\n",
    "# unzip_scraping_cols = chunker(df, 100)\n",
    "# df_courses.loc[1000:2000, 'review'] = unzip_scraping_cols[0]\n",
    "# df_courses.loc[1000:2000:, 'avgRating'] = unzip_scraping_cols[1]\n",
    "# df_courses.loc[1000:2000:, 'requirements'] = unzip_scraping_cols[2]"
   ]
  },
  {
   "cell_type": "markdown",
   "metadata": {},
   "source": [
    "Selecting 50 samples of every category:"
   ]
  },
  {
   "cell_type": "code",
   "execution_count": 21,
   "metadata": {},
   "outputs": [],
   "source": [
    "df_samples = df_courses.groupby('category').apply(lambda x: x.sample(n=50))\n",
    "df_samples.reset_index(drop=True, inplace=True)"
   ]
  },
  {
   "cell_type": "code",
   "execution_count": 22,
   "metadata": {},
   "outputs": [],
   "source": [
    "df_chunk = df_samples.loc[0: 99]"
   ]
  },
  {
   "cell_type": "code",
   "execution_count": null,
   "metadata": {},
   "outputs": [],
   "source": [
    "scraping_cols = []\n",
    "\n",
    "for url in df_chunk.url:\n",
    "    scraping_cols.append(webScraping(url))\n",
    "    time.sleep(15)"
   ]
  },
  {
   "cell_type": "code",
   "execution_count": null,
   "metadata": {},
   "outputs": [],
   "source": [
    "unzip_scraping_cols = list(zip(*scraping_cols)) \n",
    "df_courses.loc[a:b, 'description'] = unzip_scraping_cols[0]\n",
    "df_courses.loc[a:b:, 'avgRating'] = unzip_scraping_cols[1]\n",
    "df_courses.loc[a:b:, 'requirements'] = unzip_scraping_cols[2]\n",
    "df_courses.loc[a:b:, 'rating_distribution'] = unzip_scraping_cols[3]"
   ]
  }
 ],
 "metadata": {
  "kernelspec": {
   "display_name": "Python 3",
   "language": "python",
   "name": "python3"
  },
  "language_info": {
   "codemirror_mode": {
    "name": "ipython",
    "version": 3
   },
   "file_extension": ".py",
   "mimetype": "text/x-python",
   "name": "python",
   "nbconvert_exporter": "python",
   "pygments_lexer": "ipython3",
   "version": "3.7.1"
  }
 },
 "nbformat": 4,
 "nbformat_minor": 2
}
