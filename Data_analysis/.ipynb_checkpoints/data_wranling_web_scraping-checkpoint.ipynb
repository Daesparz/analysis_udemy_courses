{
 "cells": [
  {
   "cell_type": "markdown",
   "metadata": {},
   "source": [
    "# Web Scraping to complete the dataset"
   ]
  },
  {
   "cell_type": "code",
   "execution_count": 27,
   "metadata": {},
   "outputs": [],
   "source": [
    "import re\n",
    "import pandas as pd\n",
    "import seaborn as sns\n",
    "from urllib.request import Request, urlopen\n",
    "from bs4 import BeautifulSoup as soup"
   ]
  },
  {
   "cell_type": "code",
   "execution_count": 10,
   "metadata": {},
   "outputs": [],
   "source": [
    "from urllib.request import urlopen\n",
    "from urllib.error import HTTPError\n",
    "from bs4 import BeautifulSoup"
   ]
  },
  {
   "cell_type": "code",
   "execution_count": 2,
   "metadata": {},
   "outputs": [],
   "source": [
    "df_courses = pd.read_csv('../Data/interim/Courses.csv')"
   ]
  },
  {
   "cell_type": "code",
   "execution_count": 3,
   "metadata": {},
   "outputs": [
    {
     "data": {
      "text/html": [
       "<div>\n",
       "<style scoped>\n",
       "    .dataframe tbody tr th:only-of-type {\n",
       "        vertical-align: middle;\n",
       "    }\n",
       "\n",
       "    .dataframe tbody tr th {\n",
       "        vertical-align: top;\n",
       "    }\n",
       "\n",
       "    .dataframe thead th {\n",
       "        text-align: right;\n",
       "    }\n",
       "</style>\n",
       "<table border=\"1\" class=\"dataframe\">\n",
       "  <thead>\n",
       "    <tr style=\"text-align: right;\">\n",
       "      <th></th>\n",
       "      <th>id</th>\n",
       "      <th>title</th>\n",
       "      <th>url</th>\n",
       "      <th>isPaid</th>\n",
       "      <th>price</th>\n",
       "      <th>numSubscribers</th>\n",
       "      <th>numReviews</th>\n",
       "      <th>numPublishedLectures</th>\n",
       "      <th>instructionalLevel</th>\n",
       "      <th>contentInfo</th>\n",
       "      <th>publishedTime</th>\n",
       "      <th>category</th>\n",
       "      <th>timeSpent</th>\n",
       "      <th>publishDate</th>\n",
       "      <th>level</th>\n",
       "      <th>paidBool</th>\n",
       "    </tr>\n",
       "  </thead>\n",
       "  <tbody>\n",
       "    <tr>\n",
       "      <th>0</th>\n",
       "      <td>28295</td>\n",
       "      <td>Learn Web Designing &amp; HTML5/CSS3 Essentials in...</td>\n",
       "      <td>https://www.udemy.com/build-beautiful-html5-we...</td>\n",
       "      <td>True</td>\n",
       "      <td>75.0</td>\n",
       "      <td>43285</td>\n",
       "      <td>525</td>\n",
       "      <td>24</td>\n",
       "      <td>All Levels</td>\n",
       "      <td>4 hours</td>\n",
       "      <td>2013-01-03T00:55:31Z</td>\n",
       "      <td>WebDevelopment</td>\n",
       "      <td>4.0</td>\n",
       "      <td>2013-01-03</td>\n",
       "      <td>All Levels</td>\n",
       "      <td>True</td>\n",
       "    </tr>\n",
       "    <tr>\n",
       "      <th>1</th>\n",
       "      <td>19603</td>\n",
       "      <td>Learning Dynamic Website Design - PHP MySQL an...</td>\n",
       "      <td>https://www.udemy.com/learning-dynamic-website...</td>\n",
       "      <td>True</td>\n",
       "      <td>50.0</td>\n",
       "      <td>47886</td>\n",
       "      <td>285</td>\n",
       "      <td>125</td>\n",
       "      <td>All Levels</td>\n",
       "      <td>12.5 hours</td>\n",
       "      <td>2012-06-18T16:52:34Z</td>\n",
       "      <td>WebDevelopment</td>\n",
       "      <td>12.5</td>\n",
       "      <td>2012-06-18</td>\n",
       "      <td>All Levels</td>\n",
       "      <td>True</td>\n",
       "    </tr>\n",
       "    <tr>\n",
       "      <th>2</th>\n",
       "      <td>889438</td>\n",
       "      <td>ChatBots: Messenger ChatBot with API.AI and No...</td>\n",
       "      <td>https://www.udemy.com/chatbots/</td>\n",
       "      <td>True</td>\n",
       "      <td>50.0</td>\n",
       "      <td>2577</td>\n",
       "      <td>529</td>\n",
       "      <td>64</td>\n",
       "      <td>All Levels</td>\n",
       "      <td>4.5 hours</td>\n",
       "      <td>2016-06-30T16:57:08Z</td>\n",
       "      <td>WebDevelopment</td>\n",
       "      <td>4.5</td>\n",
       "      <td>2016-06-30</td>\n",
       "      <td>All Levels</td>\n",
       "      <td>True</td>\n",
       "    </tr>\n",
       "    <tr>\n",
       "      <th>3</th>\n",
       "      <td>197836</td>\n",
       "      <td>Projects in HTML5</td>\n",
       "      <td>https://www.udemy.com/projects-in-html5/</td>\n",
       "      <td>True</td>\n",
       "      <td>60.0</td>\n",
       "      <td>8777</td>\n",
       "      <td>206</td>\n",
       "      <td>75</td>\n",
       "      <td>Intermediate Level</td>\n",
       "      <td>15.5 hours</td>\n",
       "      <td>2014-06-17T05:43:50Z</td>\n",
       "      <td>WebDevelopment</td>\n",
       "      <td>15.5</td>\n",
       "      <td>2014-06-17</td>\n",
       "      <td>Intermediate Level</td>\n",
       "      <td>True</td>\n",
       "    </tr>\n",
       "    <tr>\n",
       "      <th>4</th>\n",
       "      <td>505208</td>\n",
       "      <td>Programming Foundations: HTML5 + CSS3 for Entr...</td>\n",
       "      <td>https://www.udemy.com/html-css-more/</td>\n",
       "      <td>True</td>\n",
       "      <td>20.0</td>\n",
       "      <td>23764</td>\n",
       "      <td>490</td>\n",
       "      <td>58</td>\n",
       "      <td>Beginner Level</td>\n",
       "      <td>5.5 hours</td>\n",
       "      <td>2015-10-17T04:52:25Z</td>\n",
       "      <td>WebDevelopment</td>\n",
       "      <td>5.5</td>\n",
       "      <td>2015-10-17</td>\n",
       "      <td>Beginner Level</td>\n",
       "      <td>True</td>\n",
       "    </tr>\n",
       "  </tbody>\n",
       "</table>\n",
       "</div>"
      ],
      "text/plain": [
       "       id                                              title  \\\n",
       "0   28295  Learn Web Designing & HTML5/CSS3 Essentials in...   \n",
       "1   19603  Learning Dynamic Website Design - PHP MySQL an...   \n",
       "2  889438  ChatBots: Messenger ChatBot with API.AI and No...   \n",
       "3  197836                                  Projects in HTML5   \n",
       "4  505208  Programming Foundations: HTML5 + CSS3 for Entr...   \n",
       "\n",
       "                                                 url  isPaid  price  \\\n",
       "0  https://www.udemy.com/build-beautiful-html5-we...    True   75.0   \n",
       "1  https://www.udemy.com/learning-dynamic-website...    True   50.0   \n",
       "2                    https://www.udemy.com/chatbots/    True   50.0   \n",
       "3           https://www.udemy.com/projects-in-html5/    True   60.0   \n",
       "4               https://www.udemy.com/html-css-more/    True   20.0   \n",
       "\n",
       "   numSubscribers  numReviews  numPublishedLectures  instructionalLevel  \\\n",
       "0           43285         525                    24          All Levels   \n",
       "1           47886         285                   125          All Levels   \n",
       "2            2577         529                    64          All Levels   \n",
       "3            8777         206                    75  Intermediate Level   \n",
       "4           23764         490                    58      Beginner Level   \n",
       "\n",
       "  contentInfo         publishedTime        category  timeSpent publishDate  \\\n",
       "0     4 hours  2013-01-03T00:55:31Z  WebDevelopment        4.0  2013-01-03   \n",
       "1  12.5 hours  2012-06-18T16:52:34Z  WebDevelopment       12.5  2012-06-18   \n",
       "2   4.5 hours  2016-06-30T16:57:08Z  WebDevelopment        4.5  2016-06-30   \n",
       "3  15.5 hours  2014-06-17T05:43:50Z  WebDevelopment       15.5  2014-06-17   \n",
       "4   5.5 hours  2015-10-17T04:52:25Z  WebDevelopment        5.5  2015-10-17   \n",
       "\n",
       "                level  paidBool  \n",
       "0          All Levels      True  \n",
       "1          All Levels      True  \n",
       "2          All Levels      True  \n",
       "3  Intermediate Level      True  \n",
       "4      Beginner Level      True  "
      ]
     },
     "execution_count": 3,
     "metadata": {},
     "output_type": "execute_result"
    }
   ],
   "source": [
    "df_courses.head()"
   ]
  },
  {
   "cell_type": "code",
   "execution_count": 29,
   "metadata": {},
   "outputs": [],
   "source": [
    "headers = {\n",
    "        'user-agent': 'Mozilla/5.0 (Macintosh; Intel Mac OS X 10_15_1) AppleWebKit/537.36 (KHTML, like Gecko) Chrome/79.0.3945.117 Safari/537.36',\n",
    "        }"
   ]
  },
  {
   "cell_type": "code",
   "execution_count": 170,
   "metadata": {},
   "outputs": [],
   "source": [
    "req = Request(df_courses.url[1], headers=headers) \n",
    "webpage = urlopen(req).read()"
   ]
  },
  {
   "cell_type": "code",
   "execution_count": 171,
   "metadata": {},
   "outputs": [],
   "source": [
    "page_soup = soup(webpage, 'html.parser')"
   ]
  },
  {
   "cell_type": "code",
   "execution_count": 179,
   "metadata": {},
   "outputs": [],
   "source": [
    "#page_soup"
   ]
  },
  {
   "cell_type": "markdown",
   "metadata": {},
   "source": [
    "# Finding relevant features \n",
    "\n",
    "Using this `page_soup` we proceed to extract some features before to create the functions that will replicate the same for all the courses in the catalog of the dataset."
   ]
  },
  {
   "cell_type": "markdown",
   "metadata": {},
   "source": [
    "### First Review:"
   ]
  },
  {
   "cell_type": "code",
   "execution_count": 173,
   "metadata": {},
   "outputs": [],
   "source": [
    "review = page_soup.find('div', class_ ='ud-component--clp--featured-review-content')\n",
    "review"
   ]
  },
  {
   "cell_type": "markdown",
   "metadata": {},
   "source": [
    "### Ranking Distribution "
   ]
  },
  {
   "cell_type": "code",
   "execution_count": 112,
   "metadata": {},
   "outputs": [
    {
     "data": {
      "text/plain": [
       "<div class=\"ud-component--clp--course-reviews-display\" data-component-args='{\"ratingDistribution\":[{\"count\":19,\"rating\":1},{\"count\":27,\"rating\":2},{\"count\":110,\"rating\":3},{\"count\":270,\"rating\":4},{\"count\":490,\"rating\":5}],\"topReviewAttributes\":[],\"averageRating\":4.5738,\"showUserAvatar\":true,\"isFreeSEOExp\":false,\"courseId\":28295,\"page\":\"clp\"}'>\n",
       "</div>"
      ]
     },
     "execution_count": 112,
     "metadata": {},
     "output_type": "execute_result"
    }
   ],
   "source": [
    "dist_rating = page_soup.find('div', class_ ='ud-component--clp--course-reviews-display')\n",
    "dist_rating"
   ]
  },
  {
   "cell_type": "code",
   "execution_count": 114,
   "metadata": {},
   "outputs": [
    {
     "data": {
      "text/plain": [
       "'{\"ratingDistribution\":[{\"count\":19,\"rating\":1},{\"count\":27,\"rating\":2},{\"count\":110,\"rating\":3},{\"count\":270,\"rating\":4},{\"count\":490,\"rating\":5}],\"topReviewAttributes\":[],\"averageRating\":4.5738,\"showUserAvatar\":true,\"isFreeSEOExp\":false,\"courseId\":28295,\"page\":\"clp\"}'"
      ]
     },
     "execution_count": 114,
     "metadata": {},
     "output_type": "execute_result"
    }
   ],
   "source": [
    "dist_rating_str = dist_rating['data-component-args']\n",
    "dist_rating_str"
   ]
  },
  {
   "cell_type": "code",
   "execution_count": 129,
   "metadata": {},
   "outputs": [],
   "source": [
    "counts = re.findall(r'\"count\":\\d+', dist_rating_str)\n",
    "rating = re.findall(r'\"rating\":\\d+', dist_rating_str)"
   ]
  },
  {
   "cell_type": "code",
   "execution_count": 139,
   "metadata": {},
   "outputs": [
    {
     "name": "stdout",
     "output_type": "stream",
     "text": [
      "{('490', '90'), ('110', '90'), ('270', '90'), ('27', '90'), ('19', '90')}\n"
     ]
    }
   ],
   "source": [
    "count, rank = [], []\n",
    "for c in counts:\n",
    "    count.append(c[8:])\n",
    "    \n",
    "for rt in rating:\n",
    "    rank.append(c[9:])\n",
    "    \n",
    "rating_dist = set(zip(count, rank))\n",
    "print(rating_dist)"
   ]
  },
  {
   "cell_type": "markdown",
   "metadata": {},
   "source": [
    "### CourseID"
   ]
  },
  {
   "cell_type": "code",
   "execution_count": 120,
   "metadata": {},
   "outputs": [
    {
     "name": "stdout",
     "output_type": "stream",
     "text": [
      "['\"courseId\":28295']\n"
     ]
    }
   ],
   "source": [
    "courseId = re.findall(r'\"courseId\":\\d+', dist_rating_str)\n",
    "print(courseId)"
   ]
  },
  {
   "cell_type": "markdown",
   "metadata": {},
   "source": [
    "### Average Rating"
   ]
  },
  {
   "cell_type": "code",
   "execution_count": 128,
   "metadata": {},
   "outputs": [
    {
     "name": "stdout",
     "output_type": "stream",
     "text": [
      "['\"averageRating\":4.5738']\n"
     ]
    }
   ],
   "source": [
    "averageRating = re.findall(r'\"averageRating\":\\d.\\d+', dist_rating_str)\n",
    "print(averageRating)"
   ]
  },
  {
   "cell_type": "markdown",
   "metadata": {},
   "source": [
    "### Requirements"
   ]
  },
  {
   "cell_type": "code",
   "execution_count": 126,
   "metadata": {},
   "outputs": [
    {
     "name": "stdout",
     "output_type": "stream",
     "text": [
      "Adobe Photoshop CS3 or higher\n",
      "Very basic knowledge of HTML & CSS\n",
      "Text Editor (TextWranger, Espresso, or Coda recommended)\n"
     ]
    }
   ],
   "source": [
    "requirements = page_soup.find_all('li', class_ ='requirements__item')\n",
    "for requirement in requirements:\n",
    "    print(requirement.text)"
   ]
  },
  {
   "cell_type": "code",
   "execution_count": 178,
   "metadata": {},
   "outputs": [],
   "source": [
    "#page_soup.find_all('span')"
   ]
  },
  {
   "cell_type": "code",
   "execution_count": 177,
   "metadata": {},
   "outputs": [],
   "source": [
    "#page_soup.find_all('li')"
   ]
  },
  {
   "cell_type": "code",
   "execution_count": 176,
   "metadata": {},
   "outputs": [],
   "source": [
    "#page_soup.find_all('div', class_ ='clp-component-render')"
   ]
  },
  {
   "cell_type": "markdown",
   "metadata": {},
   "source": [
    "## Automatization of web scraping"
   ]
  },
  {
   "cell_type": "code",
   "execution_count": 169,
   "metadata": {},
   "outputs": [],
   "source": [
    "def reviewExtraction(soup):\n",
    "    \"\"\"\n",
    "    Method description\n",
    "    \"\"\"\n",
    "    review = soup.find('div', class_ ='ud-component--clp--featured-review-content')\n",
    "    try:\n",
    "        review_txt = review.text\n",
    "    except:\n",
    "        review_txt = review\n",
    "    return review_txt"
   ]
  },
  {
   "cell_type": "code",
   "execution_count": 147,
   "metadata": {},
   "outputs": [],
   "source": [
    "def RatingExtraction(soup):\n",
    "    \"\"\"\n",
    "    Method description\n",
    "    \"\"\"\n",
    "    dist_rating = soup.find('div', class_ ='ud-component--clp--course-reviews-display')\n",
    "    dist_rating_str = dist_rating['data-component-args']\n",
    "    counts = re.findall(r'\"count\":\\d+', dist_rating_str)\n",
    "    rating = re.findall(r'\"rating\":\\d+', dist_rating_str)\n",
    "    count, rank = [], []\n",
    "    for c in counts:\n",
    "        count.append(c[8:])\n",
    "    \n",
    "    for rt in rating:\n",
    "        rank.append(c[9:])\n",
    "    \n",
    "    rating_dist = set(zip(count, rank))\n",
    "    \n",
    "    return rating_dist"
   ]
  },
  {
   "cell_type": "code",
   "execution_count": 148,
   "metadata": {},
   "outputs": [],
   "source": [
    "def CourseId(soup):\n",
    "    \"\"\"\n",
    "    Method description\n",
    "    \"\"\"\n",
    "    try:\n",
    "        dist_rating = soup.find('div', class_ ='ud-component--clp--course-reviews-display')\n",
    "        dist_rating_str = dist_rating['data-component-args']\n",
    "        courseId = re.findall(r'\"courseId\":\\d+', dist_rating_str)\n",
    "    except:\n",
    "    return courseId"
   ]
  },
  {
   "cell_type": "code",
   "execution_count": 149,
   "metadata": {},
   "outputs": [],
   "source": [
    "def RequirementsExtraction(soup):\n",
    "    \"\"\"\n",
    "    Method description\n",
    "    \"\"\"\n",
    "    requirements = soup.find_all('li', class_ ='requirements__item')\n",
    "    req = []\n",
    "    for requirement in requirements:\n",
    "        req.append(requirement.text)\n",
    "    return req"
   ]
  },
  {
   "cell_type": "code",
   "execution_count": 165,
   "metadata": {},
   "outputs": [],
   "source": [
    "def webScraping(url):\n",
    "    \"\"\"\n",
    "    Method description\n",
    "    \"\"\"\n",
    "    req = Request(url, headers=headers) \n",
    "    webpage = urlopen(req).read()\n",
    "    soup_page = soup(webpage, 'html.parser')\n",
    "    \n",
    "    review = reviewExtraction(soup_page)\n",
    "    rating = RatingExtraction(soup_page)\n",
    "    courseId = CourseId(soup_page)\n",
    "    requirements = RequirementsExtraction(soup_page)\n",
    "    \n",
    "    return review, rating, courseId, requirements"
   ]
  },
  {
   "cell_type": "code",
   "execution_count": 166,
   "metadata": {},
   "outputs": [],
   "source": [
    "len_df = df_courses.shape[0]"
   ]
  },
  {
   "cell_type": "code",
   "execution_count": 167,
   "metadata": {},
   "outputs": [],
   "source": [
    "df_chunk1 = df_courses[0:100]"
   ]
  },
  {
   "cell_type": "code",
   "execution_count": 175,
   "metadata": {},
   "outputs": [],
   "source": [
    "#df_courses['webScrap'] = df_chunk1.url.apply(webScraping)"
   ]
  },
  {
   "cell_type": "code",
   "execution_count": null,
   "metadata": {},
   "outputs": [],
   "source": [
    "df.to_csv('..\\Data\\interim\\df_chunk1.csv', index = False, header=True) "
   ]
  }
 ],
 "metadata": {
  "kernelspec": {
   "display_name": "Python 3",
   "language": "python",
   "name": "python3"
  },
  "language_info": {
   "codemirror_mode": {
    "name": "ipython",
    "version": 3
   },
   "file_extension": ".py",
   "mimetype": "text/x-python",
   "name": "python",
   "nbconvert_exporter": "python",
   "pygments_lexer": "ipython3",
   "version": "3.7.1"
  }
 },
 "nbformat": 4,
 "nbformat_minor": 2
}
