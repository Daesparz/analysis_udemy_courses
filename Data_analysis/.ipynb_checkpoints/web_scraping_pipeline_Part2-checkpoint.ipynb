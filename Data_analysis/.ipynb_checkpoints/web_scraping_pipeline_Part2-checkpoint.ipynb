{
 "cells": [
  {
   "cell_type": "markdown",
   "metadata": {},
   "source": [
    "# Web Scraping to complete the dataset"
   ]
  },
  {
   "cell_type": "code",
   "execution_count": 1,
   "metadata": {},
   "outputs": [],
   "source": [
    "import re\n",
    "import time\n",
    "import pandas as pd\n",
    "import seaborn as sns"
   ]
  },
  {
   "cell_type": "markdown",
   "metadata": {},
   "source": [
    "Web Scraping packages:"
   ]
  },
  {
   "cell_type": "code",
   "execution_count": 2,
   "metadata": {},
   "outputs": [],
   "source": [
    "from urllib.request import Request, urlopen\n",
    "from urllib.error import HTTPError, URLError\n",
    "from bs4 import BeautifulSoup as soup\n",
    "from urllib.error import URLError"
   ]
  },
  {
   "cell_type": "code",
   "execution_count": 3,
   "metadata": {},
   "outputs": [],
   "source": [
    "df_courses = pd.read_csv('../Data/interim/Courses.csv')"
   ]
  },
  {
   "cell_type": "code",
   "execution_count": 4,
   "metadata": {},
   "outputs": [
    {
     "data": {
      "text/html": [
       "<div>\n",
       "<style scoped>\n",
       "    .dataframe tbody tr th:only-of-type {\n",
       "        vertical-align: middle;\n",
       "    }\n",
       "\n",
       "    .dataframe tbody tr th {\n",
       "        vertical-align: top;\n",
       "    }\n",
       "\n",
       "    .dataframe thead th {\n",
       "        text-align: right;\n",
       "    }\n",
       "</style>\n",
       "<table border=\"1\" class=\"dataframe\">\n",
       "  <thead>\n",
       "    <tr style=\"text-align: right;\">\n",
       "      <th></th>\n",
       "      <th>id</th>\n",
       "      <th>title</th>\n",
       "      <th>url</th>\n",
       "      <th>isPaid</th>\n",
       "      <th>price</th>\n",
       "      <th>numSubscribers</th>\n",
       "      <th>numReviews</th>\n",
       "      <th>numPublishedLectures</th>\n",
       "      <th>instructionalLevel</th>\n",
       "      <th>contentInfo</th>\n",
       "      <th>publishedTime</th>\n",
       "      <th>category</th>\n",
       "      <th>timeSpent</th>\n",
       "      <th>publishDate</th>\n",
       "      <th>level</th>\n",
       "      <th>paidBool</th>\n",
       "    </tr>\n",
       "  </thead>\n",
       "  <tbody>\n",
       "    <tr>\n",
       "      <th>0</th>\n",
       "      <td>28295</td>\n",
       "      <td>Learn Web Designing &amp; HTML5/CSS3 Essentials in...</td>\n",
       "      <td>https://www.udemy.com/build-beautiful-html5-we...</td>\n",
       "      <td>True</td>\n",
       "      <td>75.0</td>\n",
       "      <td>43285</td>\n",
       "      <td>525</td>\n",
       "      <td>24</td>\n",
       "      <td>All Levels</td>\n",
       "      <td>4 hours</td>\n",
       "      <td>2013-01-03T00:55:31Z</td>\n",
       "      <td>WebDevelopment</td>\n",
       "      <td>4.0</td>\n",
       "      <td>2013-01-03</td>\n",
       "      <td>All Levels</td>\n",
       "      <td>True</td>\n",
       "    </tr>\n",
       "    <tr>\n",
       "      <th>1</th>\n",
       "      <td>19603</td>\n",
       "      <td>Learning Dynamic Website Design - PHP MySQL an...</td>\n",
       "      <td>https://www.udemy.com/learning-dynamic-website...</td>\n",
       "      <td>True</td>\n",
       "      <td>50.0</td>\n",
       "      <td>47886</td>\n",
       "      <td>285</td>\n",
       "      <td>125</td>\n",
       "      <td>All Levels</td>\n",
       "      <td>12.5 hours</td>\n",
       "      <td>2012-06-18T16:52:34Z</td>\n",
       "      <td>WebDevelopment</td>\n",
       "      <td>12.5</td>\n",
       "      <td>2012-06-18</td>\n",
       "      <td>All Levels</td>\n",
       "      <td>True</td>\n",
       "    </tr>\n",
       "    <tr>\n",
       "      <th>2</th>\n",
       "      <td>889438</td>\n",
       "      <td>ChatBots: Messenger ChatBot with API.AI and No...</td>\n",
       "      <td>https://www.udemy.com/chatbots/</td>\n",
       "      <td>True</td>\n",
       "      <td>50.0</td>\n",
       "      <td>2577</td>\n",
       "      <td>529</td>\n",
       "      <td>64</td>\n",
       "      <td>All Levels</td>\n",
       "      <td>4.5 hours</td>\n",
       "      <td>2016-06-30T16:57:08Z</td>\n",
       "      <td>WebDevelopment</td>\n",
       "      <td>4.5</td>\n",
       "      <td>2016-06-30</td>\n",
       "      <td>All Levels</td>\n",
       "      <td>True</td>\n",
       "    </tr>\n",
       "    <tr>\n",
       "      <th>3</th>\n",
       "      <td>197836</td>\n",
       "      <td>Projects in HTML5</td>\n",
       "      <td>https://www.udemy.com/projects-in-html5/</td>\n",
       "      <td>True</td>\n",
       "      <td>60.0</td>\n",
       "      <td>8777</td>\n",
       "      <td>206</td>\n",
       "      <td>75</td>\n",
       "      <td>Intermediate Level</td>\n",
       "      <td>15.5 hours</td>\n",
       "      <td>2014-06-17T05:43:50Z</td>\n",
       "      <td>WebDevelopment</td>\n",
       "      <td>15.5</td>\n",
       "      <td>2014-06-17</td>\n",
       "      <td>Intermediate Level</td>\n",
       "      <td>True</td>\n",
       "    </tr>\n",
       "    <tr>\n",
       "      <th>4</th>\n",
       "      <td>505208</td>\n",
       "      <td>Programming Foundations: HTML5 + CSS3 for Entr...</td>\n",
       "      <td>https://www.udemy.com/html-css-more/</td>\n",
       "      <td>True</td>\n",
       "      <td>20.0</td>\n",
       "      <td>23764</td>\n",
       "      <td>490</td>\n",
       "      <td>58</td>\n",
       "      <td>Beginner Level</td>\n",
       "      <td>5.5 hours</td>\n",
       "      <td>2015-10-17T04:52:25Z</td>\n",
       "      <td>WebDevelopment</td>\n",
       "      <td>5.5</td>\n",
       "      <td>2015-10-17</td>\n",
       "      <td>Beginner Level</td>\n",
       "      <td>True</td>\n",
       "    </tr>\n",
       "  </tbody>\n",
       "</table>\n",
       "</div>"
      ],
      "text/plain": [
       "       id                                              title  \\\n",
       "0   28295  Learn Web Designing & HTML5/CSS3 Essentials in...   \n",
       "1   19603  Learning Dynamic Website Design - PHP MySQL an...   \n",
       "2  889438  ChatBots: Messenger ChatBot with API.AI and No...   \n",
       "3  197836                                  Projects in HTML5   \n",
       "4  505208  Programming Foundations: HTML5 + CSS3 for Entr...   \n",
       "\n",
       "                                                 url  isPaid  price  \\\n",
       "0  https://www.udemy.com/build-beautiful-html5-we...    True   75.0   \n",
       "1  https://www.udemy.com/learning-dynamic-website...    True   50.0   \n",
       "2                    https://www.udemy.com/chatbots/    True   50.0   \n",
       "3           https://www.udemy.com/projects-in-html5/    True   60.0   \n",
       "4               https://www.udemy.com/html-css-more/    True   20.0   \n",
       "\n",
       "   numSubscribers  numReviews  numPublishedLectures  instructionalLevel  \\\n",
       "0           43285         525                    24          All Levels   \n",
       "1           47886         285                   125          All Levels   \n",
       "2            2577         529                    64          All Levels   \n",
       "3            8777         206                    75  Intermediate Level   \n",
       "4           23764         490                    58      Beginner Level   \n",
       "\n",
       "  contentInfo         publishedTime        category  timeSpent publishDate  \\\n",
       "0     4 hours  2013-01-03T00:55:31Z  WebDevelopment        4.0  2013-01-03   \n",
       "1  12.5 hours  2012-06-18T16:52:34Z  WebDevelopment       12.5  2012-06-18   \n",
       "2   4.5 hours  2016-06-30T16:57:08Z  WebDevelopment        4.5  2016-06-30   \n",
       "3  15.5 hours  2014-06-17T05:43:50Z  WebDevelopment       15.5  2014-06-17   \n",
       "4   5.5 hours  2015-10-17T04:52:25Z  WebDevelopment        5.5  2015-10-17   \n",
       "\n",
       "                level  paidBool  \n",
       "0          All Levels      True  \n",
       "1          All Levels      True  \n",
       "2          All Levels      True  \n",
       "3  Intermediate Level      True  \n",
       "4      Beginner Level      True  "
      ]
     },
     "execution_count": 4,
     "metadata": {},
     "output_type": "execute_result"
    }
   ],
   "source": [
    "df_courses.head()"
   ]
  },
  {
   "cell_type": "code",
   "execution_count": 5,
   "metadata": {},
   "outputs": [],
   "source": [
    "global headers\n",
    "\n",
    "headers = {\n",
    "        'user-agent': 'Mozilla/5.0 (Macintosh; Intel Mac OS X 10_15_1) AppleWebKit/537.36 (KHTML, like Gecko) Chrome/79.0.3945.117 Safari/537.36',\n",
    "        }"
   ]
  },
  {
   "cell_type": "code",
   "execution_count": 30,
   "metadata": {},
   "outputs": [],
   "source": [
    "def soupScraping(url):\n",
    "    \"\"\"\n",
    "    This method receives the url of the web page and it creates the BeautifulSoup object to find classes and \n",
    "    key tags to extract description, review, rating, ID and requirements of every course calling the methods above.\n",
    "    \"\"\"\n",
    "    \n",
    "    req = Request(url, headers=headers) \n",
    "    try:\n",
    "        \n",
    "        webpage = urlopen(req).read()\n",
    "        soup_page = soup(webpage, 'html.parser')\n",
    "    \n",
    "        return soup_page.text\n",
    "    \n",
    "    except:\n",
    "        return None"
   ]
  },
  {
   "cell_type": "code",
   "execution_count": 7,
   "metadata": {},
   "outputs": [],
   "source": [
    "def description(soup):\n",
    "    \"\"\"\n",
    "    Extraction of featured review using the BeautifulSoup object as input to find the text into the class called\n",
    "    ud-component--clp--featured-review-content. Return the featured review of every course if it exists. Otherwise,\n",
    "    return None.\n",
    "    \"\"\"\n",
    "    try:\n",
    "        description = soup.find('div', class_ ='show-more--content--isg5c show-more--with-gradient--2abmN')\n",
    "        description = description.text\n",
    "    except:\n",
    "        description = None\n",
    "        \n",
    "    return description"
   ]
  },
  {
   "cell_type": "code",
   "execution_count": 8,
   "metadata": {},
   "outputs": [],
   "source": [
    "def AverageRating(soup):\n",
    "    \"\"\"\n",
    "    Use of soup object as input to extract the average rating of every course. Return the average score \n",
    "    as string if it exists. Otherwise, the method return None.\n",
    "    \"\"\"\n",
    "    try:\n",
    "        dist_rating = soup.find('div', class_ ='ud-component--course-landing-page-udlite--reviews')\n",
    "        dist_rating_str = dist_rating['data-component-args']\n",
    "        averageRating = re.findall(r'\"averageRating\":\\d.\\d+', dist_rating_str)\n",
    "    except:\n",
    "        averageRating = None\n",
    "        \n",
    "    return averageRating"
   ]
  },
  {
   "cell_type": "code",
   "execution_count": 9,
   "metadata": {},
   "outputs": [],
   "source": [
    "def RequirementsExtraction(soup):\n",
    "    \"\"\"\n",
    "    Extraction of requirements of every course, finding the tag <li> into the class requirements__item. Return \n",
    "    a string with the list of requirements. Otherwise, return None.\n",
    "    \"\"\"\n",
    "    try:\n",
    "        requirements = soup.find('div', class_ ='ud-component--course-landing-page-udlite--requirements')\n",
    "        req = requirements.text\n",
    "    except:\n",
    "        req = None\n",
    "        \n",
    "    return req"
   ]
  },
  {
   "cell_type": "code",
   "execution_count": 10,
   "metadata": {},
   "outputs": [],
   "source": [
    "def RatingExtraction(soup):\n",
    "    \"\"\"\n",
    "    Extraction of distribution of rating, it means, a tuple with ratings and number of counts. Return None \n",
    "    if the distribution doesn't exist.\n",
    "    \"\"\"\n",
    "    try:\n",
    "        dist_rating = soup.find('div', class_ ='ud-component--course-landing-page-udlite--reviews')\n",
    "        dist_rating_str = dist_rating['data-component-args']\n",
    "        counts = re.findall(r'\"count\":\\d+', dist_rating_str)\n",
    "        rating = re.findall(r'\"rating\":\\d+', dist_rating_str)\n",
    "        count, rank = [], []\n",
    "        for c in counts:\n",
    "            count.append(c[8:])\n",
    "\n",
    "        for rt in rating:\n",
    "            rank.append(rt[9:])\n",
    "\n",
    "        rating_dist = set(zip(count, rank))\n",
    "    except:\n",
    "        rating_dist = None\n",
    "    \n",
    "    return rating_dist"
   ]
  },
  {
   "cell_type": "code",
   "execution_count": 11,
   "metadata": {},
   "outputs": [],
   "source": [
    "def webScraping(url):\n",
    "    \"\"\"\n",
    "    This method receives the url of the web page and it creates the BeautifulSoup object to find classes and \n",
    "    key tags to extract description, review, rating, ID and requirements of every course calling the methods above.\n",
    "    \"\"\"\n",
    "    \n",
    "    req = Request(url, headers=headers) \n",
    "    try:\n",
    "        \n",
    "        webpage = urlopen(req).read()\n",
    "        soup_page = soup(webpage, 'html.parser')\n",
    "\n",
    "        descript = description(soup_page)\n",
    "        avgRating = AverageRating(soup_page)\n",
    "        requirements = RequirementsExtraction(soup_page) \n",
    "        rating_dist = RatingExtraction(soup_page)\n",
    "    \n",
    "        return descript, avgRating, requirements, rating_dist\n",
    "    except:\n",
    "        return None, None, None, None"
   ]
  },
  {
   "cell_type": "markdown",
   "metadata": {},
   "source": [
    "Group courses by category to determine how many samples we must select randomly:"
   ]
  },
  {
   "cell_type": "code",
   "execution_count": 12,
   "metadata": {},
   "outputs": [
    {
     "data": {
      "text/html": [
       "<div>\n",
       "<style scoped>\n",
       "    .dataframe tbody tr th:only-of-type {\n",
       "        vertical-align: middle;\n",
       "    }\n",
       "\n",
       "    .dataframe tbody tr th {\n",
       "        vertical-align: top;\n",
       "    }\n",
       "\n",
       "    .dataframe thead th {\n",
       "        text-align: right;\n",
       "    }\n",
       "</style>\n",
       "<table border=\"1\" class=\"dataframe\">\n",
       "  <thead>\n",
       "    <tr style=\"text-align: right;\">\n",
       "      <th></th>\n",
       "      <th>id</th>\n",
       "      <th>title</th>\n",
       "      <th>url</th>\n",
       "      <th>isPaid</th>\n",
       "      <th>price</th>\n",
       "      <th>numSubscribers</th>\n",
       "      <th>numReviews</th>\n",
       "      <th>numPublishedLectures</th>\n",
       "      <th>instructionalLevel</th>\n",
       "      <th>contentInfo</th>\n",
       "      <th>publishedTime</th>\n",
       "      <th>timeSpent</th>\n",
       "      <th>publishDate</th>\n",
       "      <th>level</th>\n",
       "      <th>paidBool</th>\n",
       "    </tr>\n",
       "    <tr>\n",
       "      <th>category</th>\n",
       "      <th></th>\n",
       "      <th></th>\n",
       "      <th></th>\n",
       "      <th></th>\n",
       "      <th></th>\n",
       "      <th></th>\n",
       "      <th></th>\n",
       "      <th></th>\n",
       "      <th></th>\n",
       "      <th></th>\n",
       "      <th></th>\n",
       "      <th></th>\n",
       "      <th></th>\n",
       "      <th></th>\n",
       "      <th></th>\n",
       "    </tr>\n",
       "  </thead>\n",
       "  <tbody>\n",
       "    <tr>\n",
       "      <th>BussinessFinance</th>\n",
       "      <td>1096</td>\n",
       "      <td>1096</td>\n",
       "      <td>1096</td>\n",
       "      <td>1096</td>\n",
       "      <td>1096</td>\n",
       "      <td>1096</td>\n",
       "      <td>1096</td>\n",
       "      <td>1096</td>\n",
       "      <td>1096</td>\n",
       "      <td>1096</td>\n",
       "      <td>1096</td>\n",
       "      <td>1096</td>\n",
       "      <td>1096</td>\n",
       "      <td>1096</td>\n",
       "      <td>1096</td>\n",
       "    </tr>\n",
       "    <tr>\n",
       "      <th>GraphicDesign</th>\n",
       "      <td>523</td>\n",
       "      <td>523</td>\n",
       "      <td>523</td>\n",
       "      <td>523</td>\n",
       "      <td>523</td>\n",
       "      <td>523</td>\n",
       "      <td>523</td>\n",
       "      <td>523</td>\n",
       "      <td>523</td>\n",
       "      <td>523</td>\n",
       "      <td>523</td>\n",
       "      <td>523</td>\n",
       "      <td>523</td>\n",
       "      <td>523</td>\n",
       "      <td>523</td>\n",
       "    </tr>\n",
       "    <tr>\n",
       "      <th>MusicInstrument</th>\n",
       "      <td>608</td>\n",
       "      <td>608</td>\n",
       "      <td>608</td>\n",
       "      <td>608</td>\n",
       "      <td>608</td>\n",
       "      <td>608</td>\n",
       "      <td>608</td>\n",
       "      <td>608</td>\n",
       "      <td>608</td>\n",
       "      <td>608</td>\n",
       "      <td>608</td>\n",
       "      <td>608</td>\n",
       "      <td>608</td>\n",
       "      <td>608</td>\n",
       "      <td>608</td>\n",
       "    </tr>\n",
       "    <tr>\n",
       "      <th>WebDevelopment</th>\n",
       "      <td>1124</td>\n",
       "      <td>1124</td>\n",
       "      <td>1124</td>\n",
       "      <td>1124</td>\n",
       "      <td>1124</td>\n",
       "      <td>1124</td>\n",
       "      <td>1124</td>\n",
       "      <td>1124</td>\n",
       "      <td>1124</td>\n",
       "      <td>1124</td>\n",
       "      <td>1124</td>\n",
       "      <td>1124</td>\n",
       "      <td>1124</td>\n",
       "      <td>1124</td>\n",
       "      <td>1124</td>\n",
       "    </tr>\n",
       "  </tbody>\n",
       "</table>\n",
       "</div>"
      ],
      "text/plain": [
       "                    id  title   url  isPaid  price  numSubscribers  \\\n",
       "category                                                             \n",
       "BussinessFinance  1096   1096  1096    1096   1096            1096   \n",
       "GraphicDesign      523    523   523     523    523             523   \n",
       "MusicInstrument    608    608   608     608    608             608   \n",
       "WebDevelopment    1124   1124  1124    1124   1124            1124   \n",
       "\n",
       "                  numReviews  numPublishedLectures  instructionalLevel  \\\n",
       "category                                                                 \n",
       "BussinessFinance        1096                  1096                1096   \n",
       "GraphicDesign            523                   523                 523   \n",
       "MusicInstrument          608                   608                 608   \n",
       "WebDevelopment          1124                  1124                1124   \n",
       "\n",
       "                  contentInfo  publishedTime  timeSpent  publishDate  level  \\\n",
       "category                                                                      \n",
       "BussinessFinance         1096           1096       1096         1096   1096   \n",
       "GraphicDesign             523            523        523          523    523   \n",
       "MusicInstrument           608            608        608          608    608   \n",
       "WebDevelopment           1124           1124       1124         1124   1124   \n",
       "\n",
       "                  paidBool  \n",
       "category                    \n",
       "BussinessFinance      1096  \n",
       "GraphicDesign          523  \n",
       "MusicInstrument        608  \n",
       "WebDevelopment        1124  "
      ]
     },
     "execution_count": 12,
     "metadata": {},
     "output_type": "execute_result"
    }
   ],
   "source": [
    "df_courses.groupby('category').count()"
   ]
  },
  {
   "cell_type": "markdown",
   "metadata": {},
   "source": [
    "To guarantee a balanced dataset, we select 500 courses by category. This new dataframe is stored as `df_samples`:"
   ]
  },
  {
   "cell_type": "code",
   "execution_count": 13,
   "metadata": {},
   "outputs": [],
   "source": [
    "df_samples = df_courses.groupby('category').apply(lambda x: x.sample(n=500, random_state=42))\n",
    "df_samples.reset_index(drop=True, inplace=True)"
   ]
  },
  {
   "cell_type": "code",
   "execution_count": 14,
   "metadata": {},
   "outputs": [
    {
     "data": {
      "text/html": [
       "<div>\n",
       "<style scoped>\n",
       "    .dataframe tbody tr th:only-of-type {\n",
       "        vertical-align: middle;\n",
       "    }\n",
       "\n",
       "    .dataframe tbody tr th {\n",
       "        vertical-align: top;\n",
       "    }\n",
       "\n",
       "    .dataframe thead th {\n",
       "        text-align: right;\n",
       "    }\n",
       "</style>\n",
       "<table border=\"1\" class=\"dataframe\">\n",
       "  <thead>\n",
       "    <tr style=\"text-align: right;\">\n",
       "      <th></th>\n",
       "      <th>id</th>\n",
       "      <th>title</th>\n",
       "      <th>url</th>\n",
       "      <th>isPaid</th>\n",
       "      <th>price</th>\n",
       "      <th>numSubscribers</th>\n",
       "      <th>numReviews</th>\n",
       "      <th>numPublishedLectures</th>\n",
       "      <th>instructionalLevel</th>\n",
       "      <th>contentInfo</th>\n",
       "      <th>publishedTime</th>\n",
       "      <th>timeSpent</th>\n",
       "      <th>publishDate</th>\n",
       "      <th>level</th>\n",
       "      <th>paidBool</th>\n",
       "    </tr>\n",
       "    <tr>\n",
       "      <th>category</th>\n",
       "      <th></th>\n",
       "      <th></th>\n",
       "      <th></th>\n",
       "      <th></th>\n",
       "      <th></th>\n",
       "      <th></th>\n",
       "      <th></th>\n",
       "      <th></th>\n",
       "      <th></th>\n",
       "      <th></th>\n",
       "      <th></th>\n",
       "      <th></th>\n",
       "      <th></th>\n",
       "      <th></th>\n",
       "      <th></th>\n",
       "    </tr>\n",
       "  </thead>\n",
       "  <tbody>\n",
       "    <tr>\n",
       "      <th>BussinessFinance</th>\n",
       "      <td>500</td>\n",
       "      <td>500</td>\n",
       "      <td>500</td>\n",
       "      <td>500</td>\n",
       "      <td>500</td>\n",
       "      <td>500</td>\n",
       "      <td>500</td>\n",
       "      <td>500</td>\n",
       "      <td>500</td>\n",
       "      <td>500</td>\n",
       "      <td>500</td>\n",
       "      <td>500</td>\n",
       "      <td>500</td>\n",
       "      <td>500</td>\n",
       "      <td>500</td>\n",
       "    </tr>\n",
       "    <tr>\n",
       "      <th>GraphicDesign</th>\n",
       "      <td>500</td>\n",
       "      <td>500</td>\n",
       "      <td>500</td>\n",
       "      <td>500</td>\n",
       "      <td>500</td>\n",
       "      <td>500</td>\n",
       "      <td>500</td>\n",
       "      <td>500</td>\n",
       "      <td>500</td>\n",
       "      <td>500</td>\n",
       "      <td>500</td>\n",
       "      <td>500</td>\n",
       "      <td>500</td>\n",
       "      <td>500</td>\n",
       "      <td>500</td>\n",
       "    </tr>\n",
       "    <tr>\n",
       "      <th>MusicInstrument</th>\n",
       "      <td>500</td>\n",
       "      <td>500</td>\n",
       "      <td>500</td>\n",
       "      <td>500</td>\n",
       "      <td>500</td>\n",
       "      <td>500</td>\n",
       "      <td>500</td>\n",
       "      <td>500</td>\n",
       "      <td>500</td>\n",
       "      <td>500</td>\n",
       "      <td>500</td>\n",
       "      <td>500</td>\n",
       "      <td>500</td>\n",
       "      <td>500</td>\n",
       "      <td>500</td>\n",
       "    </tr>\n",
       "    <tr>\n",
       "      <th>WebDevelopment</th>\n",
       "      <td>500</td>\n",
       "      <td>500</td>\n",
       "      <td>500</td>\n",
       "      <td>500</td>\n",
       "      <td>500</td>\n",
       "      <td>500</td>\n",
       "      <td>500</td>\n",
       "      <td>500</td>\n",
       "      <td>500</td>\n",
       "      <td>500</td>\n",
       "      <td>500</td>\n",
       "      <td>500</td>\n",
       "      <td>500</td>\n",
       "      <td>500</td>\n",
       "      <td>500</td>\n",
       "    </tr>\n",
       "  </tbody>\n",
       "</table>\n",
       "</div>"
      ],
      "text/plain": [
       "                   id  title  url  isPaid  price  numSubscribers  numReviews  \\\n",
       "category                                                                       \n",
       "BussinessFinance  500    500  500     500    500             500         500   \n",
       "GraphicDesign     500    500  500     500    500             500         500   \n",
       "MusicInstrument   500    500  500     500    500             500         500   \n",
       "WebDevelopment    500    500  500     500    500             500         500   \n",
       "\n",
       "                  numPublishedLectures  instructionalLevel  contentInfo  \\\n",
       "category                                                                  \n",
       "BussinessFinance                   500                 500          500   \n",
       "GraphicDesign                      500                 500          500   \n",
       "MusicInstrument                    500                 500          500   \n",
       "WebDevelopment                     500                 500          500   \n",
       "\n",
       "                  publishedTime  timeSpent  publishDate  level  paidBool  \n",
       "category                                                                  \n",
       "BussinessFinance            500        500          500    500       500  \n",
       "GraphicDesign               500        500          500    500       500  \n",
       "MusicInstrument             500        500          500    500       500  \n",
       "WebDevelopment              500        500          500    500       500  "
      ]
     },
     "execution_count": 14,
     "metadata": {},
     "output_type": "execute_result"
    }
   ],
   "source": [
    "df_samples.groupby('category').count()"
   ]
  },
  {
   "cell_type": "code",
   "execution_count": 31,
   "metadata": {},
   "outputs": [],
   "source": [
    "def chunker(seq, size):\n",
    "    k=0\n",
    "    for pos in range(0, len(seq), size):\n",
    "        df = seq[pos:pos + size]\n",
    "        for url in df.url:\n",
    "            soupScraper = soupScraping(url)\n",
    "            with open('../Data/interim/scraping/course'+str(k)+'.html', \"w\") as f:\n",
    "                f.write(soupScraper)\n",
    "            k+=1\n",
    "            time.sleep(15)\n",
    "            \n",
    "        time.sleep(60)\n",
    "        \n",
    "    return "
   ]
  },
  {
   "cell_type": "code",
   "execution_count": 15,
   "metadata": {},
   "outputs": [],
   "source": [
    "df_chunk = df_samples.loc[0: 199]"
   ]
  },
  {
   "cell_type": "code",
   "execution_count": 22,
   "metadata": {},
   "outputs": [],
   "source": [
    "#chunker(df_chunk , 100)"
   ]
  },
  {
   "cell_type": "code",
   "execution_count": 26,
   "metadata": {},
   "outputs": [],
   "source": [
    "df_chunk1 = df_samples.loc[90: 199]"
   ]
  },
  {
   "cell_type": "code",
   "execution_count": 27,
   "metadata": {},
   "outputs": [
    {
     "data": {
      "text/html": [
       "<div>\n",
       "<style scoped>\n",
       "    .dataframe tbody tr th:only-of-type {\n",
       "        vertical-align: middle;\n",
       "    }\n",
       "\n",
       "    .dataframe tbody tr th {\n",
       "        vertical-align: top;\n",
       "    }\n",
       "\n",
       "    .dataframe thead th {\n",
       "        text-align: right;\n",
       "    }\n",
       "</style>\n",
       "<table border=\"1\" class=\"dataframe\">\n",
       "  <thead>\n",
       "    <tr style=\"text-align: right;\">\n",
       "      <th></th>\n",
       "      <th>id</th>\n",
       "      <th>title</th>\n",
       "      <th>url</th>\n",
       "      <th>isPaid</th>\n",
       "      <th>price</th>\n",
       "      <th>numSubscribers</th>\n",
       "      <th>numReviews</th>\n",
       "      <th>numPublishedLectures</th>\n",
       "      <th>instructionalLevel</th>\n",
       "      <th>contentInfo</th>\n",
       "      <th>publishedTime</th>\n",
       "      <th>category</th>\n",
       "      <th>timeSpent</th>\n",
       "      <th>publishDate</th>\n",
       "      <th>level</th>\n",
       "      <th>paidBool</th>\n",
       "    </tr>\n",
       "  </thead>\n",
       "  <tbody>\n",
       "    <tr>\n",
       "      <th>90</th>\n",
       "      <td>734280</td>\n",
       "      <td>Aprende a llevar la contabilidad de forma info...</td>\n",
       "      <td>https://www.udemy.com/contabilidad-informatizada/</td>\n",
       "      <td>True</td>\n",
       "      <td>25.0</td>\n",
       "      <td>6</td>\n",
       "      <td>1</td>\n",
       "      <td>27</td>\n",
       "      <td>Beginner Level</td>\n",
       "      <td>4.5 hours</td>\n",
       "      <td>2016-02-08T16:55:55Z</td>\n",
       "      <td>BussinessFinance</td>\n",
       "      <td>4.5</td>\n",
       "      <td>2016-02-08</td>\n",
       "      <td>Beginner Level</td>\n",
       "      <td>True</td>\n",
       "    </tr>\n",
       "    <tr>\n",
       "      <th>91</th>\n",
       "      <td>934574</td>\n",
       "      <td>Basics of Commerce A Complete Study</td>\n",
       "      <td>https://www.udemy.com/basics-of-commerce-a-com...</td>\n",
       "      <td>True</td>\n",
       "      <td>150.0</td>\n",
       "      <td>2197</td>\n",
       "      <td>4</td>\n",
       "      <td>105</td>\n",
       "      <td>All Levels</td>\n",
       "      <td>5.5 hours</td>\n",
       "      <td>2016-12-21T16:30:33Z</td>\n",
       "      <td>BussinessFinance</td>\n",
       "      <td>5.5</td>\n",
       "      <td>2016-12-21</td>\n",
       "      <td>All Levels</td>\n",
       "      <td>True</td>\n",
       "    </tr>\n",
       "    <tr>\n",
       "      <th>92</th>\n",
       "      <td>231256</td>\n",
       "      <td>FOREX Currency Trading For Beginners</td>\n",
       "      <td>https://www.udemy.com/forex-currency-trading-f...</td>\n",
       "      <td>True</td>\n",
       "      <td>25.0</td>\n",
       "      <td>35</td>\n",
       "      <td>2</td>\n",
       "      <td>28</td>\n",
       "      <td>Beginner Level</td>\n",
       "      <td>4 hours</td>\n",
       "      <td>2014-06-17T22:18:21Z</td>\n",
       "      <td>BussinessFinance</td>\n",
       "      <td>4.0</td>\n",
       "      <td>2014-06-17</td>\n",
       "      <td>Beginner Level</td>\n",
       "      <td>True</td>\n",
       "    </tr>\n",
       "    <tr>\n",
       "      <th>93</th>\n",
       "      <td>479688</td>\n",
       "      <td>Cost Accounting Labour Costing (Professional C...</td>\n",
       "      <td>https://www.udemy.com/labour-costing/</td>\n",
       "      <td>True</td>\n",
       "      <td>20.0</td>\n",
       "      <td>1542</td>\n",
       "      <td>1</td>\n",
       "      <td>24</td>\n",
       "      <td>All Levels</td>\n",
       "      <td>2 hours</td>\n",
       "      <td>2015-04-20T18:33:40Z</td>\n",
       "      <td>BussinessFinance</td>\n",
       "      <td>2.0</td>\n",
       "      <td>2015-04-20</td>\n",
       "      <td>All Levels</td>\n",
       "      <td>True</td>\n",
       "    </tr>\n",
       "    <tr>\n",
       "      <th>94</th>\n",
       "      <td>985922</td>\n",
       "      <td>Excel Crash Course: Master Excel for Financial...</td>\n",
       "      <td>https://www.udemy.com/excel-crash-course-maste...</td>\n",
       "      <td>True</td>\n",
       "      <td>105.0</td>\n",
       "      <td>8121</td>\n",
       "      <td>689</td>\n",
       "      <td>40</td>\n",
       "      <td>All Levels</td>\n",
       "      <td>3.5 hours</td>\n",
       "      <td>2016-10-18T00:51:59Z</td>\n",
       "      <td>BussinessFinance</td>\n",
       "      <td>3.5</td>\n",
       "      <td>2016-10-18</td>\n",
       "      <td>All Levels</td>\n",
       "      <td>True</td>\n",
       "    </tr>\n",
       "  </tbody>\n",
       "</table>\n",
       "</div>"
      ],
      "text/plain": [
       "        id                                              title  \\\n",
       "90  734280  Aprende a llevar la contabilidad de forma info...   \n",
       "91  934574                Basics of Commerce A Complete Study   \n",
       "92  231256               FOREX Currency Trading For Beginners   \n",
       "93  479688  Cost Accounting Labour Costing (Professional C...   \n",
       "94  985922  Excel Crash Course: Master Excel for Financial...   \n",
       "\n",
       "                                                  url  isPaid  price  \\\n",
       "90  https://www.udemy.com/contabilidad-informatizada/    True   25.0   \n",
       "91  https://www.udemy.com/basics-of-commerce-a-com...    True  150.0   \n",
       "92  https://www.udemy.com/forex-currency-trading-f...    True   25.0   \n",
       "93              https://www.udemy.com/labour-costing/    True   20.0   \n",
       "94  https://www.udemy.com/excel-crash-course-maste...    True  105.0   \n",
       "\n",
       "    numSubscribers  numReviews  numPublishedLectures instructionalLevel  \\\n",
       "90               6           1                    27     Beginner Level   \n",
       "91            2197           4                   105         All Levels   \n",
       "92              35           2                    28     Beginner Level   \n",
       "93            1542           1                    24         All Levels   \n",
       "94            8121         689                    40         All Levels   \n",
       "\n",
       "   contentInfo         publishedTime          category  timeSpent publishDate  \\\n",
       "90   4.5 hours  2016-02-08T16:55:55Z  BussinessFinance        4.5  2016-02-08   \n",
       "91   5.5 hours  2016-12-21T16:30:33Z  BussinessFinance        5.5  2016-12-21   \n",
       "92     4 hours  2014-06-17T22:18:21Z  BussinessFinance        4.0  2014-06-17   \n",
       "93     2 hours  2015-04-20T18:33:40Z  BussinessFinance        2.0  2015-04-20   \n",
       "94   3.5 hours  2016-10-18T00:51:59Z  BussinessFinance        3.5  2016-10-18   \n",
       "\n",
       "             level  paidBool  \n",
       "90  Beginner Level      True  \n",
       "91      All Levels      True  \n",
       "92  Beginner Level      True  \n",
       "93      All Levels      True  \n",
       "94      All Levels      True  "
      ]
     },
     "execution_count": 27,
     "metadata": {},
     "output_type": "execute_result"
    }
   ],
   "source": [
    "df_chunk1.head()"
   ]
  },
  {
   "cell_type": "code",
   "execution_count": 32,
   "metadata": {},
   "outputs": [],
   "source": [
    "df_chunk2 = df_samples.loc[124: 199]"
   ]
  },
  {
   "cell_type": "code",
   "execution_count": 34,
   "metadata": {},
   "outputs": [],
   "source": [
    "k = 124\n",
    "for url in df_chunk2.url:\n",
    "    soupScraper = soupScraping(url)\n",
    "    with open('../Data/interim/scraping/course'+str(k)+'.html', \"w\") as f:\n",
    "        f.write(soupScraper)\n",
    "    k+=1\n",
    "    time.sleep(15)"
   ]
  },
  {
   "cell_type": "code",
   "execution_count": 35,
   "metadata": {},
   "outputs": [],
   "source": [
    "df_chunk3 = df_samples.loc[200: 299]"
   ]
  },
  {
   "cell_type": "code",
   "execution_count": 38,
   "metadata": {},
   "outputs": [],
   "source": [
    "df_chunk4 = df_samples.loc[277: 299]"
   ]
  },
  {
   "cell_type": "code",
   "execution_count": 39,
   "metadata": {},
   "outputs": [],
   "source": [
    "k = 277\n",
    "for url in df_chunk4.url:\n",
    "    soupScraper = soupScraping(url)\n",
    "    if soupScraper is None:\n",
    "        print('Process stops in course #:'+str(k))\n",
    "        break\n",
    "    else:\n",
    "        with open('../Data/interim/scraping/course'+str(k)+'.html', \"w\") as f:\n",
    "            f.write(soupScraper)\n",
    "    k+=1\n",
    "    time.sleep(15)"
   ]
  },
  {
   "cell_type": "code",
   "execution_count": 40,
   "metadata": {},
   "outputs": [],
   "source": [
    "df_chunk5 = df_samples.loc[300: 399]"
   ]
  },
  {
   "cell_type": "code",
   "execution_count": 42,
   "metadata": {},
   "outputs": [],
   "source": [
    "k = 300\n",
    "for url in df_chunk5.url:\n",
    "    soupScraper = soupScraping(url)\n",
    "    if soupScraper is None:\n",
    "        print('Process stops in course #:'+str(k))\n",
    "        break\n",
    "    else:\n",
    "        with open('../Data/interim/scraping/course'+str(k)+'.html', \"w\") as f:\n",
    "            f.write(soupScraper)\n",
    "    k+=1\n",
    "    time.sleep(15)"
   ]
  },
  {
   "cell_type": "code",
   "execution_count": 43,
   "metadata": {},
   "outputs": [],
   "source": [
    "df_chunk6 = df_samples.loc[400: 499]"
   ]
  },
  {
   "cell_type": "code",
   "execution_count": 44,
   "metadata": {},
   "outputs": [],
   "source": [
    "k = 400\n",
    "for url in df_chunk6.url:\n",
    "    soupScraper = soupScraping(url)\n",
    "    if soupScraper is None:\n",
    "        print('Process stops in course #:'+str(k))\n",
    "        break\n",
    "    else:\n",
    "        with open('../Data/interim/scraping/course'+str(k)+'.html', \"w\") as f:\n",
    "            f.write(soupScraper)\n",
    "    k+=1\n",
    "    time.sleep(15)"
   ]
  },
  {
   "cell_type": "code",
   "execution_count": null,
   "metadata": {},
   "outputs": [],
   "source": [
    "df_chunk7 = df_samples.loc[500: 599]"
   ]
  },
  {
   "cell_type": "code",
   "execution_count": null,
   "metadata": {},
   "outputs": [],
   "source": [
    "k = 500\n",
    "for url in df_chunk7.url:\n",
    "    soupScraper = soupScraping(url)\n",
    "    if soupScraper is None:\n",
    "        print('Process stops in course #:'+str(k))\n",
    "        break\n",
    "    else:\n",
    "        with open('../Data/interim/scraping/course'+str(k)+'.html', \"w\") as f:\n",
    "            f.write(soupScraper)\n",
    "    k+=1\n",
    "    time.sleep(15)"
   ]
  },
  {
   "cell_type": "code",
   "execution_count": 14,
   "metadata": {},
   "outputs": [],
   "source": [
    "soups = []\n",
    "\n",
    "for \n",
    "\n",
    "for url in df_chunk.url:\n",
    "    soups.append(soupScraping(url))\n",
    "    time.sleep(15)"
   ]
  },
  {
   "cell_type": "code",
   "execution_count": 18,
   "metadata": {},
   "outputs": [
    {
     "data": {
      "text/plain": [
       "(200, 16)"
      ]
     },
     "execution_count": 18,
     "metadata": {},
     "output_type": "execute_result"
    }
   ],
   "source": [
    "df_samples.shape"
   ]
  },
  {
   "cell_type": "code",
   "execution_count": 19,
   "metadata": {},
   "outputs": [],
   "source": [
    "df_chunk1 = df_samples.loc[100:]"
   ]
  },
  {
   "cell_type": "code",
   "execution_count": 20,
   "metadata": {},
   "outputs": [],
   "source": [
    "soups1 = []\n",
    "\n",
    "for url in df_chunk1.url:\n",
    "    soups1.append(soupScraping(url))\n",
    "    time.sleep(15)"
   ]
  },
  {
   "cell_type": "markdown",
   "metadata": {},
   "source": [
    "Saving the soups:"
   ]
  },
  {
   "cell_type": "code",
   "execution_count": 48,
   "metadata": {},
   "outputs": [],
   "source": [
    "soups[0].content"
   ]
  },
  {
   "cell_type": "code",
   "execution_count": 33,
   "metadata": {},
   "outputs": [
    {
     "name": "stderr",
     "output_type": "stream",
     "text": [
      "/Users/daniela/anaconda3/lib/python3.7/site-packages/ipykernel_launcher.py:1: SettingWithCopyWarning: \n",
      "A value is trying to be set on a copy of a slice from a DataFrame.\n",
      "Try using .loc[row_indexer,col_indexer] = value instead\n",
      "\n",
      "See the caveats in the documentation: http://pandas.pydata.org/pandas-docs/stable/indexing.html#indexing-view-versus-copy\n",
      "  \"\"\"Entry point for launching an IPython kernel.\n"
     ]
    }
   ],
   "source": [
    "df_chunk['soup'] = soups"
   ]
  },
  {
   "cell_type": "code",
   "execution_count": 34,
   "metadata": {},
   "outputs": [
    {
     "name": "stderr",
     "output_type": "stream",
     "text": [
      "/Users/daniela/anaconda3/lib/python3.7/site-packages/ipykernel_launcher.py:1: SettingWithCopyWarning: \n",
      "A value is trying to be set on a copy of a slice from a DataFrame.\n",
      "Try using .loc[row_indexer,col_indexer] = value instead\n",
      "\n",
      "See the caveats in the documentation: http://pandas.pydata.org/pandas-docs/stable/indexing.html#indexing-view-versus-copy\n",
      "  \"\"\"Entry point for launching an IPython kernel.\n"
     ]
    }
   ],
   "source": [
    "df_chunk1['soup'] = soups1"
   ]
  },
  {
   "cell_type": "code",
   "execution_count": 37,
   "metadata": {},
   "outputs": [],
   "source": [
    "df_chunkSamples = pd.concat([df_chunk, df_chunk1], axis=0)"
   ]
  },
  {
   "cell_type": "code",
   "execution_count": 38,
   "metadata": {},
   "outputs": [],
   "source": [
    "df_chunkSamples.to_csv('../Data/interim/dataframe_scraping.csv', index=False)"
   ]
  },
  {
   "cell_type": "code",
   "execution_count": 49,
   "metadata": {},
   "outputs": [],
   "source": [
    "k=0\n",
    "for s in soups:\n",
    "    with open('../Data/interim/scraping/'+str(k)+'.html', \"w\") as f:\n",
    "        f.write(s.text)\n",
    "        k+=1"
   ]
  },
  {
   "cell_type": "code",
   "execution_count": 51,
   "metadata": {},
   "outputs": [],
   "source": [
    "with open('../Data/interim/scraping/0.html') as f:\n",
    "    n = soup(f)"
   ]
  },
  {
   "cell_type": "code",
   "execution_count": 57,
   "metadata": {},
   "outputs": [],
   "source": [
    "RequirementsExtraction(n) "
   ]
  },
  {
   "cell_type": "markdown",
   "metadata": {},
   "source": [
    "Load the dataframe:"
   ]
  },
  {
   "cell_type": "code",
   "execution_count": 39,
   "metadata": {},
   "outputs": [],
   "source": [
    "df_scraping = pd.read_csv('../Data/interim/dataframe_scraping.csv')"
   ]
  },
  {
   "cell_type": "code",
   "execution_count": 42,
   "metadata": {},
   "outputs": [
    {
     "data": {
      "text/plain": [
       "str"
      ]
     },
     "execution_count": 42,
     "metadata": {},
     "output_type": "execute_result"
    }
   ],
   "source": [
    "type(df_scraping.url[0])"
   ]
  },
  {
   "cell_type": "code",
   "execution_count": null,
   "metadata": {},
   "outputs": [],
   "source": []
  },
  {
   "cell_type": "code",
   "execution_count": null,
   "metadata": {},
   "outputs": [],
   "source": []
  },
  {
   "cell_type": "code",
   "execution_count": null,
   "metadata": {},
   "outputs": [],
   "source": []
  },
  {
   "cell_type": "code",
   "execution_count": 43,
   "metadata": {},
   "outputs": [
    {
     "data": {
      "text/plain": [
       "(None, None, None, None)"
      ]
     },
     "execution_count": 43,
     "metadata": {},
     "output_type": "execute_result"
    }
   ],
   "source": [
    "url = df_courses.url[0]\n",
    "webScraping(url)"
   ]
  },
  {
   "cell_type": "code",
   "execution_count": 50,
   "metadata": {},
   "outputs": [],
   "source": [
    "url = 'https://www.udemy.com/trading-penny-stocks-advanced-strategies/'"
   ]
  },
  {
   "cell_type": "code",
   "execution_count": 51,
   "metadata": {},
   "outputs": [],
   "source": [
    "req = Request(url, headers=headers) \n",
    "webpage = urlopen(req).read()\n",
    "page_soup = soup(webpage, 'html.parser')"
   ]
  },
  {
   "cell_type": "code",
   "execution_count": 52,
   "metadata": {},
   "outputs": [],
   "source": [
    "assert page_soup is not None, \"Soup is empty\""
   ]
  },
  {
   "cell_type": "code",
   "execution_count": 62,
   "metadata": {},
   "outputs": [
    {
     "data": {
      "text/plain": [
       "['\"averageRating\":3.84848']"
      ]
     },
     "execution_count": 62,
     "metadata": {},
     "output_type": "execute_result"
    }
   ],
   "source": [
    "dist_rating = page_soup.find('div', class_ ='ud-component--clp--course-reviews-display')\n",
    "dist_rating_str = dist_rating['data-component-args']\n",
    "re.findall(r'\"averageRating\":\\d.\\d+', dist_rating_str)"
   ]
  },
  {
   "cell_type": "code",
   "execution_count": 60,
   "metadata": {},
   "outputs": [],
   "source": [
    "dist_rating"
   ]
  },
  {
   "cell_type": "code",
   "execution_count": 55,
   "metadata": {},
   "outputs": [],
   "source": [
    "avgRating = AverageRating(page_soup)\n",
    "avgRating"
   ]
  },
  {
   "cell_type": "code",
   "execution_count": 47,
   "metadata": {},
   "outputs": [
    {
     "data": {
      "text/plain": [
       "{('111', '3'), ('19', '1'), ('274', '4'), ('28', '2'), ('491', '5')}"
      ]
     },
     "execution_count": 47,
     "metadata": {},
     "output_type": "execute_result"
    }
   ],
   "source": [
    "rating_dist = RatingExtraction(page_soup)\n",
    "rating_dist"
   ]
  },
  {
   "cell_type": "code",
   "execution_count": 48,
   "metadata": {},
   "outputs": [
    {
     "data": {
      "text/plain": [
       "\"** Course Updated November 26th, 2014! ** New lecture added: Code a CSS Sticky Footer  - - -  The Best Way to Learn HTML5 & CSS3  PSD to HTML5/CSS3 is a simple course that will teach you to take a Photoshop Mockup Design and hand-code it into a beautiful, semantic, valid HTML5 & CSS3 website.  Start Speaking the Language Right Away  Just like learning a human language, the best way of learning is by speaking from day 1—this course is similar in the sense that we'll begin speaking HTML5 & CSS3 right away!   I believe this is the best way to learn HTML5 and CSS3.  It's simple. It's easy. You can do it!  If you’ve always wanted to know how to build your own website, or have wanted a simple and comprehensive way to dive into PSD to HTML5 & CSS3, this course is definitely for you.  Real World Example  One of my students, who had no previous web design experience, took my course and ran with the skills he acquired. He built a brand new website for his Barbershop in Vancouver!  So, what are you waiting for?  Do you want to hand-code your first website in 4-hours? Let's do this! Who this course is for:This course is intended for beginners who have minimal knowledge or experience in Photoshop, and coding HTML & CSSA very basic understanding of HTML, CSS, and Photoshop is recommendedFirst year web design students can greatly benefit from this course!\""
      ]
     },
     "execution_count": 48,
     "metadata": {},
     "output_type": "execute_result"
    }
   ],
   "source": [
    "descript = description(page_soup)\n",
    "descript"
   ]
  },
  {
   "cell_type": "code",
   "execution_count": 49,
   "metadata": {},
   "outputs": [
    {
     "data": {
      "text/plain": [
       "'RequirementsAdobe Photoshop CS3 or higherVery basic knowledge of HTML & CSSText Editor (TextWranger, Espresso, or Coda recommended)'"
      ]
     },
     "execution_count": 49,
     "metadata": {},
     "output_type": "execute_result"
    }
   ],
   "source": [
    "requirements = RequirementsExtraction(page_soup) \n",
    "requirements"
   ]
  },
  {
   "cell_type": "code",
   "execution_count": 43,
   "metadata": {},
   "outputs": [],
   "source": [
    "# def chunker(seq, size):\n",
    "#     scraping_cols = []\n",
    "#     for pos in range(0, len(seq), size):\n",
    "#         df = seq[pos:pos + size]\n",
    "#         for url in df.url:\n",
    "#             scraping_cols.append(webScraping(url))\n",
    "#             time.sleep(15)\n",
    "            \n",
    "#     unzip_scraping_cols = list(zip(*scraping_cols)) \n",
    "#     time.sleep(10)\n",
    "        \n",
    "#     return unzip_scraping_cols\n",
    "\n",
    "# unzip_scraping_cols = chunker(df, 100)\n",
    "# df_courses.loc[1000:2000, 'review'] = unzip_scraping_cols[0]\n",
    "# df_courses.loc[1000:2000:, 'avgRating'] = unzip_scraping_cols[1]\n",
    "# df_courses.loc[1000:2000:, 'requirements'] = unzip_scraping_cols[2]"
   ]
  }
 ],
 "metadata": {
  "kernelspec": {
   "display_name": "Python 3",
   "language": "python",
   "name": "python3"
  },
  "language_info": {
   "codemirror_mode": {
    "name": "ipython",
    "version": 3
   },
   "file_extension": ".py",
   "mimetype": "text/x-python",
   "name": "python",
   "nbconvert_exporter": "python",
   "pygments_lexer": "ipython3",
   "version": "3.7.1"
  }
 },
 "nbformat": 4,
 "nbformat_minor": 2
}
