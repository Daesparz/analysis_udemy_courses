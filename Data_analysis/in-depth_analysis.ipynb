{
 "cells": [
  {
   "cell_type": "markdown",
   "metadata": {},
   "source": [
    "# Linear or Bayesian Regression to predict course prices?\n",
    "\n",
    "In this section, we use Linear and Bayesian Linear Regression to predict course prices. Bayesian inference is an alternative to frequentist inference applied when the dataset is not enough huge to build robust models and/or we manage some prior knowlegde from the phenomenal studied. \n",
    "\n",
    "### Frequentist Linear Regression\n",
    "Linear Regressions provides us a linear combination of weights multiplied by a set of predictor variables, $x$, that explains the behavior of the dependence variable $y$. Additionally, this equation includes a random sample error distributed normally. The matrix generalization of the linear model for any number of predictors is:"
   ]
  },
  {
   "cell_type": "markdown",
   "metadata": {},
   "source": [
    "\\begin{align*}\n",
    "y = \\beta^TX+\\epsilon\n",
    "\\end{align*}"
   ]
  },
  {
   "cell_type": "markdown",
   "metadata": {},
   "source": [
    "In Machine Learning, Linear Regression is used as supervised learning method where the learning process consists on using a training dataset to find the best coefficients $\\beta$ that describe the observed variable. This best solution minizes the *RSS* or (Residual Sum of Squares), the total sum of squared difference between the observed variable $y$ and the predicted value for that observation.  "
   ]
  },
  {
   "cell_type": "markdown",
   "metadata": {},
   "source": [
    "\\begin{align*}\n",
    "RSS = \\sum_{n=1}^{N}(y_n-\\hat{y})^2 = \\sum_{n=1}^{N}(y_n-\\beta^T{x_n})^2\n",
    "\\end{align*}"
   ]
  },
  {
   "cell_type": "markdown",
   "metadata": {},
   "source": [
    "The minimization of RSS, called Ordinary Least Squares (OLS), that is the gradient of the RSS with respect to $\\beta$ set to zero, give us the optimum or **maximum likelihood estimate of $\\beta$**, the most probable coefficients given the inputs $X$ and outputs $y$. This method provides us a single estimate or weight for every model parameter based on the training data. It means that the model is built only over the data available. For small datasets, it makes more sense estimate probably values for our parameters.\n",
    "\n",
    "\n",
    "The estimating equation for $\\beta$, or $\\hat{\\beta}$ in matrix form is:"
   ]
  },
  {
   "cell_type": "markdown",
   "metadata": {},
   "source": [
    "\\begin{align*}\n",
    "\\hat{\\beta}=(X^TX)^{-1}X^Ty\n",
    "\\end{align*}"
   ]
  },
  {
   "cell_type": "markdown",
   "metadata": {},
   "source": [
    "Finally, using this $\\hat{\\beta}$ we are able to estimate the output value:"
   ]
  },
  {
   "cell_type": "markdown",
   "metadata": {},
   "source": [
    "\\begin{align*}\n",
    "\\hat{y} = \\hat{\\beta}^TX\n",
    "\\end{align*}"
   ]
  },
  {
   "cell_type": "markdown",
   "metadata": {},
   "source": [
    "### Bayesian Linear Regression\n",
    "\n",
    "In this case, the observed variable is a probability distribution. Asummming that the output can be represented as a normal distribution, the model for Bayesian Linear Regression is expresed as follows:\n",
    "\n",
    "\\begin{align*}\n",
    "y \\sim \\mathcal{N}(\\beta^TX,\\sigma^2{I})\n",
    "\\end{align*}\n",
    "\n",
    "where the mean is the transpose of the weight matrix, $\\beta$, multiplied by the predictor matrix and the variance is the square of the standard deviation $\\sigma$ of every parameter multiplied by the Identity matrix to dimensional adjustment.\n",
    "\n",
    "Unlike Linear Regression, Bayesian Regression generates a distribution of possible predicted values, not only a single one. To do that, the model determines the posterior distribution for the model parameters (it means that the model assumes that the parameters come from distributions. \n",
    "\n",
    "According to Bayesian Inference, the posterior probability of the parameters is expressed as the conditional probability of the coefficients upon the training inputs $X$ and outputs $y$:\n",
    "\n",
    "\\begin{align*}\n",
    "P(\\beta|y, X)=\\frac{P(y|\\beta, X)P(\\beta, X)}{P(y|X)}\n",
    "\\end{align*}\n",
    "\n",
    "\n",
    "where:\n",
    "- $P(y|\\beta, X)$ is the likelihood of the data\n",
    "- $P(\\beta, X)$ is the prior probability of the parameters\n",
    "- $P(y|X)$ is the normalization constant of Bayes theorem\n",
    "\n",
    "Therefore, the distribution of possible model parameters depend on the data and prior knowlegde. The prior probability allows us include previous knowledge about the parameters in the model. Otherwise, the usual is using non-informative priors such as normal distribution. \n",
    "\n",
    "For small datasets, the uncertainty of the posterior distribution could be huge, but the increment of data shrinks the possible values until they become the same got by OLS for infinite data.\n",
    "\n",
    "The posterior distribution can't be directly calculated because model parameters are distributions as well. Markov Chain Monte Carlo (MCMC) allows to build the most likely distribution generating random samples from the posterior distribution. Using normal priors for the parameters, we get random samples exploring and changing the value of parameters every time, each one limited to their own parameter space. As larger the samples generated, as accurate the posterior distribution. \n",
    "\n",
    "Is it possible to converge to the right distribution? Markov Chain limites random samples for the parameters based on the current state (parameter values) and the assumed prior distribution of the parameters (normal distribution is used to face no previous assumptions)"
   ]
  },
  {
   "cell_type": "code",
   "execution_count": 13,
   "metadata": {},
   "outputs": [],
   "source": [
    "import pandas as pd\n",
    "from sklearn import linear_model\n",
    "from sklearn.preprocessing import OneHotEncoder"
   ]
  },
  {
   "cell_type": "code",
   "execution_count": 2,
   "metadata": {},
   "outputs": [],
   "source": [
    "df_courses = pd.read_csv('../Data/interim/Courses.csv')"
   ]
  },
  {
   "cell_type": "code",
   "execution_count": 3,
   "metadata": {},
   "outputs": [
    {
     "name": "stdout",
     "output_type": "stream",
     "text": [
      "<class 'pandas.core.frame.DataFrame'>\n",
      "RangeIndex: 3351 entries, 0 to 3350\n",
      "Data columns (total 16 columns):\n",
      "id                      3351 non-null int64\n",
      "title                   3351 non-null object\n",
      "url                     3351 non-null object\n",
      "isPaid                  3351 non-null bool\n",
      "price                   3351 non-null float64\n",
      "numSubscribers          3351 non-null int64\n",
      "numReviews              3351 non-null int64\n",
      "numPublishedLectures    3351 non-null int64\n",
      "instructionalLevel      3351 non-null object\n",
      "contentInfo             3351 non-null object\n",
      "publishedTime           3351 non-null object\n",
      "category                3351 non-null object\n",
      "timeSpent               3351 non-null float64\n",
      "publishDate             3351 non-null object\n",
      "level                   3351 non-null object\n",
      "paidBool                3351 non-null bool\n",
      "dtypes: bool(2), float64(2), int64(4), object(8)\n",
      "memory usage: 373.1+ KB\n"
     ]
    }
   ],
   "source": [
    "df_courses.info()"
   ]
  },
  {
   "cell_type": "code",
   "execution_count": 4,
   "metadata": {},
   "outputs": [],
   "source": [
    "df_courses.drop(columns=['url', 'isPaid', 'instructionalLevel', 'contentInfo', 'publishedTime'], inplace=True)"
   ]
  },
  {
   "cell_type": "code",
   "execution_count": 5,
   "metadata": {},
   "outputs": [
    {
     "data": {
      "text/html": [
       "<div>\n",
       "<style scoped>\n",
       "    .dataframe tbody tr th:only-of-type {\n",
       "        vertical-align: middle;\n",
       "    }\n",
       "\n",
       "    .dataframe tbody tr th {\n",
       "        vertical-align: top;\n",
       "    }\n",
       "\n",
       "    .dataframe thead th {\n",
       "        text-align: right;\n",
       "    }\n",
       "</style>\n",
       "<table border=\"1\" class=\"dataframe\">\n",
       "  <thead>\n",
       "    <tr style=\"text-align: right;\">\n",
       "      <th></th>\n",
       "      <th>id</th>\n",
       "      <th>title</th>\n",
       "      <th>price</th>\n",
       "      <th>numSubscribers</th>\n",
       "      <th>numReviews</th>\n",
       "      <th>numPublishedLectures</th>\n",
       "      <th>category</th>\n",
       "      <th>timeSpent</th>\n",
       "      <th>publishDate</th>\n",
       "      <th>level</th>\n",
       "      <th>paidBool</th>\n",
       "    </tr>\n",
       "  </thead>\n",
       "  <tbody>\n",
       "    <tr>\n",
       "      <th>0</th>\n",
       "      <td>28295</td>\n",
       "      <td>Learn Web Designing &amp; HTML5/CSS3 Essentials in...</td>\n",
       "      <td>75.0</td>\n",
       "      <td>43285</td>\n",
       "      <td>525</td>\n",
       "      <td>24</td>\n",
       "      <td>WebDevelopment</td>\n",
       "      <td>4.0</td>\n",
       "      <td>2013-01-03</td>\n",
       "      <td>All Levels</td>\n",
       "      <td>True</td>\n",
       "    </tr>\n",
       "    <tr>\n",
       "      <th>1</th>\n",
       "      <td>19603</td>\n",
       "      <td>Learning Dynamic Website Design - PHP MySQL an...</td>\n",
       "      <td>50.0</td>\n",
       "      <td>47886</td>\n",
       "      <td>285</td>\n",
       "      <td>125</td>\n",
       "      <td>WebDevelopment</td>\n",
       "      <td>12.5</td>\n",
       "      <td>2012-06-18</td>\n",
       "      <td>All Levels</td>\n",
       "      <td>True</td>\n",
       "    </tr>\n",
       "    <tr>\n",
       "      <th>2</th>\n",
       "      <td>889438</td>\n",
       "      <td>ChatBots: Messenger ChatBot with API.AI and No...</td>\n",
       "      <td>50.0</td>\n",
       "      <td>2577</td>\n",
       "      <td>529</td>\n",
       "      <td>64</td>\n",
       "      <td>WebDevelopment</td>\n",
       "      <td>4.5</td>\n",
       "      <td>2016-06-30</td>\n",
       "      <td>All Levels</td>\n",
       "      <td>True</td>\n",
       "    </tr>\n",
       "    <tr>\n",
       "      <th>3</th>\n",
       "      <td>197836</td>\n",
       "      <td>Projects in HTML5</td>\n",
       "      <td>60.0</td>\n",
       "      <td>8777</td>\n",
       "      <td>206</td>\n",
       "      <td>75</td>\n",
       "      <td>WebDevelopment</td>\n",
       "      <td>15.5</td>\n",
       "      <td>2014-06-17</td>\n",
       "      <td>Intermediate Level</td>\n",
       "      <td>True</td>\n",
       "    </tr>\n",
       "    <tr>\n",
       "      <th>4</th>\n",
       "      <td>505208</td>\n",
       "      <td>Programming Foundations: HTML5 + CSS3 for Entr...</td>\n",
       "      <td>20.0</td>\n",
       "      <td>23764</td>\n",
       "      <td>490</td>\n",
       "      <td>58</td>\n",
       "      <td>WebDevelopment</td>\n",
       "      <td>5.5</td>\n",
       "      <td>2015-10-17</td>\n",
       "      <td>Beginner Level</td>\n",
       "      <td>True</td>\n",
       "    </tr>\n",
       "  </tbody>\n",
       "</table>\n",
       "</div>"
      ],
      "text/plain": [
       "       id                                              title  price  \\\n",
       "0   28295  Learn Web Designing & HTML5/CSS3 Essentials in...   75.0   \n",
       "1   19603  Learning Dynamic Website Design - PHP MySQL an...   50.0   \n",
       "2  889438  ChatBots: Messenger ChatBot with API.AI and No...   50.0   \n",
       "3  197836                                  Projects in HTML5   60.0   \n",
       "4  505208  Programming Foundations: HTML5 + CSS3 for Entr...   20.0   \n",
       "\n",
       "   numSubscribers  numReviews  numPublishedLectures        category  \\\n",
       "0           43285         525                    24  WebDevelopment   \n",
       "1           47886         285                   125  WebDevelopment   \n",
       "2            2577         529                    64  WebDevelopment   \n",
       "3            8777         206                    75  WebDevelopment   \n",
       "4           23764         490                    58  WebDevelopment   \n",
       "\n",
       "   timeSpent publishDate               level  paidBool  \n",
       "0        4.0  2013-01-03          All Levels      True  \n",
       "1       12.5  2012-06-18          All Levels      True  \n",
       "2        4.5  2016-06-30          All Levels      True  \n",
       "3       15.5  2014-06-17  Intermediate Level      True  \n",
       "4        5.5  2015-10-17      Beginner Level      True  "
      ]
     },
     "execution_count": 5,
     "metadata": {},
     "output_type": "execute_result"
    }
   ],
   "source": [
    "df_courses.head()"
   ]
  },
  {
   "cell_type": "code",
   "execution_count": 6,
   "metadata": {},
   "outputs": [],
   "source": [
    "def oneHotEncode(df, name_column):\n",
    "    dummies = pd.get_dummies(df[name_column], prefix=name_column)\n",
    "    df = pd.concat([df,dummies],axis=1)\n",
    "\n",
    "    df.drop([name_column], axis = 1 , inplace=True)\n",
    "    return df"
   ]
  },
  {
   "cell_type": "code",
   "execution_count": 8,
   "metadata": {},
   "outputs": [],
   "source": [
    "df = oneHotEncode(df_courses, 'category')\n",
    "df = oneHotEncode(df, 'level')\n",
    "df = oneHotEncode(df, 'paidBool')"
   ]
  },
  {
   "cell_type": "code",
   "execution_count": 9,
   "metadata": {},
   "outputs": [
    {
     "data": {
      "text/html": [
       "<div>\n",
       "<style scoped>\n",
       "    .dataframe tbody tr th:only-of-type {\n",
       "        vertical-align: middle;\n",
       "    }\n",
       "\n",
       "    .dataframe tbody tr th {\n",
       "        vertical-align: top;\n",
       "    }\n",
       "\n",
       "    .dataframe thead th {\n",
       "        text-align: right;\n",
       "    }\n",
       "</style>\n",
       "<table border=\"1\" class=\"dataframe\">\n",
       "  <thead>\n",
       "    <tr style=\"text-align: right;\">\n",
       "      <th></th>\n",
       "      <th>id</th>\n",
       "      <th>title</th>\n",
       "      <th>price</th>\n",
       "      <th>numSubscribers</th>\n",
       "      <th>numReviews</th>\n",
       "      <th>numPublishedLectures</th>\n",
       "      <th>timeSpent</th>\n",
       "      <th>publishDate</th>\n",
       "      <th>category_BussinessFinance</th>\n",
       "      <th>category_GraphicDesign</th>\n",
       "      <th>category_MusicInstrument</th>\n",
       "      <th>category_WebDevelopment</th>\n",
       "      <th>level_All Levels</th>\n",
       "      <th>level_Beginner Level</th>\n",
       "      <th>level_Expert Level</th>\n",
       "      <th>level_Intermediate Level</th>\n",
       "      <th>paidBool_False</th>\n",
       "      <th>paidBool_True</th>\n",
       "    </tr>\n",
       "  </thead>\n",
       "  <tbody>\n",
       "    <tr>\n",
       "      <th>0</th>\n",
       "      <td>28295</td>\n",
       "      <td>Learn Web Designing &amp; HTML5/CSS3 Essentials in...</td>\n",
       "      <td>75.0</td>\n",
       "      <td>43285</td>\n",
       "      <td>525</td>\n",
       "      <td>24</td>\n",
       "      <td>4.0</td>\n",
       "      <td>2013-01-03</td>\n",
       "      <td>0</td>\n",
       "      <td>0</td>\n",
       "      <td>0</td>\n",
       "      <td>1</td>\n",
       "      <td>1</td>\n",
       "      <td>0</td>\n",
       "      <td>0</td>\n",
       "      <td>0</td>\n",
       "      <td>0</td>\n",
       "      <td>1</td>\n",
       "    </tr>\n",
       "    <tr>\n",
       "      <th>1</th>\n",
       "      <td>19603</td>\n",
       "      <td>Learning Dynamic Website Design - PHP MySQL an...</td>\n",
       "      <td>50.0</td>\n",
       "      <td>47886</td>\n",
       "      <td>285</td>\n",
       "      <td>125</td>\n",
       "      <td>12.5</td>\n",
       "      <td>2012-06-18</td>\n",
       "      <td>0</td>\n",
       "      <td>0</td>\n",
       "      <td>0</td>\n",
       "      <td>1</td>\n",
       "      <td>1</td>\n",
       "      <td>0</td>\n",
       "      <td>0</td>\n",
       "      <td>0</td>\n",
       "      <td>0</td>\n",
       "      <td>1</td>\n",
       "    </tr>\n",
       "    <tr>\n",
       "      <th>2</th>\n",
       "      <td>889438</td>\n",
       "      <td>ChatBots: Messenger ChatBot with API.AI and No...</td>\n",
       "      <td>50.0</td>\n",
       "      <td>2577</td>\n",
       "      <td>529</td>\n",
       "      <td>64</td>\n",
       "      <td>4.5</td>\n",
       "      <td>2016-06-30</td>\n",
       "      <td>0</td>\n",
       "      <td>0</td>\n",
       "      <td>0</td>\n",
       "      <td>1</td>\n",
       "      <td>1</td>\n",
       "      <td>0</td>\n",
       "      <td>0</td>\n",
       "      <td>0</td>\n",
       "      <td>0</td>\n",
       "      <td>1</td>\n",
       "    </tr>\n",
       "    <tr>\n",
       "      <th>3</th>\n",
       "      <td>197836</td>\n",
       "      <td>Projects in HTML5</td>\n",
       "      <td>60.0</td>\n",
       "      <td>8777</td>\n",
       "      <td>206</td>\n",
       "      <td>75</td>\n",
       "      <td>15.5</td>\n",
       "      <td>2014-06-17</td>\n",
       "      <td>0</td>\n",
       "      <td>0</td>\n",
       "      <td>0</td>\n",
       "      <td>1</td>\n",
       "      <td>0</td>\n",
       "      <td>0</td>\n",
       "      <td>0</td>\n",
       "      <td>1</td>\n",
       "      <td>0</td>\n",
       "      <td>1</td>\n",
       "    </tr>\n",
       "    <tr>\n",
       "      <th>4</th>\n",
       "      <td>505208</td>\n",
       "      <td>Programming Foundations: HTML5 + CSS3 for Entr...</td>\n",
       "      <td>20.0</td>\n",
       "      <td>23764</td>\n",
       "      <td>490</td>\n",
       "      <td>58</td>\n",
       "      <td>5.5</td>\n",
       "      <td>2015-10-17</td>\n",
       "      <td>0</td>\n",
       "      <td>0</td>\n",
       "      <td>0</td>\n",
       "      <td>1</td>\n",
       "      <td>0</td>\n",
       "      <td>1</td>\n",
       "      <td>0</td>\n",
       "      <td>0</td>\n",
       "      <td>0</td>\n",
       "      <td>1</td>\n",
       "    </tr>\n",
       "  </tbody>\n",
       "</table>\n",
       "</div>"
      ],
      "text/plain": [
       "       id                                              title  price  \\\n",
       "0   28295  Learn Web Designing & HTML5/CSS3 Essentials in...   75.0   \n",
       "1   19603  Learning Dynamic Website Design - PHP MySQL an...   50.0   \n",
       "2  889438  ChatBots: Messenger ChatBot with API.AI and No...   50.0   \n",
       "3  197836                                  Projects in HTML5   60.0   \n",
       "4  505208  Programming Foundations: HTML5 + CSS3 for Entr...   20.0   \n",
       "\n",
       "   numSubscribers  numReviews  numPublishedLectures  timeSpent publishDate  \\\n",
       "0           43285         525                    24        4.0  2013-01-03   \n",
       "1           47886         285                   125       12.5  2012-06-18   \n",
       "2            2577         529                    64        4.5  2016-06-30   \n",
       "3            8777         206                    75       15.5  2014-06-17   \n",
       "4           23764         490                    58        5.5  2015-10-17   \n",
       "\n",
       "   category_BussinessFinance  category_GraphicDesign  \\\n",
       "0                          0                       0   \n",
       "1                          0                       0   \n",
       "2                          0                       0   \n",
       "3                          0                       0   \n",
       "4                          0                       0   \n",
       "\n",
       "   category_MusicInstrument  category_WebDevelopment  level_All Levels  \\\n",
       "0                         0                        1                 1   \n",
       "1                         0                        1                 1   \n",
       "2                         0                        1                 1   \n",
       "3                         0                        1                 0   \n",
       "4                         0                        1                 0   \n",
       "\n",
       "   level_Beginner Level  level_Expert Level  level_Intermediate Level  \\\n",
       "0                     0                   0                         0   \n",
       "1                     0                   0                         0   \n",
       "2                     0                   0                         0   \n",
       "3                     0                   0                         1   \n",
       "4                     1                   0                         0   \n",
       "\n",
       "   paidBool_False  paidBool_True  \n",
       "0               0              1  \n",
       "1               0              1  \n",
       "2               0              1  \n",
       "3               0              1  \n",
       "4               0              1  "
      ]
     },
     "execution_count": 9,
     "metadata": {},
     "output_type": "execute_result"
    }
   ],
   "source": [
    "df.head()"
   ]
  },
  {
   "cell_type": "code",
   "execution_count": 10,
   "metadata": {},
   "outputs": [],
   "source": [
    "df.drop(columns=['id', 'title', 'publishDate'], inplace=True)"
   ]
  },
  {
   "cell_type": "code",
   "execution_count": 12,
   "metadata": {},
   "outputs": [],
   "source": [
    "y = df.price\n",
    "X = df.drop(columns='price')"
   ]
  },
  {
   "cell_type": "markdown",
   "metadata": {},
   "source": [
    "Predicting prices based on the features above:"
   ]
  },
  {
   "cell_type": "code",
   "execution_count": 14,
   "metadata": {},
   "outputs": [
    {
     "data": {
      "text/plain": [
       "ARDRegression(alpha_1=1e-06, alpha_2=1e-06, compute_score=False, copy_X=True,\n",
       "       fit_intercept=True, lambda_1=1e-06, lambda_2=1e-06, n_iter=300,\n",
       "       normalize=False, threshold_lambda=10000.0, tol=0.001, verbose=False)"
      ]
     },
     "execution_count": 14,
     "metadata": {},
     "output_type": "execute_result"
    }
   ],
   "source": [
    "clf = linear_model.ARDRegression()\n",
    "clf.fit(X, y)"
   ]
  },
  {
   "cell_type": "code",
   "execution_count": 15,
   "metadata": {},
   "outputs": [
    {
     "ename": "ValueError",
     "evalue": "Expected 2D array, got 1D array instead:\narray=[75. 50. 50. ... 20. 50. 20.].\nReshape your data either using array.reshape(-1, 1) if your data has a single feature or array.reshape(1, -1) if it contains a single sample.",
     "output_type": "error",
     "traceback": [
      "\u001b[0;31m---------------------------------------------------------------------------\u001b[0m",
      "\u001b[0;31mValueError\u001b[0m                                Traceback (most recent call last)",
      "\u001b[0;32m<ipython-input-15-386a3089c5cb>\u001b[0m in \u001b[0;36m<module>\u001b[0;34m\u001b[0m\n\u001b[0;32m----> 1\u001b[0;31m \u001b[0mclf\u001b[0m\u001b[0;34m.\u001b[0m\u001b[0mpredict\u001b[0m\u001b[0;34m(\u001b[0m\u001b[0my\u001b[0m\u001b[0;34m)\u001b[0m\u001b[0;34m\u001b[0m\u001b[0;34m\u001b[0m\u001b[0m\n\u001b[0m",
      "\u001b[0;32m~/anaconda3/lib/python3.7/site-packages/sklearn/linear_model/bayes.py\u001b[0m in \u001b[0;36mpredict\u001b[0;34m(self, X, return_std)\u001b[0m\n\u001b[1;32m    556\u001b[0m             \u001b[0mStandard\u001b[0m \u001b[0mdeviation\u001b[0m \u001b[0mof\u001b[0m \u001b[0mpredictive\u001b[0m \u001b[0mdistribution\u001b[0m \u001b[0mof\u001b[0m \u001b[0mquery\u001b[0m \u001b[0mpoints\u001b[0m\u001b[0;34m.\u001b[0m\u001b[0;34m\u001b[0m\u001b[0;34m\u001b[0m\u001b[0m\n\u001b[1;32m    557\u001b[0m         \"\"\"\n\u001b[0;32m--> 558\u001b[0;31m         \u001b[0my_mean\u001b[0m \u001b[0;34m=\u001b[0m \u001b[0mself\u001b[0m\u001b[0;34m.\u001b[0m\u001b[0m_decision_function\u001b[0m\u001b[0;34m(\u001b[0m\u001b[0mX\u001b[0m\u001b[0;34m)\u001b[0m\u001b[0;34m\u001b[0m\u001b[0;34m\u001b[0m\u001b[0m\n\u001b[0m\u001b[1;32m    559\u001b[0m         \u001b[0;32mif\u001b[0m \u001b[0mreturn_std\u001b[0m \u001b[0;32mis\u001b[0m \u001b[0;32mFalse\u001b[0m\u001b[0;34m:\u001b[0m\u001b[0;34m\u001b[0m\u001b[0;34m\u001b[0m\u001b[0m\n\u001b[1;32m    560\u001b[0m             \u001b[0;32mreturn\u001b[0m \u001b[0my_mean\u001b[0m\u001b[0;34m\u001b[0m\u001b[0;34m\u001b[0m\u001b[0m\n",
      "\u001b[0;32m~/anaconda3/lib/python3.7/site-packages/sklearn/linear_model/base.py\u001b[0m in \u001b[0;36m_decision_function\u001b[0;34m(self, X)\u001b[0m\n\u001b[1;32m    194\u001b[0m         \u001b[0mcheck_is_fitted\u001b[0m\u001b[0;34m(\u001b[0m\u001b[0mself\u001b[0m\u001b[0;34m,\u001b[0m \u001b[0;34m\"coef_\"\u001b[0m\u001b[0;34m)\u001b[0m\u001b[0;34m\u001b[0m\u001b[0;34m\u001b[0m\u001b[0m\n\u001b[1;32m    195\u001b[0m \u001b[0;34m\u001b[0m\u001b[0m\n\u001b[0;32m--> 196\u001b[0;31m         \u001b[0mX\u001b[0m \u001b[0;34m=\u001b[0m \u001b[0mcheck_array\u001b[0m\u001b[0;34m(\u001b[0m\u001b[0mX\u001b[0m\u001b[0;34m,\u001b[0m \u001b[0maccept_sparse\u001b[0m\u001b[0;34m=\u001b[0m\u001b[0;34m[\u001b[0m\u001b[0;34m'csr'\u001b[0m\u001b[0;34m,\u001b[0m \u001b[0;34m'csc'\u001b[0m\u001b[0;34m,\u001b[0m \u001b[0;34m'coo'\u001b[0m\u001b[0;34m]\u001b[0m\u001b[0;34m)\u001b[0m\u001b[0;34m\u001b[0m\u001b[0;34m\u001b[0m\u001b[0m\n\u001b[0m\u001b[1;32m    197\u001b[0m         return safe_sparse_dot(X, self.coef_.T,\n\u001b[1;32m    198\u001b[0m                                dense_output=True) + self.intercept_\n",
      "\u001b[0;32m~/anaconda3/lib/python3.7/site-packages/sklearn/utils/validation.py\u001b[0m in \u001b[0;36mcheck_array\u001b[0;34m(array, accept_sparse, accept_large_sparse, dtype, order, copy, force_all_finite, ensure_2d, allow_nd, ensure_min_samples, ensure_min_features, warn_on_dtype, estimator)\u001b[0m\n\u001b[1;32m    550\u001b[0m                     \u001b[0;34m\"Reshape your data either using array.reshape(-1, 1) if \"\u001b[0m\u001b[0;34m\u001b[0m\u001b[0;34m\u001b[0m\u001b[0m\n\u001b[1;32m    551\u001b[0m                     \u001b[0;34m\"your data has a single feature or array.reshape(1, -1) \"\u001b[0m\u001b[0;34m\u001b[0m\u001b[0;34m\u001b[0m\u001b[0m\n\u001b[0;32m--> 552\u001b[0;31m                     \"if it contains a single sample.\".format(array))\n\u001b[0m\u001b[1;32m    553\u001b[0m \u001b[0;34m\u001b[0m\u001b[0m\n\u001b[1;32m    554\u001b[0m         \u001b[0;31m# in the future np.flexible dtypes will be handled like object dtypes\u001b[0m\u001b[0;34m\u001b[0m\u001b[0;34m\u001b[0m\u001b[0;34m\u001b[0m\u001b[0m\n",
      "\u001b[0;31mValueError\u001b[0m: Expected 2D array, got 1D array instead:\narray=[75. 50. 50. ... 20. 50. 20.].\nReshape your data either using array.reshape(-1, 1) if your data has a single feature or array.reshape(1, -1) if it contains a single sample."
     ]
    }
   ],
   "source": [
    "clf.predict(y)"
   ]
  },
  {
   "cell_type": "code",
   "execution_count": null,
   "metadata": {},
   "outputs": [],
   "source": []
  },
  {
   "cell_type": "code",
   "execution_count": null,
   "metadata": {},
   "outputs": [],
   "source": []
  }
 ],
 "metadata": {
  "kernelspec": {
   "display_name": "Python 3",
   "language": "python",
   "name": "python3"
  },
  "language_info": {
   "codemirror_mode": {
    "name": "ipython",
    "version": 3
   },
   "file_extension": ".py",
   "mimetype": "text/x-python",
   "name": "python",
   "nbconvert_exporter": "python",
   "pygments_lexer": "ipython3",
   "version": "3.7.1"
  }
 },
 "nbformat": 4,
 "nbformat_minor": 2
}
