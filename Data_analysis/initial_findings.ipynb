{
 "cells": [
  {
   "cell_type": "markdown",
   "metadata": {},
   "source": [
    "# Initial Findings Udemy Courses\n",
    "\n",
    "In this first section, we analyze Udemy courses using datasets provided by Chase Willden on [data.world](https://data.world/chasewillden) according to four different categories of courses:  \n",
    "- Web Development\n",
    "- Graphic Design\n",
    "- Music Instruments\n",
    "- Business Finance\n",
    " \n",
    "## Preprocessing"
   ]
  },
  {
   "cell_type": "markdown",
   "metadata": {},
   "source": [
    "Importing basic packages:"
   ]
  },
  {
   "cell_type": "code",
   "execution_count": 1,
   "metadata": {},
   "outputs": [],
   "source": [
    "import pandas as pd\n",
    "import numpy as np\n",
    "import matplotlib.pyplot as plt\n",
    "import seaborn as sns\n",
    "import re"
   ]
  },
  {
   "cell_type": "code",
   "execution_count": 2,
   "metadata": {},
   "outputs": [],
   "source": [
    "df_WebDev = pd.read_csv('../Data/raw/WebDevelopment.csv')\n",
    "df_GraphDesig = pd.read_csv('../Data/raw/GraphicDesign.csv')\n",
    "df_MusicInstr = pd.read_csv('../Data/raw/MusicInstraments.csv')\n",
    "df_BussFinan = pd.read_csv('../Data/raw/BusinessFinance.csv')"
   ]
  },
  {
   "cell_type": "markdown",
   "metadata": {},
   "source": [
    "Drop unknown columns: `Unnamed: 11`, `Unnamed: 12`:"
   ]
  },
  {
   "cell_type": "code",
   "execution_count": 3,
   "metadata": {},
   "outputs": [],
   "source": [
    "df_WebDev.dropna(axis=1, how='all', inplace=True)\n",
    "df_GraphDesig.dropna(axis=1, how='all', inplace=True)\n",
    "df_MusicInstr.dropna(axis=1, how='all', inplace=True)\n",
    "df_BussFinan.dropna(axis=1, how='all', inplace=True)"
   ]
  },
  {
   "cell_type": "markdown",
   "metadata": {},
   "source": [
    "Inserting `category` column:"
   ]
  },
  {
   "cell_type": "code",
   "execution_count": 4,
   "metadata": {},
   "outputs": [],
   "source": [
    "df_WebDev['category'] = 'WebDevelopment'\n",
    "df_GraphDesig['category'] = 'GraphicDesign'\n",
    "df_MusicInstr['category'] = 'MusicInstrument'\n",
    "df_BussFinan['category'] = 'BussinessFinance'"
   ]
  },
  {
   "cell_type": "code",
   "execution_count": 5,
   "metadata": {},
   "outputs": [],
   "source": [
    "df_courses = pd.concat([df_WebDev, df_GraphDesig, df_MusicInstr, df_BussFinan], ignore_index=True, sort=False)"
   ]
  },
  {
   "cell_type": "markdown",
   "metadata": {},
   "source": [
    "Quick inspection:"
   ]
  },
  {
   "cell_type": "code",
   "execution_count": 6,
   "metadata": {},
   "outputs": [
    {
     "name": "stdout",
     "output_type": "stream",
     "text": [
      "<class 'pandas.core.frame.DataFrame'>\n",
      "RangeIndex: 3683 entries, 0 to 3682\n",
      "Data columns (total 16 columns):\n",
      "id                      3683 non-null int64\n",
      "title                   3683 non-null object\n",
      "url                     3683 non-null object\n",
      "isPaid                  3683 non-null object\n",
      "price                   3683 non-null object\n",
      "numSubscribers          3683 non-null int64\n",
      "numReviews              3683 non-null int64\n",
      "numPublishedLectures    3683 non-null int64\n",
      "instructionalLevel      3683 non-null object\n",
      "contentInfo             3683 non-null object\n",
      "publishedTime           3683 non-null object\n",
      "Is Paid                 8 non-null object\n",
      "Total                   8 non-null float64\n",
      "Percent                 4 non-null object\n",
      "category                3683 non-null object\n",
      "Column1                 5 non-null object\n",
      "dtypes: float64(1), int64(4), object(11)\n",
      "memory usage: 460.5+ KB\n"
     ]
    }
   ],
   "source": [
    "df_courses.info()"
   ]
  },
  {
   "cell_type": "markdown",
   "metadata": {},
   "source": [
    "Drop columns with any misssing value:"
   ]
  },
  {
   "cell_type": "code",
   "execution_count": 7,
   "metadata": {},
   "outputs": [],
   "source": [
    "df_courses.dropna(axis=1, how='any', inplace=True)"
   ]
  },
  {
   "cell_type": "code",
   "execution_count": 8,
   "metadata": {},
   "outputs": [
    {
     "data": {
      "text/html": [
       "<div>\n",
       "<style scoped>\n",
       "    .dataframe tbody tr th:only-of-type {\n",
       "        vertical-align: middle;\n",
       "    }\n",
       "\n",
       "    .dataframe tbody tr th {\n",
       "        vertical-align: top;\n",
       "    }\n",
       "\n",
       "    .dataframe thead th {\n",
       "        text-align: right;\n",
       "    }\n",
       "</style>\n",
       "<table border=\"1\" class=\"dataframe\">\n",
       "  <thead>\n",
       "    <tr style=\"text-align: right;\">\n",
       "      <th></th>\n",
       "      <th>id</th>\n",
       "      <th>title</th>\n",
       "      <th>url</th>\n",
       "      <th>isPaid</th>\n",
       "      <th>price</th>\n",
       "      <th>numSubscribers</th>\n",
       "      <th>numReviews</th>\n",
       "      <th>numPublishedLectures</th>\n",
       "      <th>instructionalLevel</th>\n",
       "      <th>contentInfo</th>\n",
       "      <th>publishedTime</th>\n",
       "      <th>category</th>\n",
       "    </tr>\n",
       "  </thead>\n",
       "  <tbody>\n",
       "    <tr>\n",
       "      <th>0</th>\n",
       "      <td>28295</td>\n",
       "      <td>Learn Web Designing &amp; HTML5/CSS3 Essentials in...</td>\n",
       "      <td>https://www.udemy.com/build-beautiful-html5-we...</td>\n",
       "      <td>True</td>\n",
       "      <td>75</td>\n",
       "      <td>43285</td>\n",
       "      <td>525</td>\n",
       "      <td>24</td>\n",
       "      <td>All Levels</td>\n",
       "      <td>4 hours</td>\n",
       "      <td>2013-01-03T00:55:31Z</td>\n",
       "      <td>WebDevelopment</td>\n",
       "    </tr>\n",
       "    <tr>\n",
       "      <th>1</th>\n",
       "      <td>19603</td>\n",
       "      <td>Learning Dynamic Website Design - PHP MySQL an...</td>\n",
       "      <td>https://www.udemy.com/learning-dynamic-website...</td>\n",
       "      <td>True</td>\n",
       "      <td>50</td>\n",
       "      <td>47886</td>\n",
       "      <td>285</td>\n",
       "      <td>125</td>\n",
       "      <td>All Levels</td>\n",
       "      <td>12.5 hours</td>\n",
       "      <td>2012-06-18T16:52:34Z</td>\n",
       "      <td>WebDevelopment</td>\n",
       "    </tr>\n",
       "    <tr>\n",
       "      <th>2</th>\n",
       "      <td>889438</td>\n",
       "      <td>ChatBots: Messenger ChatBot with API.AI and No...</td>\n",
       "      <td>https://www.udemy.com/chatbots/</td>\n",
       "      <td>True</td>\n",
       "      <td>50</td>\n",
       "      <td>2577</td>\n",
       "      <td>529</td>\n",
       "      <td>64</td>\n",
       "      <td>All Levels</td>\n",
       "      <td>4.5 hours</td>\n",
       "      <td>2016-06-30T16:57:08Z</td>\n",
       "      <td>WebDevelopment</td>\n",
       "    </tr>\n",
       "    <tr>\n",
       "      <th>3</th>\n",
       "      <td>197836</td>\n",
       "      <td>Projects in HTML5</td>\n",
       "      <td>https://www.udemy.com/projects-in-html5/</td>\n",
       "      <td>True</td>\n",
       "      <td>60</td>\n",
       "      <td>8777</td>\n",
       "      <td>206</td>\n",
       "      <td>75</td>\n",
       "      <td>Intermediate Level</td>\n",
       "      <td>15.5 hours</td>\n",
       "      <td>2014-06-17T05:43:50Z</td>\n",
       "      <td>WebDevelopment</td>\n",
       "    </tr>\n",
       "    <tr>\n",
       "      <th>4</th>\n",
       "      <td>505208</td>\n",
       "      <td>Programming Foundations: HTML5 + CSS3 for Entr...</td>\n",
       "      <td>https://www.udemy.com/html-css-more/</td>\n",
       "      <td>True</td>\n",
       "      <td>20</td>\n",
       "      <td>23764</td>\n",
       "      <td>490</td>\n",
       "      <td>58</td>\n",
       "      <td>Beginner Level</td>\n",
       "      <td>5.5 hours</td>\n",
       "      <td>2015-10-17T04:52:25Z</td>\n",
       "      <td>WebDevelopment</td>\n",
       "    </tr>\n",
       "  </tbody>\n",
       "</table>\n",
       "</div>"
      ],
      "text/plain": [
       "       id                                              title  \\\n",
       "0   28295  Learn Web Designing & HTML5/CSS3 Essentials in...   \n",
       "1   19603  Learning Dynamic Website Design - PHP MySQL an...   \n",
       "2  889438  ChatBots: Messenger ChatBot with API.AI and No...   \n",
       "3  197836                                  Projects in HTML5   \n",
       "4  505208  Programming Foundations: HTML5 + CSS3 for Entr...   \n",
       "\n",
       "                                                 url isPaid price  \\\n",
       "0  https://www.udemy.com/build-beautiful-html5-we...   True    75   \n",
       "1  https://www.udemy.com/learning-dynamic-website...   True    50   \n",
       "2                    https://www.udemy.com/chatbots/   True    50   \n",
       "3           https://www.udemy.com/projects-in-html5/   True    60   \n",
       "4               https://www.udemy.com/html-css-more/   True    20   \n",
       "\n",
       "   numSubscribers  numReviews  numPublishedLectures  instructionalLevel  \\\n",
       "0           43285         525                    24          All Levels   \n",
       "1           47886         285                   125          All Levels   \n",
       "2            2577         529                    64          All Levels   \n",
       "3            8777         206                    75  Intermediate Level   \n",
       "4           23764         490                    58      Beginner Level   \n",
       "\n",
       "  contentInfo         publishedTime        category  \n",
       "0     4 hours  2013-01-03T00:55:31Z  WebDevelopment  \n",
       "1  12.5 hours  2012-06-18T16:52:34Z  WebDevelopment  \n",
       "2   4.5 hours  2016-06-30T16:57:08Z  WebDevelopment  \n",
       "3  15.5 hours  2014-06-17T05:43:50Z  WebDevelopment  \n",
       "4   5.5 hours  2015-10-17T04:52:25Z  WebDevelopment  "
      ]
     },
     "execution_count": 8,
     "metadata": {},
     "output_type": "execute_result"
    }
   ],
   "source": [
    "df_courses.head()"
   ]
  },
  {
   "cell_type": "markdown",
   "metadata": {},
   "source": [
    "- Convert price and contentInfo to float\n",
    "- Convert published time to datetime"
   ]
  },
  {
   "cell_type": "code",
   "execution_count": 9,
   "metadata": {},
   "outputs": [],
   "source": [
    "def price_to_float(price):\n",
    "    try:\n",
    "        priceFloat = float(price)\n",
    "    except:\n",
    "        priceFloat = 0.0\n",
    "        \n",
    "    return priceFloat"
   ]
  },
  {
   "cell_type": "code",
   "execution_count": 10,
   "metadata": {},
   "outputs": [],
   "source": [
    "df_courses['price'] = df_courses.price.apply(price_to_float)"
   ]
  },
  {
   "cell_type": "code",
   "execution_count": 11,
   "metadata": {},
   "outputs": [],
   "source": [
    "def time_spent(contentInfo):\n",
    "    if re.search('hour', contentInfo):\n",
    "        time = float(contentInfo.split()[0])\n",
    "    elif re.search('minute', contentInfo):\n",
    "        time = float(contentInfo.split()[0])/60\n",
    "    else:\n",
    "        time = np.nan\n",
    "    return time"
   ]
  },
  {
   "cell_type": "code",
   "execution_count": 12,
   "metadata": {},
   "outputs": [],
   "source": [
    "df_courses['timeSpent'] = df_courses.contentInfo.apply(time_spent) "
   ]
  },
  {
   "cell_type": "code",
   "execution_count": 13,
   "metadata": {},
   "outputs": [
    {
     "data": {
      "text/html": [
       "<div>\n",
       "<style scoped>\n",
       "    .dataframe tbody tr th:only-of-type {\n",
       "        vertical-align: middle;\n",
       "    }\n",
       "\n",
       "    .dataframe tbody tr th {\n",
       "        vertical-align: top;\n",
       "    }\n",
       "\n",
       "    .dataframe thead th {\n",
       "        text-align: right;\n",
       "    }\n",
       "</style>\n",
       "<table border=\"1\" class=\"dataframe\">\n",
       "  <thead>\n",
       "    <tr style=\"text-align: right;\">\n",
       "      <th></th>\n",
       "      <th>id</th>\n",
       "      <th>title</th>\n",
       "      <th>url</th>\n",
       "      <th>isPaid</th>\n",
       "      <th>price</th>\n",
       "      <th>numSubscribers</th>\n",
       "      <th>numReviews</th>\n",
       "      <th>numPublishedLectures</th>\n",
       "      <th>instructionalLevel</th>\n",
       "      <th>contentInfo</th>\n",
       "      <th>publishedTime</th>\n",
       "      <th>category</th>\n",
       "      <th>timeSpent</th>\n",
       "    </tr>\n",
       "  </thead>\n",
       "  <tbody>\n",
       "    <tr>\n",
       "      <th>0</th>\n",
       "      <td>28295</td>\n",
       "      <td>Learn Web Designing &amp; HTML5/CSS3 Essentials in...</td>\n",
       "      <td>https://www.udemy.com/build-beautiful-html5-we...</td>\n",
       "      <td>True</td>\n",
       "      <td>75.0</td>\n",
       "      <td>43285</td>\n",
       "      <td>525</td>\n",
       "      <td>24</td>\n",
       "      <td>All Levels</td>\n",
       "      <td>4 hours</td>\n",
       "      <td>2013-01-03T00:55:31Z</td>\n",
       "      <td>WebDevelopment</td>\n",
       "      <td>4.0</td>\n",
       "    </tr>\n",
       "    <tr>\n",
       "      <th>1</th>\n",
       "      <td>19603</td>\n",
       "      <td>Learning Dynamic Website Design - PHP MySQL an...</td>\n",
       "      <td>https://www.udemy.com/learning-dynamic-website...</td>\n",
       "      <td>True</td>\n",
       "      <td>50.0</td>\n",
       "      <td>47886</td>\n",
       "      <td>285</td>\n",
       "      <td>125</td>\n",
       "      <td>All Levels</td>\n",
       "      <td>12.5 hours</td>\n",
       "      <td>2012-06-18T16:52:34Z</td>\n",
       "      <td>WebDevelopment</td>\n",
       "      <td>12.5</td>\n",
       "    </tr>\n",
       "    <tr>\n",
       "      <th>2</th>\n",
       "      <td>889438</td>\n",
       "      <td>ChatBots: Messenger ChatBot with API.AI and No...</td>\n",
       "      <td>https://www.udemy.com/chatbots/</td>\n",
       "      <td>True</td>\n",
       "      <td>50.0</td>\n",
       "      <td>2577</td>\n",
       "      <td>529</td>\n",
       "      <td>64</td>\n",
       "      <td>All Levels</td>\n",
       "      <td>4.5 hours</td>\n",
       "      <td>2016-06-30T16:57:08Z</td>\n",
       "      <td>WebDevelopment</td>\n",
       "      <td>4.5</td>\n",
       "    </tr>\n",
       "    <tr>\n",
       "      <th>3</th>\n",
       "      <td>197836</td>\n",
       "      <td>Projects in HTML5</td>\n",
       "      <td>https://www.udemy.com/projects-in-html5/</td>\n",
       "      <td>True</td>\n",
       "      <td>60.0</td>\n",
       "      <td>8777</td>\n",
       "      <td>206</td>\n",
       "      <td>75</td>\n",
       "      <td>Intermediate Level</td>\n",
       "      <td>15.5 hours</td>\n",
       "      <td>2014-06-17T05:43:50Z</td>\n",
       "      <td>WebDevelopment</td>\n",
       "      <td>15.5</td>\n",
       "    </tr>\n",
       "    <tr>\n",
       "      <th>4</th>\n",
       "      <td>505208</td>\n",
       "      <td>Programming Foundations: HTML5 + CSS3 for Entr...</td>\n",
       "      <td>https://www.udemy.com/html-css-more/</td>\n",
       "      <td>True</td>\n",
       "      <td>20.0</td>\n",
       "      <td>23764</td>\n",
       "      <td>490</td>\n",
       "      <td>58</td>\n",
       "      <td>Beginner Level</td>\n",
       "      <td>5.5 hours</td>\n",
       "      <td>2015-10-17T04:52:25Z</td>\n",
       "      <td>WebDevelopment</td>\n",
       "      <td>5.5</td>\n",
       "    </tr>\n",
       "  </tbody>\n",
       "</table>\n",
       "</div>"
      ],
      "text/plain": [
       "       id                                              title  \\\n",
       "0   28295  Learn Web Designing & HTML5/CSS3 Essentials in...   \n",
       "1   19603  Learning Dynamic Website Design - PHP MySQL an...   \n",
       "2  889438  ChatBots: Messenger ChatBot with API.AI and No...   \n",
       "3  197836                                  Projects in HTML5   \n",
       "4  505208  Programming Foundations: HTML5 + CSS3 for Entr...   \n",
       "\n",
       "                                                 url isPaid  price  \\\n",
       "0  https://www.udemy.com/build-beautiful-html5-we...   True   75.0   \n",
       "1  https://www.udemy.com/learning-dynamic-website...   True   50.0   \n",
       "2                    https://www.udemy.com/chatbots/   True   50.0   \n",
       "3           https://www.udemy.com/projects-in-html5/   True   60.0   \n",
       "4               https://www.udemy.com/html-css-more/   True   20.0   \n",
       "\n",
       "   numSubscribers  numReviews  numPublishedLectures  instructionalLevel  \\\n",
       "0           43285         525                    24          All Levels   \n",
       "1           47886         285                   125          All Levels   \n",
       "2            2577         529                    64          All Levels   \n",
       "3            8777         206                    75  Intermediate Level   \n",
       "4           23764         490                    58      Beginner Level   \n",
       "\n",
       "  contentInfo         publishedTime        category  timeSpent  \n",
       "0     4 hours  2013-01-03T00:55:31Z  WebDevelopment        4.0  \n",
       "1  12.5 hours  2012-06-18T16:52:34Z  WebDevelopment       12.5  \n",
       "2   4.5 hours  2016-06-30T16:57:08Z  WebDevelopment        4.5  \n",
       "3  15.5 hours  2014-06-17T05:43:50Z  WebDevelopment       15.5  \n",
       "4   5.5 hours  2015-10-17T04:52:25Z  WebDevelopment        5.5  "
      ]
     },
     "execution_count": 13,
     "metadata": {},
     "output_type": "execute_result"
    }
   ],
   "source": [
    "df_courses.head()"
   ]
  },
  {
   "cell_type": "code",
   "execution_count": 17,
   "metadata": {},
   "outputs": [],
   "source": [
    "import datetime\n",
    "#datetime(df_courses.publishedTime[0])"
   ]
  },
  {
   "cell_type": "markdown",
   "metadata": {},
   "source": [
    "## Initial Findings"
   ]
  },
  {
   "cell_type": "markdown",
   "metadata": {},
   "source": [
    "Number of courses per category:"
   ]
  },
  {
   "cell_type": "code",
   "execution_count": 10,
   "metadata": {},
   "outputs": [
    {
     "data": {
      "text/plain": [
       "category\n",
       "BussinessFinance    1199\n",
       "GraphicDesign        603\n",
       "MusicInstrument      681\n",
       "WebDevelopment      1200\n",
       "Name: id, dtype: int64"
      ]
     },
     "execution_count": 10,
     "metadata": {},
     "output_type": "execute_result"
    }
   ],
   "source": [
    "df_courses.groupby('category').count().id"
   ]
  },
  {
   "cell_type": "markdown",
   "metadata": {},
   "source": [
    "Average course price in every category:"
   ]
  },
  {
   "cell_type": "code",
   "execution_count": 18,
   "metadata": {},
   "outputs": [],
   "source": [
    "#df_courses.groupby(['category', 'price']).mean()"
   ]
  },
  {
   "cell_type": "code",
   "execution_count": null,
   "metadata": {},
   "outputs": [],
   "source": []
  }
 ],
 "metadata": {
  "kernelspec": {
   "display_name": "Python 3",
   "language": "python",
   "name": "python3"
  },
  "language_info": {
   "codemirror_mode": {
    "name": "ipython",
    "version": 3
   },
   "file_extension": ".py",
   "mimetype": "text/x-python",
   "name": "python",
   "nbconvert_exporter": "python",
   "pygments_lexer": "ipython3",
   "version": "3.7.1"
  }
 },
 "nbformat": 4,
 "nbformat_minor": 2
}
