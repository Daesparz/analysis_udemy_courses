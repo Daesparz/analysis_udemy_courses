{
 "cells": [
  {
   "cell_type": "markdown",
   "metadata": {},
   "source": [
    "# Extracting descriptions, reviews, ratings, target audience and more useful features from html files of courses"
   ]
  },
  {
   "cell_type": "code",
   "execution_count": 1,
   "metadata": {},
   "outputs": [],
   "source": [
    "import re\n",
    "import pandas as pd"
   ]
  },
  {
   "cell_type": "markdown",
   "metadata": {},
   "source": [
    "Web Scraping packages:"
   ]
  },
  {
   "cell_type": "code",
   "execution_count": 2,
   "metadata": {},
   "outputs": [],
   "source": [
    "from urllib.request import Request, urlopen\n",
    "from urllib.error import HTTPError, URLError\n",
    "from bs4 import BeautifulSoup as soup"
   ]
  },
  {
   "cell_type": "code",
   "execution_count": 3,
   "metadata": {},
   "outputs": [],
   "source": [
    "def description(soup_str):\n",
    "    \"\"\"\n",
    "    Return the description of every course if it exists. Otherwise,\n",
    "    return None.\n",
    "    \"\"\"\n",
    "    try:\n",
    "        description = soup_str[soup_str.find('Description'): soup_str.find('Who this course is for:')]\n",
    "        description = description.replace('\\n', '').replace('\\xa0', '').replace('Description', '')\n",
    "    except:\n",
    "        description = None\n",
    "        \n",
    "    return description"
   ]
  },
  {
   "cell_type": "code",
   "execution_count": 4,
   "metadata": {},
   "outputs": [],
   "source": [
    "def target_audience(soup_str):\n",
    "    try:\n",
    "        target = soup_str[soup_str.find('Who this course is for:'):soup_str.find('Featured review')]\n",
    "        target = target.replace('\\n', '').replace('\\xa0', '').replace('Who this course is for:', '')\n",
    "    except:\n",
    "        target = None\n",
    "        \n",
    "    return target"
   ]
  },
  {
   "cell_type": "code",
   "execution_count": 5,
   "metadata": {},
   "outputs": [],
   "source": [
    "def featured_review(soup_str):\n",
    "    try:\n",
    "        review = soup_str[soup_str.find('Featured review'): soup_str.find('•')]\n",
    "        review = review.replace('\\n', '').replace('\\xa0', '').replace('Featured review', '')\n",
    "    except:\n",
    "        review = None\n",
    "        \n",
    "    return review"
   ]
  },
  {
   "cell_type": "code",
   "execution_count": 6,
   "metadata": {},
   "outputs": [],
   "source": [
    "def ratingValue(soup_str):\n",
    "    try:\n",
    "        rating_str = re.search(r'\"ratingValue\":\"\\d.\\d+\"', soup_str).group()\n",
    "        rating = rating_str[15:18]\n",
    "        rating_float = float(rating)\n",
    "    except:\n",
    "        rating_float = None\n",
    "        \n",
    "    return rating_float"
   ]
  },
  {
   "cell_type": "code",
   "execution_count": 7,
   "metadata": {},
   "outputs": [],
   "source": [
    "def audienceType(soup_str):\n",
    "    audience = soup_str[soup_str.find('\"audienceType'): soup_str.find('\"@type\":\"Audience\"')]\n",
    "    audience = audience.replace('\"audienceType\":', '').replace('\"', '').replace('[', '').replace('],', '')\n",
    "    audience_list = audience.split(',')\n",
    "    \n",
    "    return audience_list"
   ]
  },
  {
   "cell_type": "code",
   "execution_count": 8,
   "metadata": {},
   "outputs": [],
   "source": [
    "def requirements(soup_str):\n",
    "    requirements = soup_str[soup_str.find('Requirements'): soup_str.find('Who this course is for:')]\n",
    "    requirements = requirements.replace('Requirements', '').replace('\"', '').replace('\\n', '').replace('\\xa0', '')\n",
    "    \n",
    "    return requirements"
   ]
  },
  {
   "cell_type": "code",
   "execution_count": 9,
   "metadata": {},
   "outputs": [],
   "source": [
    "def courseId(soup_str):\n",
    "    try:\n",
    "        course = re.search(r'\"course:\\d+\"', soup_str).group()\n",
    "        course_int = int(course.replace('\"', '')[7:])\n",
    "    except:\n",
    "        course_int = None\n",
    "    return course_int"
   ]
  },
  {
   "cell_type": "code",
   "execution_count": 10,
   "metadata": {},
   "outputs": [],
   "source": [
    "def ratingCount(soup_str):\n",
    "    try:\n",
    "        ratingCount = re.search(r'\"ratingCount\":\\d+', soup_str).group() \n",
    "        rating = int(ratingCount[14:])\n",
    "    except:\n",
    "        rating = None\n",
    "    return rating"
   ]
  },
  {
   "cell_type": "markdown",
   "metadata": {},
   "source": [
    "Example:"
   ]
  },
  {
   "cell_type": "code",
   "execution_count": 11,
   "metadata": {},
   "outputs": [],
   "source": [
    "with open('../Data/interim/scraping/course0.html') as f:\n",
    "    s = soup(f, 'html')\n",
    "    soup_str = s.prettify()\n",
    "    descript = description(soup_str)\n",
    "    review = featured_review(soup_str)\n",
    "    rating = ratingValue(soup_str)\n",
    "    audience = audienceType(soup_str)\n",
    "    counter = ratingCount(soup_str)\n",
    "    course = courseId(soup_str)\n",
    "    req = requirements(soup_str)"
   ]
  },
  {
   "cell_type": "code",
   "execution_count": 12,
   "metadata": {},
   "outputs": [
    {
     "data": {
      "text/plain": [
       "\"Accounting is one of the most important skills for people pursuing a career in Finance.It helps you understand whether a business is profitable.It gives you an idea of a company’s size.It helps you use the past in order to take action in the present and change the future.However, it’s essential that you understand it well. If you want to become…a Financial Analystan Accountantan Auditora Business Analysta Financial Controllera Financial Managera CFOa CEOan Investment Bankeran Equity Research Analystan Investor an Entrepreneur Someone who is involved with a business and would like to be successfulThen you simply have to learn Accounting and Financial Statement Analysis. There is no way around it.But how can you do that if you have very limited time and no prior training? And how can you be sure that you are not missing an important piece of the puzzle?Accounting &amp; Financial Statement Analysis: Complete Training is here for you. One of the best Finance courses available on Udemy, it includes everything you’ll need. We will start from the very basics and then gradually build a solid foundation that will serve you well throughout your career.What makes this course different from the rest of the Accounting courses that are out there?High quality of production – HD video and animations (This isn’t a collection of boring lectures!)Knowledgeable instructor (experience in Big 4 Accounting + Master in Finance)Financial Statement Analysis: We will learn how to use information about the past in order to predict how a business will fare in the futureExtensive Case Studies that will help you reinforce everything that you’ve learnedExcellent support: If you don’t understand a concept or you simply want to drop us a line, you’ll receive an answer within two business daysDynamic: We don’t want to waste your time! The instructor keeps up a very good pace throughout the whole course.How come accounting is so important?It’s about money, right? If you want to understand how money is coming in and going out of a business, you will have to learn accounting.Here are 5 more reasons why you should take this course and learn accounting:Jobs. A solid understanding of accounting usually lands you a sweet job as an accountant and opens doors for a number of career paths.Promotions. Accountants are promoted very easily inside large corporationsMick Jagger studied accountingSecure Future. Accounting skills remain with you and provide extra security. You won’t ever have to fear unemploymentGirls dig accountants! Guys who can tell the difference between debits and credits are proven to be the most popular with womenPlease don’t forget that the course comes with Udemy’s 30-day unconditional money-back-in-full guarantee. And why not give such a guarantee, when we are convinced that the course will provide a ton of value for you?Enroll today and let's start this journey together!\""
      ]
     },
     "execution_count": 12,
     "metadata": {},
     "output_type": "execute_result"
    }
   ],
   "source": [
    "descript"
   ]
  },
  {
   "cell_type": "code",
   "execution_count": 13,
   "metadata": {},
   "outputs": [
    {
     "data": {
      "text/plain": [
       "'Hartadi Anggoro Pamungkas(1 course,1 review)a year agoIt was really really easy to understand, really efficient in terms of time, and very effective. You don\\'t need much effort to understand what the instructor teaching, not to mention I can practice it easily, thanks to the material that was arranged very well with a balance proportion between theory and practice material. Awesome! Love your work!Course contentExpand all54 lectures03:17:52+–Introduction to Accounting - Why Accounting Is Important?5 lectures11:59What Does The Course Cover?Preview01:14What Is Accounting and Why Do We Need It?Preview05:27Why do we need Accounting?1 questionThe Importance of Bookkeeping - Good Accounting Records Are EssentialPreview02:34The importance of Bookkeeping1 questionFinancial Accounting - Who Needs Financial Reports?Preview02:44Financial Accounting1 questionCourse Notes - Download1 page+–The Three Main Statements in Financial Accounting7 lectures26:15The Three Main Financial Statements: P&amp;L, Balance Sheet and Cash Flow02:52Income Statement ItemsPreview05:55Revenue types - practical exercise01:47Depreciation and amortization04:48Balance sheet items04:36The types of assets - practical example03:47The types of liabilities - practical example02:30The Three Main Statements in FInancial Accounting3 questions+–Understanding the Big Picture: Why, What, When, and How Much in Accounting4 lectures07:35The Revenue Recognition Principle - Why Is it so Important?02:28Completing 33% of the course00:32The Expense Recognition Principle - When to Recognize Expenses02:09Historical Cost vs. Fair Value Accounting02:26+–Let\\'s Build a Solid Foundation: Core Accounting Principles That You Should Learn5 lectures16:17The Accounting Equation and How It Stays in Balance02:00The Accounting Equation1 question General &amp; Subsidiary Ledgers - This Is How a Firm Organizes Its Accounts01:42General and Subsidiary Ledgers1 questionMaking Sense of Debits and Credits! It Does Not Have To Be Hard04:22Income Statement T-Accounts02:56T-Accounts1 questionThe Cornerstone Principle of Accounting - Double Entry Bookkeeping05:17Double-Entry Bookkeeping1 questionQuiz Number 34 questions+–A COMPLETE Case Study: Bookkeeping Records + Income Statement + Balance Sheet6 lectures35:41Practical Exercise: Bookkeeping entries + Building a P&amp;L &amp; a Balance Sheet (1/4)Preview10:20Case Study (Part 1)2 questionsCompleting 50% of the course00:39Practical Exercise: Bookkeeping entries + Building a P&amp;L &amp; a Balance Sheet (2/4)07:39Practical Exercise: Bookkeeping entries + Building a P&amp;L &amp; a Balance Sheet (3/4)07:30Case Study (Part 2)2 questionsPractical Exercise: Bookkeeping entries + Building a P&amp;L &amp; a Balance Sheet (4/4)08:14Case Study (Part 3)2 questionsCourse Challenge - Build a P&amp;L and Balance Sheet from scratch01:19Case Study (Part 4)2 questions+–Accounting &amp; Timing: Income and Cash Flow Are Two Different Things4 lectures15:34The Importance of Timing: Revenue and Expense Recognition01:12The Difference Between Cash Flow and Profit - A Must Know For Every Entrepreneur06:16The Timing of Payments: Here Is How Many Business Owners Improve Their Cash Flow03:51The Four Type of Accruals Arising in Accounting Transactions04:15+–Preparing a Cash Flow Statement: Understanding Cash Flow Analysis5 lectures16:59Calculating Cash Flows - Understand if a business makes or burns cash02:44The three parts of Cash Flow statements explained02:15Cash Flow computations - The Direct method02:02 Cash Flow computations - The Indirect method03:40Calculating Cash Flow in practice: A complete example06:18Quiz Number 43 questions+–Introduction to Financial Reporting3 lectures11:53Introduction to Financial Statements02:33Let\\'s Open P&amp;G\\'s 2015 Financial Report and Take a Look At It Together06:53Who Verifies That The Figures Presented in Financial Statements Are Correct?02:27Quiz Number 52 questions+–Financial Statement Analysis: Science and Practice8 lectures30:54The Essence of Financial Statement Analysis: Four Key Dimensions01:57Calculating Subtotals, Totals and Year-on-Year Growth01:41Key Mechanics of Financial Statement Analysis: Performing a Meaningful Analysis03:02Using Different P&amp;L and Balance Sheet Formats + Horizontal and Vertical Analysis03:37An Introduction to the \"Days\" Methodology: Understanding Working Capital Trends01:23Financial Ratios Every Investor Should Use: Understanding Financial Ratios07:36Quiz Number 62 questionsPractical Exercise: Analyzing P&amp;G\\'s Business Through Financial Ratios (1 of 2)06:55Practical Exercise: Analyzing P&amp;G\\'s Business Through Financial Ratios (2 of 2)04:43Calculate financial ratios and analyze Tesla Inc.\\'s financials in terms of liquidity, profitability, solvency, and growth.Financial statement analysis1 question+–Financial Statement Analysis - Tesla exercise7 lectures23:44What you will see next in this section01:02How to download Tesla\\'s historical financials02:11Calculating and analyzing growth and profitability ratios10:03Calculating and analyzing liquidity ratios07:06Calculating and analyzing solvency ratios01:47 Congratulations!01:03Completing 100% of the course00:32Udemy for BusinessTeach on UdemyUdemy appAbout usCareersBlogHelp and SupportAffiliateSitemapFeatured coursesEnglishCopyright © 2020 Udemy, Inc.TermsPrivacy Policy and Cookie PolicySitemapFeatured coursesGet the app  </p> </body></html'"
      ]
     },
     "execution_count": 13,
     "metadata": {},
     "output_type": "execute_result"
    }
   ],
   "source": [
    "review"
   ]
  },
  {
   "cell_type": "code",
   "execution_count": 14,
   "metadata": {},
   "outputs": [
    {
     "data": {
      "text/plain": [
       "4.6"
      ]
     },
     "execution_count": 14,
     "metadata": {},
     "output_type": "execute_result"
    }
   ],
   "source": [
    "rating"
   ]
  },
  {
   "cell_type": "code",
   "execution_count": 15,
   "metadata": {},
   "outputs": [
    {
     "data": {
      "text/plain": [
       "['Aspiring Accountants and Financial Analysts',\n",
       " 'Aspiring Investment Bankers',\n",
       " 'Aspiring Financial Controllers',\n",
       " 'Business Owners',\n",
       " 'Accounting Students',\n",
       " \"Anyone wishing to understand a company's financials\",\n",
       " 'Anyone wishing to be successful in the world of Business \\\\u0026 Finance']"
      ]
     },
     "execution_count": 15,
     "metadata": {},
     "output_type": "execute_result"
    }
   ],
   "source": [
    "audience"
   ]
  },
  {
   "cell_type": "code",
   "execution_count": 16,
   "metadata": {},
   "outputs": [
    {
     "data": {
      "text/plain": [
       "3663"
      ]
     },
     "execution_count": 16,
     "metadata": {},
     "output_type": "execute_result"
    }
   ],
   "source": [
    "counter"
   ]
  },
  {
   "cell_type": "code",
   "execution_count": 17,
   "metadata": {},
   "outputs": [
    {
     "data": {
      "text/plain": [
       "640100"
      ]
     },
     "execution_count": 17,
     "metadata": {},
     "output_type": "execute_result"
    }
   ],
   "source": [
    "course"
   ]
  },
  {
   "cell_type": "code",
   "execution_count": 18,
   "metadata": {},
   "outputs": [
    {
     "data": {
      "text/plain": [
       "\"No prior knowledge of accounting is assumed or neededThere is nothing to buy or pay for - everything is included for freeYou'll need a notebook and a penDescriptionAccounting is one of the most important skills for people pursuing a career in Finance.It helps you understand whether a business is profitable.It gives you an idea of a company’s size.It helps you use the past in order to take action in the present and change the future.However, it’s essential that you understand it well. If you want to become…a Financial Analystan Accountantan Auditora Business Analysta Financial Controllera Financial Managera CFOa CEOan Investment Bankeran Equity Research Analystan Investor an Entrepreneur Someone who is involved with a business and would like to be successfulThen you simply have to learn Accounting and Financial Statement Analysis. There is no way around it.But how can you do that if you have very limited time and no prior training? And how can you be sure that you are not missing an important piece of the puzzle?Accounting &amp; Financial Statement Analysis: Complete Training is here for you. One of the best Finance courses available on Udemy, it includes everything you’ll need. We will start from the very basics and then gradually build a solid foundation that will serve you well throughout your career.What makes this course different from the rest of the Accounting courses that are out there?High quality of production – HD video and animations (This isn’t a collection of boring lectures!)Knowledgeable instructor (experience in Big 4 Accounting + Master in Finance)Financial Statement Analysis: We will learn how to use information about the past in order to predict how a business will fare in the futureExtensive Case Studies that will help you reinforce everything that you’ve learnedExcellent support: If you don’t understand a concept or you simply want to drop us a line, you’ll receive an answer within two business daysDynamic: We don’t want to waste your time! The instructor keeps up a very good pace throughout the whole course.How come accounting is so important?It’s about money, right? If you want to understand how money is coming in and going out of a business, you will have to learn accounting.Here are 5 more reasons why you should take this course and learn accounting:Jobs. A solid understanding of accounting usually lands you a sweet job as an accountant and opens doors for a number of career paths.Promotions. Accountants are promoted very easily inside large corporationsMick Jagger studied accountingSecure Future. Accounting skills remain with you and provide extra security. You won’t ever have to fear unemploymentGirls dig accountants! Guys who can tell the difference between debits and credits are proven to be the most popular with womenPlease don’t forget that the course comes with Udemy’s 30-day unconditional money-back-in-full guarantee. And why not give such a guarantee, when we are convinced that the course will provide a ton of value for you?Enroll today and let's start this journey together!\""
      ]
     },
     "execution_count": 18,
     "metadata": {},
     "output_type": "execute_result"
    }
   ],
   "source": [
    "req"
   ]
  },
  {
   "cell_type": "code",
   "execution_count": null,
   "metadata": {},
   "outputs": [],
   "source": []
  }
 ],
 "metadata": {
  "kernelspec": {
   "display_name": "Python 3",
   "language": "python",
   "name": "python3"
  },
  "language_info": {
   "codemirror_mode": {
    "name": "ipython",
    "version": 3
   },
   "file_extension": ".py",
   "mimetype": "text/x-python",
   "name": "python",
   "nbconvert_exporter": "python",
   "pygments_lexer": "ipython3",
   "version": "3.7.1"
  }
 },
 "nbformat": 4,
 "nbformat_minor": 2
}
