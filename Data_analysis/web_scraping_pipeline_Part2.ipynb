{
 "cells": [
  {
   "cell_type": "markdown",
   "metadata": {},
   "source": [
    "# Extracting descriptions, reviews, ratings, target audience and more useful features from html files of courses"
   ]
  },
  {
   "cell_type": "code",
   "execution_count": 1,
   "metadata": {},
   "outputs": [],
   "source": [
    "import re\n",
    "import pandas as pd"
   ]
  },
  {
   "cell_type": "markdown",
   "metadata": {},
   "source": [
    "Web Scraping packages:"
   ]
  },
  {
   "cell_type": "code",
   "execution_count": 2,
   "metadata": {},
   "outputs": [],
   "source": [
    "from urllib.request import Request, urlopen\n",
    "from urllib.error import HTTPError, URLError\n",
    "from bs4 import BeautifulSoup as soup"
   ]
  },
  {
   "cell_type": "code",
   "execution_count": 3,
   "metadata": {},
   "outputs": [],
   "source": [
    "def description(soup_str):\n",
    "    \"\"\"\n",
    "    Return the description of every course if it exists. Otherwise,\n",
    "    return None.\n",
    "    \"\"\"\n",
    "    try:\n",
    "        description = soup_str[soup_str.find('Description'): soup_str.find('Who this course is for:')]\n",
    "        description = description.replace('\\n', '').replace('\\xa0', '').replace('Description', '')\n",
    "    except:\n",
    "        description = None\n",
    "        \n",
    "    return description"
   ]
  },
  {
   "cell_type": "code",
   "execution_count": 4,
   "metadata": {},
   "outputs": [],
   "source": [
    "def target_audience(soup_str):\n",
    "    try:\n",
    "        target = soup_str[soup_str.find('Who this course is for:'):soup_str.find('Featured review')]\n",
    "        target = target.replace('\\n', '').replace('\\xa0', '').replace('Who this course is for:', '')\n",
    "    except:\n",
    "        target = None\n",
    "        \n",
    "    return target"
   ]
  },
  {
   "cell_type": "code",
   "execution_count": 5,
   "metadata": {},
   "outputs": [],
   "source": [
    "def featured_review(soup_str):\n",
    "    try:\n",
    "        review = soup_str[soup_str.find('Featured review'): soup_str.find('Course content')]\n",
    "        review = review.replace('\\n', '').replace('\\xa0', '').replace('Featured review', '')\n",
    "    except:\n",
    "        review = None\n",
    "        \n",
    "    return review"
   ]
  },
  {
   "cell_type": "markdown",
   "metadata": {},
   "source": [
    "Example:"
   ]
  },
  {
   "cell_type": "code",
   "execution_count": 6,
   "metadata": {},
   "outputs": [],
   "source": [
    "with open('../Data/interim/scraping/course0.html') as f:\n",
    "    s = soup(f, 'html')\n",
    "    soup_str = s.prettify()\n",
    "    descript = description(soup_str)\n",
    "    target = target_audience(soup_str)\n",
    "    review = featured_review(soup_str)"
   ]
  },
  {
   "cell_type": "code",
   "execution_count": 7,
   "metadata": {},
   "outputs": [
    {
     "data": {
      "text/plain": [
       "\"Accounting is one of the most important skills for people pursuing a career in Finance.It helps you understand whether a business is profitable.It gives you an idea of a company’s size.It helps you use the past in order to take action in the present and change the future.However, it’s essential that you understand it well. If you want to become…a Financial Analystan Accountantan Auditora Business Analysta Financial Controllera Financial Managera CFOa CEOan Investment Bankeran Equity Research Analystan Investor an Entrepreneur Someone who is involved with a business and would like to be successfulThen you simply have to learn Accounting and Financial Statement Analysis. There is no way around it.But how can you do that if you have very limited time and no prior training? And how can you be sure that you are not missing an important piece of the puzzle?Accounting &amp; Financial Statement Analysis: Complete Training is here for you. One of the best Finance courses available on Udemy, it includes everything you’ll need. We will start from the very basics and then gradually build a solid foundation that will serve you well throughout your career.What makes this course different from the rest of the Accounting courses that are out there?High quality of production – HD video and animations (This isn’t a collection of boring lectures!)Knowledgeable instructor (experience in Big 4 Accounting + Master in Finance)Financial Statement Analysis: We will learn how to use information about the past in order to predict how a business will fare in the futureExtensive Case Studies that will help you reinforce everything that you’ve learnedExcellent support: If you don’t understand a concept or you simply want to drop us a line, you’ll receive an answer within two business daysDynamic: We don’t want to waste your time! The instructor keeps up a very good pace throughout the whole course.How come accounting is so important?It’s about money, right? If you want to understand how money is coming in and going out of a business, you will have to learn accounting.Here are 5 more reasons why you should take this course and learn accounting:Jobs. A solid understanding of accounting usually lands you a sweet job as an accountant and opens doors for a number of career paths.Promotions. Accountants are promoted very easily inside large corporationsMick Jagger studied accountingSecure Future. Accounting skills remain with you and provide extra security. You won’t ever have to fear unemploymentGirls dig accountants! Guys who can tell the difference between debits and credits are proven to be the most popular with womenPlease don’t forget that the course comes with Udemy’s 30-day unconditional money-back-in-full guarantee. And why not give such a guarantee, when we are convinced that the course will provide a ton of value for you?Enroll today and let's start this journey together!\""
      ]
     },
     "execution_count": 7,
     "metadata": {},
     "output_type": "execute_result"
    }
   ],
   "source": [
    "descript"
   ]
  },
  {
   "cell_type": "code",
   "execution_count": 8,
   "metadata": {},
   "outputs": [
    {
     "data": {
      "text/plain": [
       "\"Aspiring Accountants and Financial AnalystsAspiring Investment BankersAspiring Financial ControllersBusiness OwnersAccounting StudentsAnyone wishing to understand a company's financialsAnyone wishing to be successful in the world of Business &amp; Finance\""
      ]
     },
     "execution_count": 8,
     "metadata": {},
     "output_type": "execute_result"
    }
   ],
   "source": [
    "target"
   ]
  },
  {
   "cell_type": "code",
   "execution_count": 9,
   "metadata": {},
   "outputs": [
    {
     "data": {
      "text/plain": [
       "\"Hartadi Anggoro Pamungkas(1 course,1 review)a year agoIt was really really easy to understand, really efficient in terms of time, and very effective. You don't need much effort to understand what the instructor teaching, not to mention I can practice it easily, thanks to the material that was arranged very well with a balance proportion between theory and practice material. Awesome! Love your work!\""
      ]
     },
     "execution_count": 9,
     "metadata": {},
     "output_type": "execute_result"
    }
   ],
   "source": [
    "review"
   ]
  },
  {
   "cell_type": "code",
   "execution_count": null,
   "metadata": {},
   "outputs": [],
   "source": []
  }
 ],
 "metadata": {
  "kernelspec": {
   "display_name": "Python 3",
   "language": "python",
   "name": "python3"
  },
  "language_info": {
   "codemirror_mode": {
    "name": "ipython",
    "version": 3
   },
   "file_extension": ".py",
   "mimetype": "text/x-python",
   "name": "python",
   "nbconvert_exporter": "python",
   "pygments_lexer": "ipython3",
   "version": "3.7.1"
  }
 },
 "nbformat": 4,
 "nbformat_minor": 2
}
