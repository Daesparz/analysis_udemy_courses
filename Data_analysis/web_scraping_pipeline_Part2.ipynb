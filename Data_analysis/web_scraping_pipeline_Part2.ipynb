{
 "cells": [
  {
   "cell_type": "markdown",
   "metadata": {},
   "source": [
    "# Extracting descriptions, reviews, ratings, target audience and more useful features from html files of courses"
   ]
  },
  {
   "cell_type": "code",
   "execution_count": 1,
   "metadata": {},
   "outputs": [],
   "source": [
    "import re\n",
    "import pandas as pd\n",
    "from bs4 import BeautifulSoup as soup"
   ]
  },
  {
   "cell_type": "code",
   "execution_count": 2,
   "metadata": {},
   "outputs": [],
   "source": [
    "def description(soup_str):\n",
    "    \"\"\"\n",
    "    Return the description of every course if it exists. Otherwise,\n",
    "    return None.\n",
    "    \"\"\"\n",
    "    try:\n",
    "        description = soup_str[soup_str.find('Description'): soup_str.find('Who this course is for:')]\n",
    "        description = description.replace('\\n', '').replace('\\xa0', '').replace('Description', '')\n",
    "    except:\n",
    "        description = None\n",
    "        \n",
    "    return description"
   ]
  },
  {
   "cell_type": "code",
   "execution_count": 3,
   "metadata": {},
   "outputs": [],
   "source": [
    "def target_audience(soup_str):\n",
    "    try:\n",
    "        target = soup_str[soup_str.find('Who this course is for:'):soup_str.find('Featured review')]\n",
    "        target = target.replace('\\n', '').replace('\\xa0', '').replace('Who this course is for:', '')\n",
    "    except:\n",
    "        target = None\n",
    "        \n",
    "    return target"
   ]
  },
  {
   "cell_type": "code",
   "execution_count": 4,
   "metadata": {},
   "outputs": [],
   "source": [
    "def featured_review(soup_str):\n",
    "    try:\n",
    "        review = soup_str[soup_str.find('Featured review'): soup_str.find('•')]\n",
    "        review = review.replace('\\n', '').replace('\\xa0', '').replace('Featured review', '')\n",
    "    except:\n",
    "        review = None\n",
    "        \n",
    "    return review"
   ]
  },
  {
   "cell_type": "code",
   "execution_count": 5,
   "metadata": {},
   "outputs": [],
   "source": [
    "def ratingValue(soup_str):\n",
    "    try:\n",
    "        rating_str = re.search(r'\"ratingValue\":\"\\d.\\d+\"', soup_str).group()\n",
    "        rating = rating_str[15:18]\n",
    "        rating_float = float(rating)\n",
    "    except:\n",
    "        rating_float = None\n",
    "        \n",
    "    return rating_float"
   ]
  },
  {
   "cell_type": "code",
   "execution_count": 6,
   "metadata": {},
   "outputs": [],
   "source": [
    "def audienceType(soup_str):\n",
    "    \n",
    "    audience = soup_str[soup_str.find('\"audienceType'): soup_str.find('\"@type\":\"Audience\"')]\n",
    "    audience = audience.replace('\"audienceType\":', '').replace('\"', '').replace('[', '').replace('],', '')\n",
    "    \n",
    "    if audience == '':\n",
    "        try:\n",
    "            audience = soup_str[soup_str.find('\"audienceType\":'): soup_str.find('.\"]')]\n",
    "            audience = audience.replace('\"audienceType\":', '').replace('\"', '').replace('[', '')        \n",
    "        except:\n",
    "            pass\n",
    "    \n",
    "    try:\n",
    "        audience_list = audience.split(',')\n",
    "    except:\n",
    "        audience_list = ''\n",
    "\n",
    "    return audience_list"
   ]
  },
  {
   "cell_type": "code",
   "execution_count": 7,
   "metadata": {},
   "outputs": [],
   "source": [
    "def requirements(soup_str):\n",
    "    requirements = soup_str[soup_str.find('Requirements'): soup_str.find('Who this course is for:')]\n",
    "    try:\n",
    "        requirements = requirements[requirements.find('Requirements'): requirements.find('Description')]\n",
    "    except:\n",
    "        pass\n",
    "        \n",
    "    requirements = requirements.replace('Requirements', '').replace('\"', '').replace('\\n', '').replace('\\xa0', '')\n",
    "    \n",
    "    return requirements"
   ]
  },
  {
   "cell_type": "code",
   "execution_count": 8,
   "metadata": {},
   "outputs": [],
   "source": [
    "def courseId(soup_str):\n",
    "    try:\n",
    "        course = re.search(r'\"course:\\d+\"', soup_str).group()\n",
    "        course_int = int(course.replace('\"', '')[7:])\n",
    "    except:\n",
    "        course_int = None\n",
    "    return course_int"
   ]
  },
  {
   "cell_type": "code",
   "execution_count": 9,
   "metadata": {},
   "outputs": [],
   "source": [
    "def ratingCount(soup_str):\n",
    "    try:\n",
    "        ratingCount = re.search(r'\"ratingCount\":\\d+', soup_str).group() \n",
    "        rating = int(ratingCount[14:])\n",
    "    except:\n",
    "        rating = None\n",
    "    return rating"
   ]
  },
  {
   "cell_type": "code",
   "execution_count": 10,
   "metadata": {},
   "outputs": [],
   "source": [
    "def language(soup_str):\n",
    "    try:\n",
    "        language_line = re.search(r'\"language_simple_english_title\":\"\\w+\"', soup_str).group() \n",
    "        language_line = language_line.replace('\"', '')\n",
    "        language = language_line.split(':')[1]\n",
    "        \n",
    "    except:\n",
    "        language = None\n",
    "    return language"
   ]
  },
  {
   "cell_type": "markdown",
   "metadata": {},
   "source": [
    "Example:"
   ]
  },
  {
   "cell_type": "code",
   "execution_count": 11,
   "metadata": {},
   "outputs": [],
   "source": [
    "with open('../Data/interim/scraping/course0.html') as f:\n",
    "    s = soup(f, 'html')\n",
    "    soup_str = s.prettify()\n",
    "    descript = description(soup_str)\n",
    "    rating = ratingValue(soup_str)\n",
    "    audience = audienceType(soup_str)\n",
    "    counter = ratingCount(soup_str)\n",
    "    course = courseId(soup_str)\n",
    "    req = requirements(soup_str)\n",
    "    lang = language(soup_str)"
   ]
  },
  {
   "cell_type": "code",
   "execution_count": 12,
   "metadata": {},
   "outputs": [
    {
     "data": {
      "text/plain": [
       "\"Accounting is one of the most important skills for people pursuing a career in Finance.It helps you understand whether a business is profitable.It gives you an idea of a company’s size.It helps you use the past in order to take action in the present and change the future.However, it’s essential that you understand it well. If you want to become…a Financial Analystan Accountantan Auditora Business Analysta Financial Controllera Financial Managera CFOa CEOan Investment Bankeran Equity Research Analystan Investor an Entrepreneur Someone who is involved with a business and would like to be successfulThen you simply have to learn Accounting and Financial Statement Analysis. There is no way around it.But how can you do that if you have very limited time and no prior training? And how can you be sure that you are not missing an important piece of the puzzle?Accounting &amp; Financial Statement Analysis: Complete Training is here for you. One of the best Finance courses available on Udemy, it includes everything you’ll need. We will start from the very basics and then gradually build a solid foundation that will serve you well throughout your career.What makes this course different from the rest of the Accounting courses that are out there?High quality of production – HD video and animations (This isn’t a collection of boring lectures!)Knowledgeable instructor (experience in Big 4 Accounting + Master in Finance)Financial Statement Analysis: We will learn how to use information about the past in order to predict how a business will fare in the futureExtensive Case Studies that will help you reinforce everything that you’ve learnedExcellent support: If you don’t understand a concept or you simply want to drop us a line, you’ll receive an answer within two business daysDynamic: We don’t want to waste your time! The instructor keeps up a very good pace throughout the whole course.How come accounting is so important?It’s about money, right? If you want to understand how money is coming in and going out of a business, you will have to learn accounting.Here are 5 more reasons why you should take this course and learn accounting:Jobs. A solid understanding of accounting usually lands you a sweet job as an accountant and opens doors for a number of career paths.Promotions. Accountants are promoted very easily inside large corporationsMick Jagger studied accountingSecure Future. Accounting skills remain with you and provide extra security. You won’t ever have to fear unemploymentGirls dig accountants! Guys who can tell the difference between debits and credits are proven to be the most popular with womenPlease don’t forget that the course comes with Udemy’s 30-day unconditional money-back-in-full guarantee. And why not give such a guarantee, when we are convinced that the course will provide a ton of value for you?Enroll today and let's start this journey together!\""
      ]
     },
     "execution_count": 12,
     "metadata": {},
     "output_type": "execute_result"
    }
   ],
   "source": [
    "descript"
   ]
  },
  {
   "cell_type": "code",
   "execution_count": 13,
   "metadata": {},
   "outputs": [
    {
     "data": {
      "text/plain": [
       "4.6"
      ]
     },
     "execution_count": 13,
     "metadata": {},
     "output_type": "execute_result"
    }
   ],
   "source": [
    "rating"
   ]
  },
  {
   "cell_type": "code",
   "execution_count": 14,
   "metadata": {},
   "outputs": [
    {
     "data": {
      "text/plain": [
       "['Aspiring Accountants and Financial Analysts',\n",
       " 'Aspiring Investment Bankers',\n",
       " 'Aspiring Financial Controllers',\n",
       " 'Business Owners',\n",
       " 'Accounting Students',\n",
       " \"Anyone wishing to understand a company's financials\",\n",
       " 'Anyone wishing to be successful in the world of Business \\\\u0026 Finance']"
      ]
     },
     "execution_count": 14,
     "metadata": {},
     "output_type": "execute_result"
    }
   ],
   "source": [
    "audience"
   ]
  },
  {
   "cell_type": "code",
   "execution_count": 15,
   "metadata": {},
   "outputs": [
    {
     "data": {
      "text/plain": [
       "3663"
      ]
     },
     "execution_count": 15,
     "metadata": {},
     "output_type": "execute_result"
    }
   ],
   "source": [
    "counter"
   ]
  },
  {
   "cell_type": "code",
   "execution_count": 16,
   "metadata": {},
   "outputs": [
    {
     "data": {
      "text/plain": [
       "640100"
      ]
     },
     "execution_count": 16,
     "metadata": {},
     "output_type": "execute_result"
    }
   ],
   "source": [
    "course"
   ]
  },
  {
   "cell_type": "code",
   "execution_count": 17,
   "metadata": {},
   "outputs": [
    {
     "data": {
      "text/plain": [
       "\"No prior knowledge of accounting is assumed or neededThere is nothing to buy or pay for - everything is included for freeYou'll need a notebook and a pen\""
      ]
     },
     "execution_count": 17,
     "metadata": {},
     "output_type": "execute_result"
    }
   ],
   "source": [
    "req"
   ]
  },
  {
   "cell_type": "code",
   "execution_count": 18,
   "metadata": {},
   "outputs": [
    {
     "data": {
      "text/plain": [
       "'English'"
      ]
     },
     "execution_count": 18,
     "metadata": {},
     "output_type": "execute_result"
    }
   ],
   "source": [
    "lang"
   ]
  },
  {
   "cell_type": "code",
   "execution_count": 19,
   "metadata": {},
   "outputs": [],
   "source": [
    "descriptionList = []\n",
    "ratingList = []\n",
    "audienceList = []\n",
    "counterList = []\n",
    "courseIdList = []\n",
    "requirementsList = []\n",
    "languageList = []"
   ]
  },
  {
   "cell_type": "code",
   "execution_count": 20,
   "metadata": {},
   "outputs": [],
   "source": [
    "for i in range(1000):\n",
    "    with open('../Data/interim/scraping/course'+str(i)+'.html') as f:\n",
    "        s = soup(f, 'html')\n",
    "        soup_str = s.prettify()\n",
    "        #Append information on the respective list\n",
    "        descriptionList.append(description(soup_str))\n",
    "        ratingList.append(ratingValue(soup_str))\n",
    "        audienceList.append(audienceType(soup_str))\n",
    "        counterList.append(ratingCount(soup_str))\n",
    "        courseIdList.append(courseId(soup_str))\n",
    "        requirementsList.append(requirements(soup_str))\n",
    "        languageList.append(language(soup_str))"
   ]
  },
  {
   "cell_type": "code",
   "execution_count": 21,
   "metadata": {},
   "outputs": [],
   "source": [
    "d = {'description': descriptionList, \n",
    "     'rating': ratingList,\n",
    "     'audience': audienceList,\n",
    "     'counter': counterList,\n",
    "     'course': courseIdList,\n",
    "     'requirements': requirementsList,\n",
    "     'language': languageList}"
   ]
  },
  {
   "cell_type": "code",
   "execution_count": 22,
   "metadata": {},
   "outputs": [],
   "source": [
    "assert len(d['description']) == len(d['rating']) \n",
    "assert len(d['description']) == len(d['audience'])\n",
    "assert len(d['description']) == len(d['counter'])\n",
    "assert len(d['description']) == len(d['course'])\n",
    "assert len(d['description']) == len(d['requirements'])\n",
    "assert len(d['description']) == len(d['language'])"
   ]
  },
  {
   "cell_type": "code",
   "execution_count": 23,
   "metadata": {},
   "outputs": [],
   "source": [
    "df_Data = pd.DataFrame(data=d)"
   ]
  },
  {
   "cell_type": "code",
   "execution_count": 24,
   "metadata": {},
   "outputs": [
    {
     "data": {
      "text/html": [
       "<div>\n",
       "<style scoped>\n",
       "    .dataframe tbody tr th:only-of-type {\n",
       "        vertical-align: middle;\n",
       "    }\n",
       "\n",
       "    .dataframe tbody tr th {\n",
       "        vertical-align: top;\n",
       "    }\n",
       "\n",
       "    .dataframe thead th {\n",
       "        text-align: right;\n",
       "    }\n",
       "</style>\n",
       "<table border=\"1\" class=\"dataframe\">\n",
       "  <thead>\n",
       "    <tr style=\"text-align: right;\">\n",
       "      <th></th>\n",
       "      <th>description</th>\n",
       "      <th>rating</th>\n",
       "      <th>audience</th>\n",
       "      <th>counter</th>\n",
       "      <th>course</th>\n",
       "      <th>requirements</th>\n",
       "      <th>language</th>\n",
       "    </tr>\n",
       "  </thead>\n",
       "  <tbody>\n",
       "    <tr>\n",
       "      <th>0</th>\n",
       "      <td>Accounting is one of the most important skills...</td>\n",
       "      <td>4.6</td>\n",
       "      <td>[Aspiring Accountants and Financial Analysts, ...</td>\n",
       "      <td>3663.0</td>\n",
       "      <td>640100.0</td>\n",
       "      <td>No prior knowledge of accounting is assumed or...</td>\n",
       "      <td>English</td>\n",
       "    </tr>\n",
       "    <tr>\n",
       "      <th>1</th>\n",
       "      <td>This course is an introduction to the financia...</td>\n",
       "      <td>3.6</td>\n",
       "      <td>[Students in business and Finance, Auditors, I...</td>\n",
       "      <td>33.0</td>\n",
       "      <td>385604.0</td>\n",
       "      <td>some knowledge of accounting</td>\n",
       "      <td>English</td>\n",
       "    </tr>\n",
       "    <tr>\n",
       "      <th>2</th>\n",
       "      <td>*Course Fully Updated for May 2019*The don’t c...</td>\n",
       "      <td>4.7</td>\n",
       "      <td>[Anyone interested in earning an extra income ...</td>\n",
       "      <td>300.0</td>\n",
       "      <td>834836.0</td>\n",
       "      <td>You will need some basic knowledge of stock an...</td>\n",
       "      <td>English</td>\n",
       "    </tr>\n",
       "    <tr>\n",
       "      <th>3</th>\n",
       "      <td>This Mortgage Acceleration course will teach y...</td>\n",
       "      <td>3.7</td>\n",
       "      <td>[This Mortgage Acceleration course is designed...</td>\n",
       "      <td>7.0</td>\n",
       "      <td>504620.0</td>\n",
       "      <td>Students will need a reliable computer and int...</td>\n",
       "      <td>English</td>\n",
       "    </tr>\n",
       "    <tr>\n",
       "      <th>4</th>\n",
       "      <td>This course is for bookkeepers, accountants an...</td>\n",
       "      <td>3.9</td>\n",
       "      <td>[Individuals / Directors who want to submit th...</td>\n",
       "      <td>10.0</td>\n",
       "      <td>359926.0</td>\n",
       "      <td>It would be helpful if you understood accounti...</td>\n",
       "      <td>English</td>\n",
       "    </tr>\n",
       "  </tbody>\n",
       "</table>\n",
       "</div>"
      ],
      "text/plain": [
       "                                         description  rating  \\\n",
       "0  Accounting is one of the most important skills...     4.6   \n",
       "1  This course is an introduction to the financia...     3.6   \n",
       "2  *Course Fully Updated for May 2019*The don’t c...     4.7   \n",
       "3  This Mortgage Acceleration course will teach y...     3.7   \n",
       "4  This course is for bookkeepers, accountants an...     3.9   \n",
       "\n",
       "                                            audience  counter    course  \\\n",
       "0  [Aspiring Accountants and Financial Analysts, ...   3663.0  640100.0   \n",
       "1  [Students in business and Finance, Auditors, I...     33.0  385604.0   \n",
       "2  [Anyone interested in earning an extra income ...    300.0  834836.0   \n",
       "3  [This Mortgage Acceleration course is designed...      7.0  504620.0   \n",
       "4  [Individuals / Directors who want to submit th...     10.0  359926.0   \n",
       "\n",
       "                                        requirements language  \n",
       "0  No prior knowledge of accounting is assumed or...  English  \n",
       "1                       some knowledge of accounting  English  \n",
       "2  You will need some basic knowledge of stock an...  English  \n",
       "3  Students will need a reliable computer and int...  English  \n",
       "4  It would be helpful if you understood accounti...  English  "
      ]
     },
     "execution_count": 24,
     "metadata": {},
     "output_type": "execute_result"
    }
   ],
   "source": [
    "df_Data.head()"
   ]
  },
  {
   "cell_type": "code",
   "execution_count": 25,
   "metadata": {},
   "outputs": [
    {
     "name": "stdout",
     "output_type": "stream",
     "text": [
      "<class 'pandas.core.frame.DataFrame'>\n",
      "RangeIndex: 1000 entries, 0 to 999\n",
      "Data columns (total 7 columns):\n",
      "description     1000 non-null object\n",
      "rating          757 non-null float64\n",
      "audience        1000 non-null object\n",
      "counter         757 non-null float64\n",
      "course          757 non-null float64\n",
      "requirements    1000 non-null object\n",
      "language        998 non-null object\n",
      "dtypes: float64(3), object(4)\n",
      "memory usage: 54.8+ KB\n"
     ]
    }
   ],
   "source": [
    "df_Data.info()"
   ]
  },
  {
   "cell_type": "markdown",
   "metadata": {},
   "source": [
    "Save scraped data in the `interim` folder:"
   ]
  },
  {
   "cell_type": "code",
   "execution_count": 27,
   "metadata": {},
   "outputs": [],
   "source": [
    "df_Data.to_csv('../Data/interim/df_scrapedData.csv', index=False)"
   ]
  },
  {
   "cell_type": "code",
   "execution_count": null,
   "metadata": {},
   "outputs": [],
   "source": []
  }
 ],
 "metadata": {
  "kernelspec": {
   "display_name": "Python 3",
   "language": "python",
   "name": "python3"
  },
  "language_info": {
   "codemirror_mode": {
    "name": "ipython",
    "version": 3
   },
   "file_extension": ".py",
   "mimetype": "text/x-python",
   "name": "python",
   "nbconvert_exporter": "python",
   "pygments_lexer": "ipython3",
   "version": "3.7.1"
  }
 },
 "nbformat": 4,
 "nbformat_minor": 2
}
